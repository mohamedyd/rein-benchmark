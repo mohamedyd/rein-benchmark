{
 "cells": [
  {
   "cell_type": "markdown",
   "metadata": {},
   "source": [
    "\n",
    "## How to use Error Generator ?\n",
    "\n"
   ]
  },
  {
   "cell_type": "markdown",
   "metadata": {},
   "source": [
    "### Clone the project\n",
    "\n",
    "``` git clone https://github.com/BigDaMa/error-generator.git ```"
   ]
  },
  {
   "cell_type": "markdown",
   "metadata": {},
   "source": [
    "### Run setup"
   ]
  },
  {
   "cell_type": "markdown",
   "metadata": {},
   "source": [
    "please open the command line and put\n",
    "\n",
    "\n",
    "``` python setup.py install ```"
   ]
  },
  {
   "cell_type": "markdown",
   "metadata": {},
   "source": [
    "### Importing project"
   ]
  },
  {
   "cell_type": "code",
   "execution_count": 1,
   "metadata": {},
   "outputs": [],
   "source": [
    "from error_generator import Explicit_Missing_Value\n",
    "from error_generator import Implicit_Missing_Value\n",
    "from error_generator import White_Noise\n",
    "from error_generator import Gaussian_Noise\n",
    "from error_generator import Random_Active_Domain\n",
    "from error_generator import Similar_Based_Active_Domain\n",
    "from error_generator import Typo_Keyboard\n",
    "from error_generator import Typo_Butterfingers\n",
    "from error_generator import Word2vec_Nearest_Neighbor\n",
    "from error_generator import Value_Selector\n",
    "from error_generator import List_selected\n",
    "from error_generator import Read_Write\n",
    "from error_generator import Error_Generator"
   ]
  },
  {
   "cell_type": "markdown",
   "metadata": {},
   "source": [
    "### Load the dataset"
   ]
  },
  {
   "cell_type": "code",
   "execution_count": 2,
   "metadata": {},
   "outputs": [],
   "source": [
    "dataset,dataframe = Read_Write.read_csv_dataset(\"./datasets/test.csv\")"
   ]
  },
  {
   "cell_type": "markdown",
   "metadata": {},
   "source": [
    "### Choose your strategy "
   ]
  },
  {
   "cell_type": "code",
   "execution_count": 37,
   "metadata": {},
   "outputs": [],
   "source": [
    "mymethod=Typo_Keyboard()\n",
    "# mymethod=Typo_Butterfingers()\n",
    "\n",
    "\n",
    "# mymethod=Similar_Based_Active_Domain()\n",
    "# mymethod=Random_Active_Domain()\n",
    "\n",
    "\n",
    "# mymethod=White_Noise()\n",
    "# mymethod=Gaussian_Noise()\n",
    "\n",
    "# mymethod=Implicit_Missing_Value()\n",
    "# mymethod=Explicit_Missing_Value()\n",
    "\n",
    "# mymethod=Word2vec_Nearest_Neighbor()\n",
    "\n"
   ]
  },
  {
   "cell_type": "markdown",
   "metadata": {},
   "source": [
    "### Choose your selector"
   ]
  },
  {
   "cell_type": "code",
   "execution_count": 38,
   "metadata": {},
   "outputs": [],
   "source": [
    "myselector=List_selected()"
   ]
  },
  {
   "cell_type": "markdown",
   "metadata": {},
   "source": [
    "### Choose your generator"
   ]
  },
  {
   "cell_type": "code",
   "execution_count": 39,
   "metadata": {},
   "outputs": [],
   "source": [
    "mygen=Error_Generator()"
   ]
  },
  {
   "cell_type": "markdown",
   "metadata": {},
   "source": [
    "### Run the program\n",
    "- Percentage : How much do you need error?\n",
    "- Mute column: Columns that should be safe in error generator proccess"
   ]
  },
  {
   "cell_type": "code",
   "execution_count": 40,
   "metadata": {},
   "outputs": [
    {
     "name": "stdout",
     "output_type": "stream",
     "text": [
      "---------Change according to Explicit_Missing_Value method ---------------\n",
      "\n",
      "row: 2 col: 4 : '1645 WINTERGREEN LN UNIT A' changed to ''  \n",
      "row: 9 col: 5 : 'SAN DIEGO' changed to ''  \n",
      "row: 1 col: 3 : 'ROSS' changed to ''  \n",
      "row: 5 col: 0 : 'A994698' changed to ''  \n",
      "row: 3 col: 3 : 'WILSON' changed to ''  \n"
     ]
    }
   ],
   "source": [
    "new_dataset=mygen.error_generator(method_gen=mymethod,selector=myselector,percentage=50,dataset=dataset,mute_column=[1,2])"
   ]
  },
  {
   "cell_type": "markdown",
   "metadata": {},
   "source": [
    "### save the output"
   ]
  },
  {
   "cell_type": "code",
   "execution_count": 8,
   "metadata": {},
   "outputs": [],
   "source": [
    "Read_Write.write_csv_dataset(\"./outputs/{}.csv\".format(mymethod.name), new_dataset)"
   ]
  },
  {
   "cell_type": "code",
   "execution_count": null,
   "metadata": {},
   "outputs": [],
   "source": []
  }
 ],
 "metadata": {
  "kernelspec": {
   "display_name": "Python 3",
   "language": "python",
   "name": "python3"
  },
  "language_info": {
   "codemirror_mode": {
    "name": "ipython",
    "version": 3
   },
   "file_extension": ".py",
   "mimetype": "text/x-python",
   "name": "python",
   "nbconvert_exporter": "python",
   "pygments_lexer": "ipython3",
   "version": "3.6.4"
  }
 },
 "nbformat": 4,
 "nbformat_minor": 2
}
