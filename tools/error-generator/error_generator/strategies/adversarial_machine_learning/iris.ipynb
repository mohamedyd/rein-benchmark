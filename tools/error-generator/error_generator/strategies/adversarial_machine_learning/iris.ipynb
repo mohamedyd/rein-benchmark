{
 "cells": [
  {
   "cell_type": "markdown",
   "metadata": {},
   "source": [
    "# load the data and first test the base line "
   ]
  },
  {
   "cell_type": "code",
   "execution_count": 1,
   "metadata": {},
   "outputs": [
    {
     "name": "stderr",
     "output_type": "stream",
     "text": [
      "/home/milad/anaconda3/lib/python3.6/site-packages/sklearn/cross_validation.py:41: DeprecationWarning: This module was deprecated in version 0.18 in favor of the model_selection module into which all the refactored classes and functions are moved. Also note that the interface of the new CV iterators are different from that of this module. This module will be removed in 0.20.\n",
      "  \"This module will be removed in 0.20.\", DeprecationWarning)\n"
     ]
    }
   ],
   "source": [
    "# import load_iris function from datasets module\n",
    "from sklearn.datasets import load_iris\n",
    "from sklearn.cross_validation import train_test_split\n",
    "from sklearn.naive_bayes import MultinomialNB\n",
    "from sklearn.metrics import f1_score\n",
    "from sklearn.metrics import accuracy_score\n",
    "from sklearn.metrics import classification_report\n",
    "from sklearn.metrics import confusion_matrix\n",
    "import random\n",
    "import numpy as np"
   ]
  },
  {
   "cell_type": "code",
   "execution_count": 2,
   "metadata": {},
   "outputs": [
    {
     "name": "stdout",
     "output_type": "stream",
     "text": [
      "[[ 5.1  3.5  1.4  0.2]\n",
      " [ 4.9  3.   1.4  0.2]\n",
      " [ 4.7  3.2  1.3  0.2]\n",
      " [ 4.6  3.1  1.5  0.2]\n",
      " [ 5.   3.6  1.4  0.2]\n",
      " [ 5.4  3.9  1.7  0.4]\n",
      " [ 4.6  3.4  1.4  0.3]\n",
      " [ 5.   3.4  1.5  0.2]\n",
      " [ 4.4  2.9  1.4  0.2]\n",
      " [ 4.9  3.1  1.5  0.1]\n",
      " [ 5.4  3.7  1.5  0.2]\n",
      " [ 4.8  3.4  1.6  0.2]\n",
      " [ 4.8  3.   1.4  0.1]\n",
      " [ 4.3  3.   1.1  0.1]\n",
      " [ 5.8  4.   1.2  0.2]\n",
      " [ 5.7  4.4  1.5  0.4]\n",
      " [ 5.4  3.9  1.3  0.4]\n",
      " [ 5.1  3.5  1.4  0.3]\n",
      " [ 5.7  3.8  1.7  0.3]\n",
      " [ 5.1  3.8  1.5  0.3]\n",
      " [ 5.4  3.4  1.7  0.2]\n",
      " [ 5.1  3.7  1.5  0.4]\n",
      " [ 4.6  3.6  1.   0.2]\n",
      " [ 5.1  3.3  1.7  0.5]\n",
      " [ 4.8  3.4  1.9  0.2]\n",
      " [ 5.   3.   1.6  0.2]\n",
      " [ 5.   3.4  1.6  0.4]\n",
      " [ 5.2  3.5  1.5  0.2]\n",
      " [ 5.2  3.4  1.4  0.2]\n",
      " [ 4.7  3.2  1.6  0.2]\n",
      " [ 4.8  3.1  1.6  0.2]\n",
      " [ 5.4  3.4  1.5  0.4]\n",
      " [ 5.2  4.1  1.5  0.1]\n",
      " [ 5.5  4.2  1.4  0.2]\n",
      " [ 4.9  3.1  1.5  0.1]\n",
      " [ 5.   3.2  1.2  0.2]\n",
      " [ 5.5  3.5  1.3  0.2]\n",
      " [ 4.9  3.1  1.5  0.1]\n",
      " [ 4.4  3.   1.3  0.2]\n",
      " [ 5.1  3.4  1.5  0.2]\n",
      " [ 5.   3.5  1.3  0.3]\n",
      " [ 4.5  2.3  1.3  0.3]\n",
      " [ 4.4  3.2  1.3  0.2]\n",
      " [ 5.   3.5  1.6  0.6]\n",
      " [ 5.1  3.8  1.9  0.4]\n",
      " [ 4.8  3.   1.4  0.3]\n",
      " [ 5.1  3.8  1.6  0.2]\n",
      " [ 4.6  3.2  1.4  0.2]\n",
      " [ 5.3  3.7  1.5  0.2]\n",
      " [ 5.   3.3  1.4  0.2]\n",
      " [ 7.   3.2  4.7  1.4]\n",
      " [ 6.4  3.2  4.5  1.5]\n",
      " [ 6.9  3.1  4.9  1.5]\n",
      " [ 5.5  2.3  4.   1.3]\n",
      " [ 6.5  2.8  4.6  1.5]\n",
      " [ 5.7  2.8  4.5  1.3]\n",
      " [ 6.3  3.3  4.7  1.6]\n",
      " [ 4.9  2.4  3.3  1. ]\n",
      " [ 6.6  2.9  4.6  1.3]\n",
      " [ 5.2  2.7  3.9  1.4]\n",
      " [ 5.   2.   3.5  1. ]\n",
      " [ 5.9  3.   4.2  1.5]\n",
      " [ 6.   2.2  4.   1. ]\n",
      " [ 6.1  2.9  4.7  1.4]\n",
      " [ 5.6  2.9  3.6  1.3]\n",
      " [ 6.7  3.1  4.4  1.4]\n",
      " [ 5.6  3.   4.5  1.5]\n",
      " [ 5.8  2.7  4.1  1. ]\n",
      " [ 6.2  2.2  4.5  1.5]\n",
      " [ 5.6  2.5  3.9  1.1]\n",
      " [ 5.9  3.2  4.8  1.8]\n",
      " [ 6.1  2.8  4.   1.3]\n",
      " [ 6.3  2.5  4.9  1.5]\n",
      " [ 6.1  2.8  4.7  1.2]\n",
      " [ 6.4  2.9  4.3  1.3]\n",
      " [ 6.6  3.   4.4  1.4]\n",
      " [ 6.8  2.8  4.8  1.4]\n",
      " [ 6.7  3.   5.   1.7]\n",
      " [ 6.   2.9  4.5  1.5]\n",
      " [ 5.7  2.6  3.5  1. ]\n",
      " [ 5.5  2.4  3.8  1.1]\n",
      " [ 5.5  2.4  3.7  1. ]\n",
      " [ 5.8  2.7  3.9  1.2]\n",
      " [ 6.   2.7  5.1  1.6]\n",
      " [ 5.4  3.   4.5  1.5]\n",
      " [ 6.   3.4  4.5  1.6]\n",
      " [ 6.7  3.1  4.7  1.5]\n",
      " [ 6.3  2.3  4.4  1.3]\n",
      " [ 5.6  3.   4.1  1.3]\n",
      " [ 5.5  2.5  4.   1.3]\n",
      " [ 5.5  2.6  4.4  1.2]\n",
      " [ 6.1  3.   4.6  1.4]\n",
      " [ 5.8  2.6  4.   1.2]\n",
      " [ 5.   2.3  3.3  1. ]\n",
      " [ 5.6  2.7  4.2  1.3]\n",
      " [ 5.7  3.   4.2  1.2]\n",
      " [ 5.7  2.9  4.2  1.3]\n",
      " [ 6.2  2.9  4.3  1.3]\n",
      " [ 5.1  2.5  3.   1.1]\n",
      " [ 5.7  2.8  4.1  1.3]\n",
      " [ 6.3  3.3  6.   2.5]\n",
      " [ 5.8  2.7  5.1  1.9]\n",
      " [ 7.1  3.   5.9  2.1]\n",
      " [ 6.3  2.9  5.6  1.8]\n",
      " [ 6.5  3.   5.8  2.2]\n",
      " [ 7.6  3.   6.6  2.1]\n",
      " [ 4.9  2.5  4.5  1.7]\n",
      " [ 7.3  2.9  6.3  1.8]\n",
      " [ 6.7  2.5  5.8  1.8]\n",
      " [ 7.2  3.6  6.1  2.5]\n",
      " [ 6.5  3.2  5.1  2. ]\n",
      " [ 6.4  2.7  5.3  1.9]\n",
      " [ 6.8  3.   5.5  2.1]\n",
      " [ 5.7  2.5  5.   2. ]\n",
      " [ 5.8  2.8  5.1  2.4]\n",
      " [ 6.4  3.2  5.3  2.3]\n",
      " [ 6.5  3.   5.5  1.8]\n",
      " [ 7.7  3.8  6.7  2.2]\n",
      " [ 7.7  2.6  6.9  2.3]\n",
      " [ 6.   2.2  5.   1.5]\n",
      " [ 6.9  3.2  5.7  2.3]\n",
      " [ 5.6  2.8  4.9  2. ]\n",
      " [ 7.7  2.8  6.7  2. ]\n",
      " [ 6.3  2.7  4.9  1.8]\n",
      " [ 6.7  3.3  5.7  2.1]\n",
      " [ 7.2  3.2  6.   1.8]\n",
      " [ 6.2  2.8  4.8  1.8]\n",
      " [ 6.1  3.   4.9  1.8]\n",
      " [ 6.4  2.8  5.6  2.1]\n",
      " [ 7.2  3.   5.8  1.6]\n",
      " [ 7.4  2.8  6.1  1.9]\n",
      " [ 7.9  3.8  6.4  2. ]\n",
      " [ 6.4  2.8  5.6  2.2]\n",
      " [ 6.3  2.8  5.1  1.5]\n",
      " [ 6.1  2.6  5.6  1.4]\n",
      " [ 7.7  3.   6.1  2.3]\n",
      " [ 6.3  3.4  5.6  2.4]\n",
      " [ 6.4  3.1  5.5  1.8]\n",
      " [ 6.   3.   4.8  1.8]\n",
      " [ 6.9  3.1  5.4  2.1]\n",
      " [ 6.7  3.1  5.6  2.4]\n",
      " [ 6.9  3.1  5.1  2.3]\n",
      " [ 5.8  2.7  5.1  1.9]\n",
      " [ 6.8  3.2  5.9  2.3]\n",
      " [ 6.7  3.3  5.7  2.5]\n",
      " [ 6.7  3.   5.2  2.3]\n",
      " [ 6.3  2.5  5.   1.9]\n",
      " [ 6.5  3.   5.2  2. ]\n",
      " [ 6.2  3.4  5.4  2.3]\n",
      " [ 5.9  3.   5.1  1.8]]\n",
      "['sepal length (cm)', 'sepal width (cm)', 'petal length (cm)', 'petal width (cm)']\n",
      "[0 0 0 0 0 0 0 0 0 0 0 0 0 0 0 0 0 0 0 0 0 0 0 0 0 0 0 0 0 0 0 0 0 0 0 0 0\n",
      " 0 0 0 0 0 0 0 0 0 0 0 0 0 1 1 1 1 1 1 1 1 1 1 1 1 1 1 1 1 1 1 1 1 1 1 1 1\n",
      " 1 1 1 1 1 1 1 1 1 1 1 1 1 1 1 1 1 1 1 1 1 1 1 1 1 1 2 2 2 2 2 2 2 2 2 2 2\n",
      " 2 2 2 2 2 2 2 2 2 2 2 2 2 2 2 2 2 2 2 2 2 2 2 2 2 2 2 2 2 2 2 2 2 2 2 2 2\n",
      " 2 2]\n"
     ]
    }
   ],
   "source": [
    "# save \"bunch\" object containing iris dataset and its attributes\n",
    "iris = load_iris()\n",
    "type(iris)\n",
    "\n",
    "# print the iris data\n",
    "print(iris.data)\n",
    "\n",
    "\n",
    "# print the iris data\n",
    "# print(iris.data)\n",
    "\n",
    "\n",
    "# print the names of the four features\n",
    "print(iris.feature_names)\n",
    "\n",
    "\n",
    "# print integers representing the species of each observation# print \n",
    "print(iris.target)"
   ]
  },
  {
   "cell_type": "code",
   "execution_count": 3,
   "metadata": {},
   "outputs": [
    {
     "name": "stdout",
     "output_type": "stream",
     "text": [
      "['setosa' 'versicolor' 'virginica']\n"
     ]
    }
   ],
   "source": [
    "# print the encoding scheme for species: 0 = setosa, 1 = versicolor, 2 = virginica\n",
    "print(iris.target_names)"
   ]
  },
  {
   "cell_type": "code",
   "execution_count": 4,
   "metadata": {},
   "outputs": [],
   "source": [
    "# store feature matrix in \"X\"# store  \n",
    "X = iris.data\n",
    "\n",
    "# store response vector in \"y\"\n",
    "y = iris.target"
   ]
  },
  {
   "cell_type": "code",
   "execution_count": 5,
   "metadata": {},
   "outputs": [],
   "source": [
    "x_train_orginal, x_test_orginal, y_train_orginal, y_test_orginal = train_test_split(X, y, test_size=0.2, random_state=4)"
   ]
  },
  {
   "cell_type": "code",
   "execution_count": 6,
   "metadata": {},
   "outputs": [
    {
     "data": {
      "text/plain": [
       "MultinomialNB(alpha=1.0, class_prior=None, fit_prior=True)"
      ]
     },
     "execution_count": 6,
     "metadata": {},
     "output_type": "execute_result"
    }
   ],
   "source": [
    "mnb = MultinomialNB()\n",
    "mnb.fit(x_train_orginal,y_train_orginal)\n"
   ]
  },
  {
   "cell_type": "markdown",
   "metadata": {},
   "source": [
    "# result of the model  on test data (First step)"
   ]
  },
  {
   "cell_type": "code",
   "execution_count": 7,
   "metadata": {},
   "outputs": [
    {
     "name": "stdout",
     "output_type": "stream",
     "text": [
      "f1 on test data is       0.8095238095238096\n",
      "Accuracy on test data is 0.8666666666666667\n"
     ]
    },
    {
     "data": {
      "text/plain": [
       "array([[16,  0,  0],\n",
       "       [ 0,  5,  0],\n",
       "       [ 0,  4,  5]])"
      ]
     },
     "execution_count": 7,
     "metadata": {},
     "output_type": "execute_result"
    }
   ],
   "source": [
    "#compute the f1 and accuracy\n",
    "\n",
    "y_pred=mnb.predict(x_test_orginal)\n",
    "\n",
    "print (\"f1 on test data is       {}\".format(f1_score(y_test_orginal, y_pred, average='macro')))\n",
    "print (\"Accuracy on test data is {}\".format(accuracy_score(y_test_orginal, y_pred)))\n",
    "confusion_matrix(y_test_orginal, y_pred)"
   ]
  },
  {
   "cell_type": "markdown",
   "metadata": {},
   "source": [
    "# base line\n",
    "- change one feature and chek the target (change function)\n",
    "- change randomly one value and check the target(change random)"
   ]
  },
  {
   "cell_type": "markdown",
   "metadata": {},
   "source": [
    "# change features one by one \n"
   ]
  },
  {
   "cell_type": "code",
   "execution_count": 8,
   "metadata": {},
   "outputs": [],
   "source": [
    "def change_baseline(x_train,y_train,percetage,mnb,change_plan):\n",
    "    number_change = int(percetage/100*x_train.shape[0])\n",
    "    \n",
    "    x_train_changed = np.copy(x_train)\n",
    "    row_history=[]\n",
    "    try_times = 0\n",
    "    occurred_change=0\n",
    "    change_done = False\n",
    "    \n",
    "        \n",
    "    for i in range(len(change_plan[\"number\"])):\n",
    "        for j in range(change_plan[\"number\"][i]):\n",
    "\n",
    "            change_done = False\n",
    "            while (change_done == False):\n",
    "\n",
    "                #find uniqe row & as same as user request \n",
    "                row = random.randint(1, x_train.shape[0]-1)\n",
    "                try_times = 0\n",
    "                while (mnb.predict([x_train[row]])[0] !=change_plan[\"key\"][i][0] or row in row_history): #row in row_history or\n",
    "\n",
    "                    row = random.randint(1, x_train.shape[0]-1)\n",
    "                    if try_times > len(y_train):\n",
    "                        print(\"your request is not possiable\")\n",
    "                        break \n",
    "                        \n",
    "                    try_times = try_times + 1\n",
    "                if try_times > len(y_train):\n",
    "                    print(\"part of your request can't run\")\n",
    "                    break\n",
    "                    \n",
    "                row_history.append(row)\n",
    "\n",
    "                for ii in range(x_train.shape[1]): # range(4)\n",
    "                    x_train_changed[row][ii] = 0\n",
    "\n",
    "                    if (change_plan[\"key\"][i][1] == mnb.predict([x_train_changed[row]])):\n",
    "                        print(x_train[row],mnb.predict([x_train[row]])[0])\n",
    "                        print(x_train_changed[row],mnb.predict([x_train_changed[row]])[0])\n",
    "                        occurred_change=occurred_change + 1\n",
    "                        change_done = True\n",
    "                        print(\" \\n change number {} \\n\".format(occurred_change))\n",
    "                        break\n",
    "                    else:\n",
    "#                         print(\"this change doesnot run\")\n",
    "                        x_train_changed[row]= np.copy(x_train[row])\n",
    "                \n",
    "\n",
    "\n",
    "    return np.copy(x_train_changed)\n",
    "        "
   ]
  },
  {
   "cell_type": "code",
   "execution_count": 9,
   "metadata": {},
   "outputs": [
    {
     "name": "stdout",
     "output_type": "stream",
     "text": [
      "[ 5.4  3.4  1.7  0.2] 0\n",
      "[ 5.4  0.   1.7  0.2] 1\n",
      " \n",
      " change number 1 \n",
      "\n",
      "[ 5.8  4.   1.2  0.2] 0\n",
      "[ 5.8  0.   1.2  0.2] 1\n",
      " \n",
      " change number 2 \n",
      "\n",
      "[ 4.9  3.1  1.5  0.1] 0\n",
      "[ 4.9  0.   1.5  0.1] 1\n",
      " \n",
      " change number 3 \n",
      "\n",
      "[ 5.1  3.8  1.5  0.3] 0\n",
      "[ 5.1  0.   1.5  0.3] 1\n",
      " \n",
      " change number 4 \n",
      "\n",
      "[ 4.7  3.2  1.6  0.2] 0\n",
      "[ 4.7  0.   1.6  0.2] 1\n",
      " \n",
      " change number 5 \n",
      "\n",
      "[ 4.8  3.4  1.9  0.2] 0\n",
      "[ 0.   3.4  1.9  0.2] 1\n",
      " \n",
      " change number 6 \n",
      "\n"
     ]
    }
   ],
   "source": [
    "change_plan={\"key\":[[0,1]],\"number\":[6]}\n",
    "baseline_out=change_baseline(x_test_orginal,y_test_orginal,20,mnb,change_plan)"
   ]
  },
  {
   "cell_type": "code",
   "execution_count": 10,
   "metadata": {},
   "outputs": [
    {
     "name": "stdout",
     "output_type": "stream",
     "text": [
      "f1 on same train data is       0.6611721611721612\n",
      "Accuracy on test data is 0.6666666666666666\n"
     ]
    },
    {
     "data": {
      "text/plain": [
       "array([[10,  6,  0],\n",
       "       [ 0,  5,  0],\n",
       "       [ 0,  4,  5]])"
      ]
     },
     "execution_count": 10,
     "metadata": {},
     "output_type": "execute_result"
    }
   ],
   "source": [
    "y_pred_baseline_changed=mnb.predict(baseline_out)\n",
    "\n",
    "\n",
    "print (\"f1 on same train data is       {}\".format(f1_score(y_test_orginal, y_pred_baseline_changed, average='macro')))\n",
    "print (\"Accuracy on test data is {}\".format(accuracy_score(y_test_orginal, y_pred_baseline_changed)))\n",
    "confusion_matrix(y_test_orginal,y_pred_baseline_changed)"
   ]
  },
  {
   "cell_type": "markdown",
   "metadata": {},
   "source": [
    "   # change random"
   ]
  },
  {
   "cell_type": "code",
   "execution_count": null,
   "metadata": {},
   "outputs": [],
   "source": [
    "\n"
   ]
  },
  {
   "cell_type": "code",
   "execution_count": 13,
   "metadata": {},
   "outputs": [],
   "source": [
    "def change_random(x_train,y_train,percetage,mnb,change_plan):\n",
    "    number_change_requested = int(percetage/100*x_train.shape[0])\n",
    "    \n",
    "    print(\"{} percentage error is equal to {} change \\n\".format(percetage,number_change_requested))\n",
    "    \n",
    "    success_row=[]\n",
    "    col_history=[]\n",
    "    fail_row=[]\n",
    "    occurred_change=0\n",
    "    try_times = 1\n",
    "    x_train_changed = np.copy(x_train)\n",
    "    \n",
    "            \n",
    "    for i in range(len(change_plan[\"number\"])):\n",
    "\n",
    "        success_row=[]\n",
    "        fail_row=[]\n",
    "        \n",
    "        for j in range(change_plan[\"number\"][i]):\n",
    "\n",
    "            change_done = False\n",
    "            while (change_done == False):\n",
    "\n",
    "                #find uniqe row & as same as user request \n",
    "                row = random.randint(0, x_train.shape[0]-1)\n",
    "                \n",
    "                while ((mnb.predict([x_train[row]])[0] !=change_plan[\"key\"][i][0]) or (y_train[row]!=change_plan[\"key\"][i][0])):\n",
    "                    if row not in fail_row:\n",
    "                        fail_row.append(row)\n",
    "                    row = random.randint(0, x_train.shape[0]-1)\n",
    "                    while(row in success_row):\n",
    "                        row = random.randint(0, x_train.shape[0]-1)\n",
    "                        if len(fail_row)+len(success_row)==len(y_train):\n",
    "#                             print(\"part of your request can't run\")\n",
    "                            break\n",
    "                    if len(fail_row)+len(success_row)==len(y_train):\n",
    "#                         print(\"your request is not possiable\")\n",
    "                        break\n",
    "\n",
    "                if row in success_row:\n",
    "                    if len(success_row)+len(fail_row)<len(y_train):\n",
    "                        while(row in success_row or row in fail_row):\n",
    "                            row = random.randint(0, x_train.shape[0]-1)\n",
    "                            print(row)\n",
    "\n",
    "\n",
    "                    break\n",
    "   \n",
    "                while (len(col_history)<=x_train.shape[1]): #range 4\n",
    "                    col = random.randint(0,x_train.shape[1]-1)\n",
    "                    while col in col_history:\n",
    "                        col = random.randint(0,x_train.shape[1]-1)\n",
    "                        if (len(col_history)==x_train.shape[1]):\n",
    "                            break\n",
    "                    col_history.append(col)\n",
    "\n",
    "                    \n",
    "                    x_train_changed[row][col] = 0\n",
    "                    fail_row =set(fail_row)-set(success_row)\n",
    "                    fail_row=list(fail_row)\n",
    "                    \n",
    "                    if (change_plan[\"key\"][i][1] == mnb.predict([x_train_changed[row]])[0]) and (y_train[row]==change_plan[\"key\"][i][0]) and (mnb.predict([x_train_changed[row]])[0]!=mnb.predict([x_train[row]])[0]):\n",
    "\n",
    "                        print(\"row is {}\".format(row))\n",
    "                        print(x_train[row],mnb.predict([x_train[row]])[0])\n",
    "                        print(x_train_changed[row],mnb.predict([x_train_changed[row]])[0])\n",
    "                        occurred_change=occurred_change + 1\n",
    "                        success_row.append(row)\n",
    "                        change_done = True\n",
    "                        col_history=[]\n",
    "                        \n",
    "                        print(\" \\n change number {} done\\n\".format(occurred_change))\n",
    "                        break\n",
    "                    else:\n",
    "                        x_train_changed[row]= np.copy(x_train[row])\n",
    "                \n",
    "                    if len(fail_row)+len(success_row)==len(y_train):\n",
    "                        break\n",
    "                        \n",
    "                if (occurred_change ==False) and (row not in fail_row):\n",
    "                    fail_row.append(row)\n",
    "\n",
    "            if row not in success_row:\n",
    "                fail_row.append(row)\n",
    "\n",
    "\n",
    "    if (occurred_change<number_change_requested):\n",
    "        print(\"your request doesn't complete! please change your plan\")\n",
    "\n",
    "\n",
    "    return np.copy(x_train_changed)\n",
    "         \n",
    "\n"
   ]
  },
  {
   "cell_type": "code",
   "execution_count": 14,
   "metadata": {},
   "outputs": [
    {
     "name": "stdout",
     "output_type": "stream",
     "text": [
      "20 percentage error is equal to 6 change \n",
      "\n",
      "row is 26\n",
      "[ 4.5  2.3  1.3  0.3] 0\n",
      "[ 0.   2.3  1.3  0.3] 1\n",
      " \n",
      " change number 1 done\n",
      "\n",
      "row is 23\n",
      "[ 5.   3.4  1.6  0.4] 0\n",
      "[ 5.   0.   1.6  0.4] 1\n",
      " \n",
      " change number 2 done\n",
      "\n",
      "row is 7\n",
      "[ 5.8  4.   1.2  0.2] 0\n",
      "[ 5.8  0.   1.2  0.2] 1\n",
      " \n",
      " change number 3 done\n",
      "\n",
      "row is 24\n",
      "[ 4.7  3.2  1.6  0.2] 0\n",
      "[ 4.7  0.   1.6  0.2] 1\n",
      " \n",
      " change number 4 done\n",
      "\n",
      "row is 25\n",
      "[ 5.1  3.8  1.5  0.3] 0\n",
      "[ 5.1  0.   1.5  0.3] 1\n",
      " \n",
      " change number 5 done\n",
      "\n",
      "row is 20\n",
      "[ 5.   3.2  1.2  0.2] 0\n",
      "[ 5.   0.   1.2  0.2] 1\n",
      " \n",
      " change number 6 done\n",
      "\n"
     ]
    }
   ],
   "source": [
    "change_plan={\"key\":[[0,1]],\"number\":[6]}\n",
    "new_random = change_random(x_test_orginal,y_test_orginal,20,mnb,change_plan)"
   ]
  },
  {
   "cell_type": "code",
   "execution_count": 15,
   "metadata": {},
   "outputs": [
    {
     "name": "stdout",
     "output_type": "stream",
     "text": [
      "Accuracy on new test data is 0.6666666666666666\n"
     ]
    },
    {
     "data": {
      "text/plain": [
       "array([[10,  6,  0],\n",
       "       [ 0,  5,  0],\n",
       "       [ 0,  4,  5]])"
      ]
     },
     "execution_count": 15,
     "metadata": {},
     "output_type": "execute_result"
    }
   ],
   "source": [
    "y_pred_test_changed_random=mnb.predict(new_random)\n",
    "\n",
    "\n",
    "print (\"Accuracy on new test data is {}\".format(accuracy_score(y_test_orginal, y_pred_test_changed_random)))\n",
    "confusion_matrix(y_test_orginal,y_pred_test_changed_random)"
   ]
  },
  {
   "cell_type": "markdown",
   "metadata": {},
   "source": [
    "# optimize random"
   ]
  },
  {
   "cell_type": "code",
   "execution_count": 16,
   "metadata": {},
   "outputs": [],
   "source": [
    "def optimize_random(x_train,y_train,percetage,mnb,change_plan):\n",
    "    number_change_requested = int(percetage/100*x_train.shape[0])\n",
    "    print(\"{} percentage error is equal to {} change \\n\".format(percetage,number_change_requested))\n",
    "    used_row=[]\n",
    "    col_history=[]\n",
    "    occurred_change = 0\n",
    "    all_changed = 1\n",
    "    x_train_changed = np.copy(x_train)\n",
    "    \n",
    "    for i in range(len(change_plan[\"number\"])):\n",
    "        occurred_change = 0\n",
    "        indices = [t for t, x in enumerate(y_train) if x == change_plan[\"key\"][i][0]]\n",
    "\n",
    "        for p in range (len(indices)):\n",
    "            if y_train[indices[p]] == mnb.predict([x_train[indices[p]]]):\n",
    "                \n",
    "                \n",
    "                while (len(col_history)<=x_train.shape[1]): #range 4\n",
    "                    col = random.randint(0,x_train.shape[1]-1)\n",
    "                    while col in col_history:\n",
    "                        col = random.randint(0,x_train.shape[1]-1)\n",
    "                        if (len(col_history)==x_train.shape[1]):\n",
    "                            break\n",
    "                    col_history.append(col)\n",
    "\n",
    "                    \n",
    "                    if occurred_change == change_plan[\"number\"][i]:\n",
    "                        col_history=[]\n",
    "                        break\n",
    "                    \n",
    "                    x_train_changed[indices[p]][col] = 0\n",
    "\n",
    "                    if (change_plan[\"key\"][i][1] == mnb.predict([x_train_changed[indices[p]]])[0]):\n",
    "                        \n",
    "                        print(x_train[indices[p]],mnb.predict([x_train[indices[p]]])[0])\n",
    "                        print(x_train_changed[indices[p]],mnb.predict([x_train_changed[indices[p]]])[0])\n",
    "                        print(\" \\n change number {} \\n\".format(all_changed))\n",
    "                        \n",
    "                        occurred_change=occurred_change + 1\n",
    "                        all_changed=all_changed + 1\n",
    "                        col_history=[]\n",
    "                        break\n",
    "                \n",
    "                    else:\n",
    "                        x_train_changed[indices[p]]= np.copy(x_train[indices[p]])\n",
    "                \n",
    "    if (all_changed<number_change_requested-1):\n",
    "        print(\"your request doesn't complete! please change your plan\")\n",
    "    return np.copy(x_train_changed)\n"
   ]
  },
  {
   "cell_type": "code",
   "execution_count": 17,
   "metadata": {},
   "outputs": [
    {
     "name": "stdout",
     "output_type": "stream",
     "text": [
      "20 percentage error is equal to 6 change \n",
      "\n",
      "[ 5.7  3.8  1.7  0.3] 0\n",
      "[ 5.7  0.   1.7  0.3] 1\n",
      " \n",
      " change number 1 \n",
      "\n",
      "[ 5.8  4.   1.2  0.2] 0\n",
      "[ 5.8  0.   1.2  0.2] 1\n",
      " \n",
      " change number 2 \n",
      "\n",
      "[ 5.4  3.9  1.7  0.4] 0\n",
      "[ 5.4  0.   1.7  0.4] 1\n",
      " \n",
      " change number 3 \n",
      "\n",
      "[ 5.   3.   1.6  0.2] 0\n",
      "[ 5.   0.   1.6  0.2] 1\n",
      " \n",
      " change number 4 \n",
      "\n",
      "[ 4.8  3.4  1.6  0.2] 0\n",
      "[ 4.8  0.   1.6  0.2] 1\n",
      " \n",
      " change number 5 \n",
      "\n",
      "[ 4.8  3.   1.4  0.1] 0\n",
      "[ 4.8  0.   1.4  0.1] 1\n",
      " \n",
      " change number 6 \n",
      "\n"
     ]
    }
   ],
   "source": [
    "change_plan={\"key\":[[0,1]],\"number\":[6]}\n",
    "optimize_out= optimize_random(x_test_orginal,y_test_orginal,20,mnb,change_plan)"
   ]
  },
  {
   "cell_type": "code",
   "execution_count": 18,
   "metadata": {},
   "outputs": [
    {
     "name": "stdout",
     "output_type": "stream",
     "text": [
      "f1 on same train data is       0.6611721611721612\n",
      "Accuracy on same train data is 0.6666666666666666\n"
     ]
    },
    {
     "data": {
      "text/plain": [
       "array([[10,  6,  0],\n",
       "       [ 0,  5,  0],\n",
       "       [ 0,  4,  5]])"
      ]
     },
     "execution_count": 18,
     "metadata": {},
     "output_type": "execute_result"
    }
   ],
   "source": [
    "y_pred_optimize=mnb.predict(optimize_out)\n",
    "\n",
    "\n",
    "\n",
    "\n",
    "print (\"f1 on same train data is       {}\".format(f1_score(y_test_orginal, y_pred_optimize, average='macro')))\n",
    "print (\"Accuracy on same train data is {}\".format(accuracy_score(y_test_orginal, y_pred_optimize)))\n",
    "confusion_matrix(y_test_orginal,y_pred_optimize)"
   ]
  },
  {
   "cell_type": "markdown",
   "metadata": {},
   "source": [
    "# find the most important features"
   ]
  },
  {
   "cell_type": "code",
   "execution_count": 19,
   "metadata": {},
   "outputs": [],
   "source": [
    "from mlxtend.feature_selection import SequentialFeatureSelector as SFS\n",
    "from sklearn.neighbors import KNeighborsClassifier"
   ]
  },
  {
   "cell_type": "code",
   "execution_count": 20,
   "metadata": {},
   "outputs": [
    {
     "name": "stderr",
     "output_type": "stream",
     "text": [
      "[Parallel(n_jobs=1)]: Done   1 out of   1 | elapsed:    0.0s remaining:    0.0s\n",
      "[Parallel(n_jobs=1)]: Done   4 out of   4 | elapsed:    0.0s finished\n",
      "\n",
      "[2018-10-09 16:24:47] Features: 1/1 -- score: 0.333333333333"
     ]
    }
   ],
   "source": [
    "mnb2 = MultinomialNB()\n",
    "\n",
    "sfs1 = SFS(mnb, \n",
    "           forward=True, \n",
    "           floating=False, \n",
    "           verbose=2,\n",
    "           scoring='accuracy',\n",
    "           cv=0)\n",
    "\n",
    "sfs1 = sfs1.fit(X, y)"
   ]
  },
  {
   "cell_type": "code",
   "execution_count": 21,
   "metadata": {},
   "outputs": [
    {
     "data": {
      "text/plain": [
       "{1: {'avg_score': 0.33333333333333331,\n",
       "  'cv_scores': array([ 0.33333333]),\n",
       "  'feature_idx': (0,)}}"
      ]
     },
     "execution_count": 21,
     "metadata": {},
     "output_type": "execute_result"
    }
   ],
   "source": [
    "sfs1.subsets_\n"
   ]
  },
  {
   "cell_type": "markdown",
   "metadata": {},
   "source": [
    "# most important feature"
   ]
  },
  {
   "cell_type": "code",
   "execution_count": 22,
   "metadata": {},
   "outputs": [
    {
     "data": {
      "text/plain": [
       "(0,)"
      ]
     },
     "execution_count": 22,
     "metadata": {},
     "output_type": "execute_result"
    }
   ],
   "source": [
    "sfs1.k_feature_idx_"
   ]
  },
  {
   "cell_type": "code",
   "execution_count": 57,
   "metadata": {},
   "outputs": [],
   "source": [
    "def change_spetial_feature(x_train,y_train,percetage,mnb,feature):\n",
    "    change_item=0\n",
    "    number_change_spetial = int(percetage/100*x_train.shape[0])\n",
    "    print(number_change_spetial)\n",
    "    \n",
    "    x_train_changed_spetial = np.copy(x_train)\n",
    "\n",
    "    for count,ele in enumerate(x_train_changed_spetial):\n",
    "        \n",
    "\n",
    "        x_train_changed_spetial[count][feature] = 0\n",
    "\n",
    "        if (y_train[count] != mnb.predict([x_train_changed_spetial[count]])):\n",
    "            change_item=change_item+1\n",
    "            if (change_item < number_change_spetial):\n",
    "\n",
    "                print(x_train[count],y_train[count])\n",
    "                print(x_train_changed_spetial[count],mnb.predict([x_train_changed_spetial[count]])[0])\n",
    "                print(\" \\n change number {} \\n\".format(change_item))\n",
    "            else:\n",
    "\n",
    "                break\n",
    "        else:\n",
    "            x_train_changed_spetial[count]= np.copy(x_train[count])\n",
    "\n",
    "    return np.copy(x_train_changed_spetial)"
   ]
  },
  {
   "cell_type": "code",
   "execution_count": 59,
   "metadata": {},
   "outputs": [
    {
     "name": "stdout",
     "output_type": "stream",
     "text": [
      "6\n",
      "[ 6.   2.9  4.5  1.5] 1\n",
      "[ 0.   2.9  4.5  1.5] 2\n",
      " \n",
      " change number 1 \n",
      "\n",
      "[ 6.   2.7  5.1  1.6] 1\n",
      "[ 0.   2.7  5.1  1.6] 2\n",
      " \n",
      " change number 2 \n",
      "\n",
      "[ 5.   3.   1.6  0.2] 0\n",
      "[ 0.   3.   1.6  0.2] 1\n",
      " \n",
      " change number 3 \n",
      "\n",
      "[ 6.1  2.9  4.7  1.4] 1\n",
      "[ 0.   2.9  4.7  1.4] 2\n",
      " \n",
      " change number 4 \n",
      "\n",
      "[ 5.   2.   3.5  1. ] 1\n",
      "[ 0.   2.   3.5  1. ] 2\n",
      " \n",
      " change number 5 \n",
      "\n"
     ]
    }
   ],
   "source": [
    "change_plan={\"key\":[[0,1],[2,1]],\"number\":[3,3]}\n",
    "new_random_spetial_feature = change_spetial_feature(x_test_orginal,y_test_orginal,20,mnb,0)"
   ]
  },
  {
   "cell_type": "code",
   "execution_count": 60,
   "metadata": {},
   "outputs": [
    {
     "name": "stdout",
     "output_type": "stream",
     "text": [
      "f1 on same train data is       0.5518518518518519\n",
      "Accuracy on same train data is 0.6666666666666666\n"
     ]
    },
    {
     "data": {
      "text/plain": [
       "array([[14,  2,  0],\n",
       "       [ 0,  1,  4],\n",
       "       [ 0,  4,  5]])"
      ]
     },
     "execution_count": 60,
     "metadata": {},
     "output_type": "execute_result"
    }
   ],
   "source": [
    "y_pred_train_changed_spetial=mnb.predict(new_random_spetial_feature)\n",
    "\n",
    "\n",
    "print (\"f1 on same train data is       {}\".format(f1_score(y_test_orginal, y_pred_train_changed_spetial, average='macro')))\n",
    "print (\"Accuracy on same train data is {}\".format(accuracy_score(y_test_orginal, y_pred_train_changed_spetial)))\n",
    "confusion_matrix(y_test_orginal,y_pred_train_changed_spetial)"
   ]
  },
  {
   "cell_type": "markdown",
   "metadata": {},
   "source": [
    "# change spetial feature as request of user"
   ]
  },
  {
   "cell_type": "code",
   "execution_count": 69,
   "metadata": {},
   "outputs": [],
   "source": [
    "def change_spetial_feature_new(x_train,y_train,percetage,mnb,change_plan,feature):\n",
    "    number_change_requested = int(percetage/100*x_train.shape[0])\n",
    "    print(\"{} percentage error is equal to {} change \\n\".format(percetage,number_change_requested))\n",
    "    \n",
    "    used_row=[]\n",
    "    col_history=[]\n",
    "    occurred_change = 0\n",
    "    all_changed = 1\n",
    "    x_train_changed = np.copy(x_train)\n",
    "    \n",
    "    for i in range(len(change_plan[\"number\"])):\n",
    "        occurred_change = 0\n",
    "        \n",
    "        indices = [t for t, x in enumerate(y_train) if x == change_plan[\"key\"][i][0]]\n",
    "        print(indices)\n",
    "        for p in range (len(indices)):\n",
    "            if y_train[indices[p]] == mnb.predict([x_train[indices[p]]]):\n",
    "            \n",
    "                x_train_changed[indices[p]][feature] = 0\n",
    "\n",
    "\n",
    "                if (change_plan[\"key\"][i][1] == mnb.predict([x_train_changed[indices[p]]])[0]):\n",
    "                    \n",
    "                    print(x_train[indices[p]],mnb.predict([x_train[indices[p]]])[0])\n",
    "                    print(x_train_changed[indices[p]],mnb.predict([x_train_changed[indices[p]]])[0])\n",
    "                    print(\" \\n change number {} \\n\".format(all_changed))\n",
    "\n",
    "                    occurred_change=occurred_change + 1\n",
    "                    all_changed=all_changed + 1\n",
    "                    col_history=[]\n",
    "                    break\n",
    "\n",
    "                else:\n",
    "                    x_train_changed[indices[p]]= np.copy(x_train[indices[p]])\n",
    "                \n",
    "    if (all_changed<number_change_requested-1):\n",
    "        print(\"your request doesn't complete! please change your plan\")\n",
    "    return np.copy(x_train_changed)\n",
    "    "
   ]
  },
  {
   "cell_type": "code",
   "execution_count": 70,
   "metadata": {},
   "outputs": [
    {
     "name": "stdout",
     "output_type": "stream",
     "text": [
      "20 percentage error is equal to 6 change \n",
      "\n",
      "[1, 7, 8, 10, 11, 12, 15, 17, 18, 20, 23, 24, 25, 26, 27, 28]\n",
      "[ 5.   3.   1.6  0.2] 0\n",
      "[ 0.   3.   1.6  0.2] 1\n",
      " \n",
      " change number 1 \n",
      "\n",
      "your request doesn't complete! please change your plan\n"
     ]
    }
   ],
   "source": [
    "change_plan={\"key\":[[0,1]],\"number\":[6]}\n",
    "new_random_spetial=change_spetial_feature_new(x_test_orginal,y_test_orginal,20,mnb,change_plan,0)"
   ]
  },
  {
   "cell_type": "code",
   "execution_count": null,
   "metadata": {},
   "outputs": [],
   "source": []
  },
  {
   "cell_type": "code",
   "execution_count": 61,
   "metadata": {},
   "outputs": [
    {
     "name": "stdout",
     "output_type": "stream",
     "text": [
      "[ 0.   3.   1.6  0.2]\n",
      "1\n"
     ]
    }
   ],
   "source": [
    "co=0\n",
    "for count1,ele1 in enumerate(new_random_spetial):\n",
    "    if ele1[0]==0:\n",
    "        co=co+1\n",
    "        print(new_random_spetial[count1])\n",
    "print(co)"
   ]
  },
  {
   "cell_type": "code",
   "execution_count": 85,
   "metadata": {},
   "outputs": [],
   "source": [
    "def max_indices(arr, k):\n",
    "    '''\n",
    "    Returns the indices of the k first largest elements of arr\n",
    "    (in descending order in values)\n",
    "    '''\n",
    "    assert k <= arr.size, 'k should be smaller or equal to the array size'\n",
    "    arr_ = arr.astype(float)  # make a copy of arr\n",
    "    max_idxs = []\n",
    "    for _ in range(k):\n",
    "        max_element = np.max(arr_)\n",
    "        if np.isinf(max_element):\n",
    "            break\n",
    "        else:\n",
    "            idx = np.where(arr_ == max_element)\n",
    "        max_idxs.append([int(idx[0]),int(idx[1])])\n",
    "        arr_[idx] = -np.inf\n",
    "    return max_idxs"
   ]
  },
  {
   "cell_type": "code",
   "execution_count": 92,
   "metadata": {},
   "outputs": [
    {
     "data": {
      "text/plain": [
       "[[1, 1], [0, 0], [2, 2], [2, 1]]"
      ]
     },
     "execution_count": 92,
     "metadata": {},
     "output_type": "execute_result"
    }
   ],
   "source": [
    "y_pred_train=mnb.predict(x_train_orginal)\n",
    "array=confusion_matrix(y_train_orginal, y_pred_train)\n",
    "max_indices(array,4)"
   ]
  },
  {
   "cell_type": "code",
   "execution_count": 87,
   "metadata": {},
   "outputs": [],
   "source": [
    "import seaborn as sn\n",
    "import pandas as pd\n",
    "import matplotlib.pyplot as plt\n",
    "\n",
    "def change_confuation_matrix(x_train,mnb):\n",
    "    y_pred_train=mnb.predict(x_train)\n",
    "    array=confusion_matrix(y_train_orginal, y_pred_train)\n",
    "    \n",
    "    max_list = max_indices(array,4)\n",
    "    rong_class= max_list[array.shape[0]]\n",
    "     \n",
    "    \n",
    "    print(\"the data point of class {} wrongly classify as class {}\".format(rong_class[0],rong_class[1]))\n",
    "    df_cm = pd.DataFrame(array, range(array.shape[0]),range(array.shape[0]))\n",
    "    \n",
    "    sn.set(font_scale=1.4)#for label size\n",
    "    sn.heatmap(df_cm, annot=True,annot_kws={\"size\": 16})# font size\n",
    "    "
   ]
  },
  {
   "cell_type": "code",
   "execution_count": 90,
   "metadata": {},
   "outputs": [
    {
     "name": "stdout",
     "output_type": "stream",
     "text": [
      "the data point of class 2 wrongly classify as class 1\n"
     ]
    },
    {
     "data": {
      "image/png": "[encoded data removed]",
      "text/plain": [
       "<Figure size 432x288 with 2 Axes>"
      ]
     },
     "metadata": {},
     "output_type": "display_data"
    }
   ],
   "source": [
    "change_confuation_matrix(x_train_orginal,mnb)"
   ]
  },
  {
   "cell_type": "code",
   "execution_count": 94,
   "metadata": {},
   "outputs": [
    {
     "name": "stdout",
     "output_type": "stream",
     "text": [
      "Confusion matrix, without normalization\n",
      "[[34  0  0]\n",
      " [ 0 45  0]\n",
      " [ 0 15 26]]\n"
     ]
    },
    {
     "data": {
      "image/png": "[encoded data removed]",
      "text/plain": [
       "<Figure size 432x288 with 2 Axes>"
      ]
     },
     "metadata": {},
     "output_type": "display_data"
    },
    {
     "data": {
      "text/plain": [
       "<Figure size 432x288 with 0 Axes>"
      ]
     },
     "metadata": {},
     "output_type": "display_data"
    },
    {
     "name": "stdout",
     "output_type": "stream",
     "text": [
      "Normalized confusion matrix\n",
      "[[ 1.          0.          0.        ]\n",
      " [ 0.          1.          0.        ]\n",
      " [ 0.          0.36585366  0.63414634]]\n"
     ]
    },
    {
     "data": {
      "image/png": "[encoded data removed]",
      "text/plain": [
       "<Figure size 432x288 with 2 Axes>"
      ]
     },
     "metadata": {},
     "output_type": "display_data"
    },
    {
     "data": {
      "text/plain": [
       "<Figure size 432x288 with 0 Axes>"
      ]
     },
     "metadata": {},
     "output_type": "display_data"
    }
   ],
   "source": [
    "array=confusion_matrix(y_train_orginal, y_pred_train)\n",
    "import itertools\n",
    "\n",
    "def plot_confusion_matrix(cm, classes,\n",
    "                          normalize=False,\n",
    "                          title='Confusion matrix',\n",
    "                          cmap=plt.cm.Blues):\n",
    "    \"\"\"\n",
    "    This function prints and plots the confusion matrix.\n",
    "    Normalization can be applied by setting `normalize=True`.\n",
    "    \"\"\"\n",
    "    if normalize:\n",
    "        cm = cm.astype('float') / cm.sum(axis=1)[:, np.newaxis]\n",
    "        print(\"Normalized confusion matrix\")\n",
    "    else:\n",
    "        print('Confusion matrix, without normalization')\n",
    "\n",
    "    print(cm)\n",
    "\n",
    "    plt.imshow(cm, interpolation='nearest', cmap=cmap)\n",
    "    plt.title(title)\n",
    "    plt.colorbar()\n",
    "    tick_marks = np.arange(len(classes))\n",
    "    plt.xticks(tick_marks, classes, rotation=45)\n",
    "    plt.yticks(tick_marks, classes)\n",
    "\n",
    "    fmt = '.2f' if normalize else 'd'\n",
    "    thresh = cm.max() / 2.\n",
    "    for i, j in itertools.product(range(cm.shape[0]), range(cm.shape[1])):\n",
    "        plt.text(j, i, format(cm[i, j], fmt),\n",
    "                 horizontalalignment=\"center\",\n",
    "                 color=\"white\" if cm[i, j] > thresh else \"black\")\n",
    "\n",
    "    plt.ylabel('True label')\n",
    "    plt.xlabel('Predicted label')\n",
    "    plt.tight_layout()\n",
    "    plt.figure()\n",
    "    plt.show()\n",
    "    \n",
    "    \n",
    "    \n",
    "    \n",
    "    \n",
    "\n",
    "class_names = iris.target_names\n",
    "plot_confusion_matrix(array, classes=class_names,\n",
    "                      title='Confusion matrix, without normalization')\n",
    "\n",
    "# Plot normalized confusion matrix\n",
    "plt.figure()\n",
    "plot_confusion_matrix(array, classes=class_names, normalize=True,\n",
    "                      title='Normalized confusion matrix')\n",
    "\n"
   ]
  },
  {
   "cell_type": "markdown",
   "metadata": {},
   "source": [
    "# check all the combination"
   ]
  },
  {
   "cell_type": "markdown",
   "metadata": {},
   "source": [
    "in this implemetation, we didn't care about the number of change and only focuse to change the accuracy"
   ]
  },
  {
   "cell_type": "code",
   "execution_count": 164,
   "metadata": {},
   "outputs": [],
   "source": [
    "def combinations_index(iterable, r):\n",
    "    # combinations('ABCD', 2) --> AB AC AD BC BD CD\n",
    "    # combinations(range(4), 3) --> 012 013 023 123\n",
    "    pool = tuple(iterable)\n",
    "    n = len(pool)\n",
    "    if r > n:\n",
    "        return\n",
    "    indices = list(range(r))\n",
    "    yield list(indices)\n",
    "    \n",
    "    while True:\n",
    "        for i in reversed(range(r)):\n",
    "            if indices[i] != i + n - r:\n",
    "                break\n",
    "        else:\n",
    "            return\n",
    "        indices[i] += 1\n",
    "\n",
    "        for j in range(i+1, r):\n",
    "            indices[j] = indices[j-1] + 1\n",
    "        yield list(indices)\n"
   ]
  },
  {
   "cell_type": "code",
   "execution_count": 189,
   "metadata": {},
   "outputs": [],
   "source": [
    "import itertools\n",
    "def check_all_combination(x_train,y_train,percetage,mnb,change_plan):\n",
    "    number_change_requested = int(percetage/100*x_train.shape[0])\n",
    "    print(\"{} percentage error is equal to {} change \\n\".format(percetage,number_change_requested))\n",
    "    \n",
    "    used_row=[]\n",
    "    occurred_change = 0\n",
    "    all_changed = 1\n",
    "    change_done=False\n",
    "    x_train_changed = np.copy(x_train)\n",
    "    \n",
    "    for i in range(len(change_plan[\"key\"])):\n",
    "        occurred_change = 0\n",
    "        \n",
    "        indices = [t for t, x in enumerate(y_train) if x == change_plan[\"key\"][i][0]]\n",
    "        print(\"{} rows have target {} \\n\".format(len(indices),change_plan[\"key\"][i][0]))\n",
    "        \n",
    "        \n",
    "        for p in range (len(indices)):\n",
    "            if (all_changed == number_change_requested +1):\n",
    "                print(\"your requests have been done :)\")\n",
    "                break\n",
    "            if y_train[indices[p]] == mnb.predict([x_train[indices[p]]])  and  indices[p] not in used_row :\n",
    "                \n",
    "\n",
    "                change_done=False\n",
    "                for L in range(0, len(x_train_changed[indices[p]])+1):\n",
    "                    if change_done:\n",
    "\n",
    "                        break\n",
    "                    else:\n",
    "                        for subset in combinations_index(x_train_changed[indices[p]], L):\n",
    "                            if not subset:\n",
    "                                pass\n",
    "                            else:\n",
    "\n",
    "                                x_train_changed[indices[p]][subset] = 0\n",
    "\n",
    "                                if (change_plan[\"key\"][i][1] == mnb.predict([x_train_changed[indices[p]]])[0]):\n",
    "\n",
    "                                    print(x_train[indices[p]],mnb.predict([x_train[indices[p]]])[0])\n",
    "                                    print(x_train_changed[indices[p]],mnb.predict([x_train_changed[indices[p]]])[0])\n",
    "                                    print(\" \\n change number {} \\n\".format(all_changed))\n",
    "                                    \n",
    "                                    used_row.append(indices[p])\n",
    "                                    occurred_change=occurred_change + 1\n",
    "                                    change_done=True\n",
    "                                    all_changed=all_changed + 1\n",
    "                                    break\n",
    "\n",
    "                                else:\n",
    "                                    x_train_changed[indices[p]]= np.copy(x_train[indices[p]])\n",
    "\n",
    "    if (all_changed<=number_change_requested):\n",
    "        print(\"your request doesn't complete! please change your plan\")\n",
    "    return np.copy(x_train_changed)\n",
    "    "
   ]
  },
  {
   "cell_type": "code",
   "execution_count": 192,
   "metadata": {},
   "outputs": [
    {
     "name": "stdout",
     "output_type": "stream",
     "text": [
      "20 percentage error is equal to 6 change \n",
      "\n",
      "16 rows have target 0 \n",
      "\n",
      "[ 5.7  3.8  1.7  0.3] 0\n",
      "[ 0.   0.   1.7  0.3] 2\n",
      " \n",
      " change number 1 \n",
      "\n",
      "[ 5.8  4.   1.2  0.2] 0\n",
      "[ 0.   0.   1.2  0.2] 2\n",
      " \n",
      " change number 2 \n",
      "\n",
      "[ 5.4  3.9  1.7  0.4] 0\n",
      "[ 0.   0.   1.7  0.4] 2\n",
      " \n",
      " change number 3 \n",
      "\n",
      "[ 5.   3.   1.6  0.2] 0\n",
      "[ 0.   0.   1.6  0.2] 2\n",
      " \n",
      " change number 4 \n",
      "\n",
      "[ 4.8  3.4  1.6  0.2] 0\n",
      "[ 0.   0.   1.6  0.2] 2\n",
      " \n",
      " change number 5 \n",
      "\n",
      "[ 4.8  3.   1.4  0.1] 0\n",
      "[ 0.   0.   1.4  0.1] 2\n",
      " \n",
      " change number 6 \n",
      "\n",
      "your requests have been done :)\n",
      "5 rows have target 1 \n",
      "\n",
      "your requests have been done :)\n",
      "your execuation time is 0.01733088493347168 \n"
     ]
    }
   ],
   "source": [
    "import time\n",
    "start = time.time()\n",
    "\n",
    "change_plan={\"key\":[[0,2],[1,2]],\"number\":[6]}\n",
    "new_check_all_combination=check_all_combination(x_test_orginal,y_test_orginal,20,mnb,change_plan)\n",
    "end = time.time()\n",
    "\n",
    "\n",
    "print(\"your execuation time is {} \".format(end - start))"
   ]
  },
  {
   "cell_type": "code",
   "execution_count": 193,
   "metadata": {},
   "outputs": [
    {
     "name": "stdout",
     "output_type": "stream",
     "text": [
      "Accuracy is 0.6666666666666666\n"
     ]
    },
    {
     "data": {
      "text/plain": [
       "array([[10,  0,  6],\n",
       "       [ 0,  5,  0],\n",
       "       [ 0,  4,  5]])"
      ]
     },
     "execution_count": 193,
     "metadata": {},
     "output_type": "execute_result"
    }
   ],
   "source": [
    "y_new_check_all_combination =mnb.predict(new_check_all_combination)\n",
    "\n",
    "print (\"Accuracy is {}\".format(accuracy_score(y_test_orginal, y_new_check_all_combination)))\n",
    "confusion_matrix(y_test_orginal,y_new_check_all_combination)"
   ]
  },
  {
   "cell_type": "markdown",
   "metadata": {},
   "source": [
    "# check all the combination acording to change plan"
   ]
  },
  {
   "cell_type": "code",
   "execution_count": 204,
   "metadata": {},
   "outputs": [],
   "source": [
    "import itertools\n",
    "def check_all_combination_change_plan(x_train,y_train,percetage,mnb,change_plan):\n",
    "    number_change_requested = int(percetage/100*x_train.shape[0])\n",
    "    print(\"{} percentage error is equal to {} change \\n\".format(percetage,number_change_requested))\n",
    "    \n",
    "    used_row=[]\n",
    "    occurred_change = 0\n",
    "    all_changed = 1\n",
    "    change_done=False\n",
    "    x_train_changed = np.copy(x_train)\n",
    "    \n",
    "    for i in range(len(change_plan[\"key\"])):\n",
    "        occurred_change = 0\n",
    "        \n",
    "        indices = [t for t, x in enumerate(y_train) if x == change_plan[\"key\"][i][0]]\n",
    "        print(\"{} rows have target {} \\n\".format(len(indices),change_plan[\"key\"][i][0]))\n",
    "        \n",
    "        \n",
    "        for p in range (len(indices)):\n",
    "            if (all_changed == number_change_requested +1):\n",
    "                print(\"your requests have been done :)\")\n",
    "                break\n",
    "            if (occurred_change == change_plan[\"number\"][i]):\n",
    "                print(\"part of your request has been done!\")\n",
    "                break\n",
    "                \n",
    "                \n",
    "            if y_train[indices[p]] == mnb.predict([x_train[indices[p]]])  and  indices[p] not in used_row :\n",
    "                \n",
    "\n",
    "                change_done=False\n",
    "                for L in range(0, len(x_train_changed[indices[p]])+1):\n",
    "                    if change_done:\n",
    "\n",
    "                        break\n",
    "                    else:\n",
    "                        for subset in combinations_index(x_train_changed[indices[p]], L):\n",
    "                            if not subset:\n",
    "                                pass\n",
    "                            else:\n",
    "\n",
    "                                x_train_changed[indices[p]][subset] = 0\n",
    "\n",
    "                                if (change_plan[\"key\"][i][1] == mnb.predict([x_train_changed[indices[p]]])[0]):\n",
    "\n",
    "                                    print(x_train[indices[p]],mnb.predict([x_train[indices[p]]])[0])\n",
    "                                    print(x_train_changed[indices[p]],mnb.predict([x_train_changed[indices[p]]])[0])\n",
    "                                    print(\" \\n change number {} \\n\".format(all_changed))\n",
    "                                    \n",
    "                                    used_row.append(indices[p])\n",
    "                                    occurred_change=occurred_change + 1\n",
    "                                    change_done=True\n",
    "                                    all_changed=all_changed + 1\n",
    "                                    break\n",
    "\n",
    "                                else:\n",
    "                                    x_train_changed[indices[p]]= np.copy(x_train[indices[p]])\n",
    "\n",
    "    if (all_changed<=number_change_requested):\n",
    "        print(\"your request doesn't complete! please change your plan\")\n",
    "    return np.copy(x_train_changed)"
   ]
  },
  {
   "cell_type": "code",
   "execution_count": 205,
   "metadata": {},
   "outputs": [
    {
     "name": "stdout",
     "output_type": "stream",
     "text": [
      "20 percentage error is equal to 6 change \n",
      "\n",
      "16 rows have target 0 \n",
      "\n",
      "[ 5.7  3.8  1.7  0.3] 0\n",
      "[ 5.7  0.   1.7  0.3] 1\n",
      " \n",
      " change number 1 \n",
      "\n",
      "[ 5.8  4.   1.2  0.2] 0\n",
      "[ 5.8  0.   1.2  0.2] 1\n",
      " \n",
      " change number 2 \n",
      "\n",
      "[ 5.4  3.9  1.7  0.4] 0\n",
      "[ 5.4  0.   1.7  0.4] 1\n",
      " \n",
      " change number 3 \n",
      "\n",
      "part of your request has been done!\n",
      "9 rows have target 2 \n",
      "\n",
      "[ 6.4  2.8  5.6  2.1] 2\n",
      "[ 6.4  2.8  0.   2.1] 1\n",
      " \n",
      " change number 4 \n",
      "\n",
      "[ 7.6  3.   6.6  2.1] 2\n",
      "[ 7.6  3.   6.6  0. ] 1\n",
      " \n",
      " change number 5 \n",
      "\n",
      "[ 5.7  2.5  5.   2. ] 2\n",
      "[ 5.7  2.5  0.   2. ] 1\n",
      " \n",
      " change number 6 \n",
      "\n",
      "your requests have been done :)\n",
      "your execuation time is 0.015331506729125977 \n"
     ]
    }
   ],
   "source": [
    "import time\n",
    "start = time.time()\n",
    "\n",
    "change_plan={\"key\":[[0,1],[2,1]],\"number\":[3,3]}\n",
    "new_check_all_combination_change_plan=check_all_combination_change_plan(x_test_orginal,y_test_orginal,20,mnb,change_plan)\n",
    "end = time.time()\n",
    "\n",
    "\n",
    "print(\"your execuation time is {} \".format(end - start))"
   ]
  },
  {
   "cell_type": "code",
   "execution_count": 206,
   "metadata": {},
   "outputs": [
    {
     "name": "stdout",
     "output_type": "stream",
     "text": [
      "Accuracy is 0.6666666666666666\n"
     ]
    },
    {
     "data": {
      "text/plain": [
       "array([[13,  3,  0],\n",
       "       [ 0,  5,  0],\n",
       "       [ 0,  7,  2]])"
      ]
     },
     "execution_count": 206,
     "metadata": {},
     "output_type": "execute_result"
    }
   ],
   "source": [
    "y_new_check_all_combination_change_plan =mnb.predict(new_check_all_combination_change_plan)\n",
    "\n",
    "print (\"Accuracy is {}\".format(accuracy_score(y_test_orginal, y_new_check_all_combination_change_plan)))\n",
    "confusion_matrix(y_test_orginal,y_new_check_all_combination_change_plan)"
   ]
  }
 ],
 "metadata": {
  "kernelspec": {
   "display_name": "Python 3",
   "language": "python",
   "name": "python3"
  },
  "language_info": {
   "codemirror_mode": {
    "name": "ipython",
    "version": 3
   },
   "file_extension": ".py",
   "mimetype": "text/x-python",
   "name": "python",
   "nbconvert_exporter": "python",
   "pygments_lexer": "ipython3",
   "version": "3.6.4"
  }
 },
 "nbformat": 4,
 "nbformat_minor": 2
}
