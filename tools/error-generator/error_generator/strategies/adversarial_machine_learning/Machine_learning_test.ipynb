{
 "cells": [
  {
   "cell_type": "markdown",
   "metadata": {},
   "source": [
    "#### Data source :https://archive.ics.uci.edu/ml/machine-learning-databases/00228/"
   ]
  },
  {
   "cell_type": "code",
   "execution_count": 1,
   "metadata": {},
   "outputs": [
    {
     "name": "stderr",
     "output_type": "stream",
     "text": [
      "/home/milad/anaconda3/lib/python3.6/site-packages/sklearn/cross_validation.py:41: DeprecationWarning: This module was deprecated in version 0.18 in favor of the model_selection module into which all the refactored classes and functions are moved. Also note that the interface of the new CV iterators are different from that of this module. This module will be removed in 0.20.\n",
      "  \"This module will be removed in 0.20.\", DeprecationWarning)\n"
     ]
    }
   ],
   "source": [
    "import numpy as np\n",
    "import pandas as pd\n",
    "from sklearn.feature_extraction.text import CountVectorizer\n",
    "from sklearn.cross_validation import train_test_split\n",
    "from sklearn.naive_bayes import MultinomialNB\n",
    "from sklearn.feature_extraction.text import TfidfVectorizer\n"
   ]
  },
  {
   "cell_type": "code",
   "execution_count": 2,
   "metadata": {},
   "outputs": [],
   "source": [
    "from butterfingers import butterfinger"
   ]
  },
  {
   "cell_type": "markdown",
   "metadata": {},
   "source": [
    "add the typo when we have the spam"
   ]
  },
  {
   "cell_type": "code",
   "execution_count": 3,
   "metadata": {},
   "outputs": [
    {
     "name": "stdout",
     "output_type": "stream",
     "text": [
      "  Status                                            Message\n",
      "0    ham  Go until jurong point, crazy.. Available only ...\n",
      "1    ham                      Ok lar... Joking wif u oni...\n",
      "2   spam  Free entry in 2 a wkly comp to win FA Cup fina...\n",
      "3    ham  U dun say so early hor... U c already then say...\n",
      "4    ham  Nah I don't think he goes to usf, he lives aro...\n"
     ]
    }
   ],
   "source": [
    "df=pd.read_csv(\"../../datasets/SMSSpamCollection\",sep='\\t',names=['Status','Message'])\n",
    "print(df.head())\n"
   ]
  },
  {
   "cell_type": "code",
   "execution_count": 4,
   "metadata": {},
   "outputs": [
    {
     "name": "stdout",
     "output_type": "stream",
     "text": [
      "  Status                                            Message\n",
      "0    ham  Go until jurong point, crazy.. Available only ...\n",
      "1    ham                      Ok lar... Joking wif u oni...\n",
      "2   spam  Xvew entst ii 2 z cyoj colp fi win GA Dul fhiq...\n",
      "3    ham  U dun say so early hor... U c already then say...\n",
      "4    ham  Nah I don't think he goes to usf, he lives aro...\n"
     ]
    }
   ],
   "source": [
    "for i in  range(df.count()[0]):\n",
    "    x = df['Status'][i]\n",
    "    if x==\"spam\":\n",
    "        df.loc[i,'Message']=butterfinger(df['Message'][i])\n",
    "\n",
    "\n",
    "\n",
    "print(df.head())"
   ]
  },
  {
   "cell_type": "code",
   "execution_count": 5,
   "metadata": {},
   "outputs": [
    {
     "data": {
      "text/plain": [
       "5572"
      ]
     },
     "execution_count": 5,
     "metadata": {},
     "output_type": "execute_result"
    }
   ],
   "source": [
    "len(df)"
   ]
  },
  {
   "cell_type": "code",
   "execution_count": 6,
   "metadata": {},
   "outputs": [
    {
     "data": {
      "text/plain": [
       "747"
      ]
     },
     "execution_count": 6,
     "metadata": {},
     "output_type": "execute_result"
    }
   ],
   "source": [
    "len(df[df.Status=='spam'])"
   ]
  },
  {
   "cell_type": "code",
   "execution_count": 7,
   "metadata": {},
   "outputs": [
    {
     "data": {
      "text/plain": [
       "4825"
      ]
     },
     "execution_count": 7,
     "metadata": {},
     "output_type": "execute_result"
    }
   ],
   "source": [
    "len(df[df.Status=='ham'])"
   ]
  },
  {
   "cell_type": "code",
   "execution_count": 8,
   "metadata": {},
   "outputs": [],
   "source": [
    "df.loc[df[\"Status\"]=='ham',\"Status\",]=1"
   ]
  },
  {
   "cell_type": "code",
   "execution_count": 9,
   "metadata": {},
   "outputs": [],
   "source": [
    "df.loc[df[\"Status\"]=='spam',\"Status\",]=0"
   ]
  },
  {
   "cell_type": "code",
   "execution_count": 10,
   "metadata": {},
   "outputs": [
    {
     "data": {
      "text/html": [
       "<div>\n",
       "<style scoped>\n",
       "    .dataframe tbody tr th:only-of-type {\n",
       "        vertical-align: middle;\n",
       "    }\n",
       "\n",
       "    .dataframe tbody tr th {\n",
       "        vertical-align: top;\n",
       "    }\n",
       "\n",
       "    .dataframe thead th {\n",
       "        text-align: right;\n",
       "    }\n",
       "</style>\n",
       "<table border=\"1\" class=\"dataframe\">\n",
       "  <thead>\n",
       "    <tr style=\"text-align: right;\">\n",
       "      <th></th>\n",
       "      <th>Status</th>\n",
       "      <th>Message</th>\n",
       "    </tr>\n",
       "  </thead>\n",
       "  <tbody>\n",
       "    <tr>\n",
       "      <th>0</th>\n",
       "      <td>1</td>\n",
       "      <td>Go until jurong point, crazy.. Available only ...</td>\n",
       "    </tr>\n",
       "    <tr>\n",
       "      <th>1</th>\n",
       "      <td>1</td>\n",
       "      <td>Ok lar... Joking wif u oni...</td>\n",
       "    </tr>\n",
       "    <tr>\n",
       "      <th>2</th>\n",
       "      <td>0</td>\n",
       "      <td>Xvew entst ii 2 z cyoj colp fi win GA Dul fhiq...</td>\n",
       "    </tr>\n",
       "    <tr>\n",
       "      <th>3</th>\n",
       "      <td>1</td>\n",
       "      <td>U dun say so early hor... U c already then say...</td>\n",
       "    </tr>\n",
       "    <tr>\n",
       "      <th>4</th>\n",
       "      <td>1</td>\n",
       "      <td>Nah I don't think he goes to usf, he lives aro...</td>\n",
       "    </tr>\n",
       "  </tbody>\n",
       "</table>\n",
       "</div>"
      ],
      "text/plain": [
       "  Status                                            Message\n",
       "0      1  Go until jurong point, crazy.. Available only ...\n",
       "1      1                      Ok lar... Joking wif u oni...\n",
       "2      0  Xvew entst ii 2 z cyoj colp fi win GA Dul fhiq...\n",
       "3      1  U dun say so early hor... U c already then say...\n",
       "4      1  Nah I don't think he goes to usf, he lives aro..."
      ]
     },
     "execution_count": 10,
     "metadata": {},
     "output_type": "execute_result"
    }
   ],
   "source": [
    "df.head()"
   ]
  },
  {
   "cell_type": "code",
   "execution_count": 11,
   "metadata": {},
   "outputs": [],
   "source": [
    "df_x=df[\"Message\"]\n",
    "df_y=df[\"Status\"]"
   ]
  },
  {
   "cell_type": "code",
   "execution_count": 12,
   "metadata": {},
   "outputs": [],
   "source": [
    "x_train, x_test, y_train, y_test = train_test_split(df_x, df_y, test_size=0.2, random_state=4)"
   ]
  },
  {
   "cell_type": "code",
   "execution_count": 13,
   "metadata": {},
   "outputs": [
    {
     "data": {
      "text/plain": [
       "1457    U sleeping now.. Or you going to take? Haha.. ...\n",
       "472     How long has it been since you screamed, princ...\n",
       "2481    Mdgxht! gapl 09066612661 fcim lwndkpne. Yjis f...\n",
       "243     Okay. No no, just shining on. That was meant t...\n",
       "1413    Wen ur lovable bcums angry wid u, dnt take it ...\n",
       "Name: Message, dtype: object"
      ]
     },
     "execution_count": 13,
     "metadata": {},
     "output_type": "execute_result"
    }
   ],
   "source": [
    "x_train.head()"
   ]
  },
  {
   "cell_type": "code",
   "execution_count": 14,
   "metadata": {},
   "outputs": [],
   "source": [
    "cv1 = TfidfVectorizer(min_df=1,stop_words='english')"
   ]
  },
  {
   "cell_type": "code",
   "execution_count": 15,
   "metadata": {},
   "outputs": [],
   "source": [
    "x_traincv=cv1.fit_transform(x_train)"
   ]
  },
  {
   "cell_type": "code",
   "execution_count": 16,
   "metadata": {},
   "outputs": [],
   "source": [
    "a=x_traincv.toarray()"
   ]
  },
  {
   "cell_type": "code",
   "execution_count": 17,
   "metadata": {},
   "outputs": [
    {
     "data": {
      "text/plain": [
       "array([ 0.,  0.,  0., ...,  0.,  0.,  0.])"
      ]
     },
     "execution_count": 17,
     "metadata": {},
     "output_type": "execute_result"
    }
   ],
   "source": [
    "a[0]"
   ]
  },
  {
   "cell_type": "code",
   "execution_count": 18,
   "metadata": {},
   "outputs": [
    {
     "data": {
      "text/plain": [
       "[array(['checking', 'going', 'got', 'haha', 'lor', 'mails', 'online',\n",
       "        'replying', 'sleeping', 'spys', 'wat'],\n",
       "       dtype='<U27')]"
      ]
     },
     "execution_count": 18,
     "metadata": {},
     "output_type": "execute_result"
    }
   ],
   "source": [
    "cv1.inverse_transform(a[0])"
   ]
  },
  {
   "cell_type": "code",
   "execution_count": 19,
   "metadata": {},
   "outputs": [
    {
     "data": {
      "text/plain": [
       "'U sleeping now.. Or you going to take? Haha.. I got spys wat.. Me online checking n replying mails lor..'"
      ]
     },
     "execution_count": 19,
     "metadata": {},
     "output_type": "execute_result"
    }
   ],
   "source": [
    "x_train.iloc[0]"
   ]
  },
  {
   "cell_type": "code",
   "execution_count": 20,
   "metadata": {},
   "outputs": [],
   "source": [
    "x_testcv=cv1.transform(x_test)"
   ]
  },
  {
   "cell_type": "code",
   "execution_count": 21,
   "metadata": {},
   "outputs": [
    {
     "data": {
      "text/plain": [
       "array([[ 0.,  0.,  0., ...,  0.,  0.,  0.],\n",
       "       [ 0.,  0.,  0., ...,  0.,  0.,  0.],\n",
       "       [ 0.,  0.,  0., ...,  0.,  0.,  0.],\n",
       "       ..., \n",
       "       [ 0.,  0.,  0., ...,  0.,  0.,  0.],\n",
       "       [ 0.,  0.,  0., ...,  0.,  0.,  0.],\n",
       "       [ 0.,  0.,  0., ...,  0.,  0.,  0.]])"
      ]
     },
     "execution_count": 21,
     "metadata": {},
     "output_type": "execute_result"
    }
   ],
   "source": [
    "x_testcv.toarray()"
   ]
  },
  {
   "cell_type": "code",
   "execution_count": 22,
   "metadata": {},
   "outputs": [],
   "source": [
    " mnb = MultinomialNB()"
   ]
  },
  {
   "cell_type": "code",
   "execution_count": 23,
   "metadata": {},
   "outputs": [],
   "source": [
    "y_train=y_train.astype('int')"
   ]
  },
  {
   "cell_type": "code",
   "execution_count": 24,
   "metadata": {},
   "outputs": [
    {
     "data": {
      "text/plain": [
       "MultinomialNB(alpha=1.0, class_prior=None, fit_prior=True)"
      ]
     },
     "execution_count": 24,
     "metadata": {},
     "output_type": "execute_result"
    }
   ],
   "source": [
    "mnb.fit(x_traincv,y_train)"
   ]
  },
  {
   "cell_type": "code",
   "execution_count": 25,
   "metadata": {},
   "outputs": [
    {
     "data": {
      "text/plain": [
       "<1115x15782 sparse matrix of type '<class 'numpy.float64'>'\n",
       "\twith 6706 stored elements in Compressed Sparse Row format>"
      ]
     },
     "execution_count": 25,
     "metadata": {},
     "output_type": "execute_result"
    }
   ],
   "source": [
    "x_testcv"
   ]
  },
  {
   "cell_type": "code",
   "execution_count": 26,
   "metadata": {},
   "outputs": [],
   "source": [
    "testmessage=x_test.iloc[0]"
   ]
  },
  {
   "cell_type": "code",
   "execution_count": 27,
   "metadata": {},
   "outputs": [
    {
     "data": {
      "text/plain": [
       "'somewhere out there beneath the pale moon light someone think in of u some where out there where dreams come true... goodnite &amp; sweet dreams'"
      ]
     },
     "execution_count": 27,
     "metadata": {},
     "output_type": "execute_result"
    }
   ],
   "source": [
    "testmessage"
   ]
  },
  {
   "cell_type": "code",
   "execution_count": 28,
   "metadata": {},
   "outputs": [
    {
     "data": {
      "text/plain": [
       "['00',\n",
       " '000',\n",
       " '000pes',\n",
       " '008704050406',\n",
       " '0125698789',\n",
       " '02',\n",
       " '0207',\n",
       " '02072069400',\n",
       " '02073162414',\n",
       " '02085076972',\n",
       " '021',\n",
       " '03',\n",
       " '04',\n",
       " '0430',\n",
       " '05',\n",
       " '050703',\n",
       " '06',\n",
       " '07',\n",
       " '07008009200',\n",
       " '07046744435',\n",
       " '07090201529',\n",
       " '07090298926',\n",
       " '07099833605',\n",
       " '07123456789',\n",
       " '0721072',\n",
       " '07734396839',\n",
       " '07742676969',\n",
       " '07753741225',\n",
       " '0776xxvxzxf',\n",
       " '07781482378',\n",
       " '07786200117',\n",
       " '077xsb',\n",
       " '078',\n",
       " '07801543489',\n",
       " '07808',\n",
       " '07808247860',\n",
       " '07808726822',\n",
       " '07815296484',\n",
       " '07821230901',\n",
       " '078498',\n",
       " '07880867867',\n",
       " '0789vxbrxez',\n",
       " '07946746291',\n",
       " '07973788240',\n",
       " '07dsrqzfdex',\n",
       " '07frxxxexxx',\n",
       " '08',\n",
       " '0800',\n",
       " '08000407165',\n",
       " '08000776320',\n",
       " '08000839402',\n",
       " '08000930705',\n",
       " '08000938767',\n",
       " '08001950382',\n",
       " '08002888812',\n",
       " '08002986030',\n",
       " '08002986906',\n",
       " '08002988890',\n",
       " '08006344447',\n",
       " '0808',\n",
       " '08081263000',\n",
       " '08081560665',\n",
       " '0825',\n",
       " '0844',\n",
       " '08448714184',\n",
       " '0845',\n",
       " '08450542832',\n",
       " '08452810071',\n",
       " '08452810073',\n",
       " '0870',\n",
       " '08700621170150k',\n",
       " '08700621170150o',\n",
       " '08701417012',\n",
       " '08701417012150i',\n",
       " '0870141701216',\n",
       " '08701752560',\n",
       " '0870241182716',\n",
       " '08702490080',\n",
       " '08702840625',\n",
       " '08704439680',\n",
       " '08704439680td',\n",
       " '08706091795',\n",
       " '0870737910216icw',\n",
       " '08707500020',\n",
       " '08707509020',\n",
       " '0870753331018',\n",
       " '08707808226',\n",
       " '08708034412',\n",
       " '08708800282',\n",
       " '08709222922',\n",
       " '0871',\n",
       " '087104711148',\n",
       " '08712101358',\n",
       " '08712103738',\n",
       " '0871212025016',\n",
       " '08712300220',\n",
       " '087123002209wk',\n",
       " '08712317606',\n",
       " '08712400200',\n",
       " '08712400602450o',\n",
       " '08712400602450p',\n",
       " '08712400603',\n",
       " '08712402050',\n",
       " '08712402779',\n",
       " '08712402902',\n",
       " '08712404000',\n",
       " '08712405020',\n",
       " '08712405022',\n",
       " '08712460324',\n",
       " '08712466669',\n",
       " '0871277810710',\n",
       " '0871277810810',\n",
       " '0871277810910p',\n",
       " '08714342399',\n",
       " '087147123779ak',\n",
       " '08714712379',\n",
       " '08714712388',\n",
       " '08714712412',\n",
       " '08715203028',\n",
       " '08715203649',\n",
       " '08715203652',\n",
       " '08715203656',\n",
       " '08715203677',\n",
       " '08715203685',\n",
       " '08715203694',\n",
       " '08715205273',\n",
       " '08715500022',\n",
       " '08715705022',\n",
       " '08717111821',\n",
       " '08717168528',\n",
       " '08717205546',\n",
       " '0871750',\n",
       " '08717507382',\n",
       " '08717890890',\n",
       " '08717895698',\n",
       " '08717898035',\n",
       " '08718711108',\n",
       " '08718720201',\n",
       " '08718723815',\n",
       " '08718726270',\n",
       " '087187262701',\n",
       " '08718726970',\n",
       " '08718726978',\n",
       " '087187272008',\n",
       " '08718727868',\n",
       " '08718727870',\n",
       " '08718730555',\n",
       " '08718730666',\n",
       " '08718738001',\n",
       " '08719180219',\n",
       " '08719180248',\n",
       " '08719181259',\n",
       " '08719181503',\n",
       " '08719181513',\n",
       " '08719839835',\n",
       " '08719899217',\n",
       " '08719899229',\n",
       " '09',\n",
       " '09041940223',\n",
       " '09050000301',\n",
       " '09050000460',\n",
       " '09050000555',\n",
       " '09050000878',\n",
       " '09050000928',\n",
       " '09050001295',\n",
       " '09050001808',\n",
       " '09050002311',\n",
       " '09050003091',\n",
       " '09050005321',\n",
       " '09050090044',\n",
       " '09050280520',\n",
       " '09056242159',\n",
       " '09058091854',\n",
       " '09058091870',\n",
       " '09058094454',\n",
       " '09058094455',\n",
       " '09058094507',\n",
       " '09058094565',\n",
       " '09058094583',\n",
       " '09058094594',\n",
       " '09058094597',\n",
       " '09058094599',\n",
       " '09058095107',\n",
       " '09058095201',\n",
       " '09058097189',\n",
       " '09058097218',\n",
       " '09058098002',\n",
       " '09058099801',\n",
       " '09061104276',\n",
       " '09061104283',\n",
       " '09061209465',\n",
       " '09061213237',\n",
       " '09061221061',\n",
       " '09061221066',\n",
       " '09061701461',\n",
       " '09061701939',\n",
       " '09061702893',\n",
       " '09061743386',\n",
       " '09061743806',\n",
       " '09061743810',\n",
       " '09061743811',\n",
       " '09061744553',\n",
       " '09061749602',\n",
       " '09061790121',\n",
       " '09061790126',\n",
       " '09063440451',\n",
       " '09063458130',\n",
       " '0906346330',\n",
       " '09064011000',\n",
       " '09064012103',\n",
       " '09064012160',\n",
       " '09064015307',\n",
       " '09064017295',\n",
       " '09064017305',\n",
       " '09064018838',\n",
       " '09064019014',\n",
       " '09064019788',\n",
       " '09065069120',\n",
       " '09065069154',\n",
       " '09065174042',\n",
       " '09065394973',\n",
       " '09065989180',\n",
       " '09065989182',\n",
       " '09066350750',\n",
       " '09066358152',\n",
       " '09066358361',\n",
       " '09066361921',\n",
       " '09066362206',\n",
       " '09066362220',\n",
       " '09066362231',\n",
       " '09066364311',\n",
       " '09066364349',\n",
       " '09066364589',\n",
       " '09066368327',\n",
       " '09066380611',\n",
       " '09066382422',\n",
       " '09066612661',\n",
       " '09066649731fdom',\n",
       " '09066660100',\n",
       " '09071512432',\n",
       " '09071512433',\n",
       " '09071517866',\n",
       " '09077818151',\n",
       " '09090900040',\n",
       " '09094100151',\n",
       " '09095350301',\n",
       " '09099726395',\n",
       " '09099726429',\n",
       " '09099726481',\n",
       " '09099726553',\n",
       " '09111030116',\n",
       " '09111032124',\n",
       " '09701213186',\n",
       " '0a',\n",
       " '0quit',\n",
       " '10',\n",
       " '100',\n",
       " '1000',\n",
       " '1000a',\n",
       " '1000calk',\n",
       " '1000s',\n",
       " '100ndf',\n",
       " '100oqfbdbh',\n",
       " '100percxnt',\n",
       " '1013',\n",
       " '1030',\n",
       " '10am',\n",
       " '10dl',\n",
       " '10i',\n",
       " '10jh',\n",
       " '10k',\n",
       " '10l',\n",
       " '10n',\n",
       " '10o',\n",
       " '10p',\n",
       " '10ppk',\n",
       " '10xm',\n",
       " '10xn',\n",
       " '10zk',\n",
       " '11',\n",
       " '113',\n",
       " '1131',\n",
       " '114',\n",
       " '1146',\n",
       " '116',\n",
       " '118p',\n",
       " '11jdgr',\n",
       " '11kehx',\n",
       " '11lj',\n",
       " '11ltid',\n",
       " '11mfvr',\n",
       " '11mtnv',\n",
       " '11mufs',\n",
       " '12',\n",
       " '120o',\n",
       " '121',\n",
       " '1225',\n",
       " '123',\n",
       " '125',\n",
       " '1250',\n",
       " '125dlff',\n",
       " '125gift',\n",
       " '125gyxt',\n",
       " '128',\n",
       " '12ggf',\n",
       " '12hew',\n",
       " '12hrs',\n",
       " '12hvs',\n",
       " '12hws',\n",
       " '12hxw',\n",
       " '12irr',\n",
       " '12ixs',\n",
       " '12jfs',\n",
       " '12lvfw',\n",
       " '12odhs',\n",
       " '12rrs',\n",
       " '12yxs',\n",
       " '13',\n",
       " '130',\n",
       " '1327',\n",
       " '14',\n",
       " '140',\n",
       " '1405',\n",
       " '145',\n",
       " '1450',\n",
       " '146tf150',\n",
       " '14bcr',\n",
       " '14tnkargm',\n",
       " '15',\n",
       " '150',\n",
       " '1500',\n",
       " '150i',\n",
       " '150iol',\n",
       " '150ipn',\n",
       " '150is',\n",
       " '150k',\n",
       " '150ki',\n",
       " '150kom',\n",
       " '150kpl',\n",
       " '150kpm',\n",
       " '150l',\n",
       " '150lki',\n",
       " '150o',\n",
       " '150om',\n",
       " '150opi',\n",
       " '150opm',\n",
       " '150opn',\n",
       " '150p',\n",
       " '150p16',\n",
       " '150pin',\n",
       " '150pkm',\n",
       " '150plm',\n",
       " '150pm',\n",
       " '150pn',\n",
       " '150po',\n",
       " '150ppccnvsvfynrcwu',\n",
       " '150ppj',\n",
       " '150ppk',\n",
       " '150ppm',\n",
       " '150ppo',\n",
       " '151',\n",
       " '153',\n",
       " '15541',\n",
       " '15pm',\n",
       " '16',\n",
       " '165',\n",
       " '1680',\n",
       " '169',\n",
       " '177',\n",
       " '18',\n",
       " '180',\n",
       " '1843',\n",
       " '18jsa',\n",
       " '18p',\n",
       " '18vrs',\n",
       " '195',\n",
       " '1956669',\n",
       " '1aa',\n",
       " '1apple',\n",
       " '1at',\n",
       " '1b6c5fcer91ff9',\n",
       " '1cup',\n",
       " '1dg',\n",
       " '1din150p',\n",
       " '1dt',\n",
       " '1dy',\n",
       " '1ev',\n",
       " '1fd',\n",
       " '1hr',\n",
       " '1im',\n",
       " '1lemon',\n",
       " '1mega',\n",
       " '1mipliin',\n",
       " '1pm',\n",
       " '1rc',\n",
       " '1rg',\n",
       " '1rhchkicv',\n",
       " '1rt',\n",
       " '1sf',\n",
       " '1sg',\n",
       " '1sh',\n",
       " '1st',\n",
       " '1sv',\n",
       " '1th',\n",
       " '1thing',\n",
       " '1tulsi',\n",
       " '1v150l',\n",
       " '1w150k',\n",
       " '1we',\n",
       " '1wltwak',\n",
       " '1wojawesl',\n",
       " '1wonasegn',\n",
       " '1x150p',\n",
       " '1xon150ppir3',\n",
       " '1xt4gerjs',\n",
       " '1xu',\n",
       " '1z150k',\n",
       " '20',\n",
       " '200',\n",
       " '2000',\n",
       " '2003',\n",
       " '2004',\n",
       " '2006',\n",
       " '2007',\n",
       " '200p',\n",
       " '20k',\n",
       " '20o',\n",
       " '20o12qe',\n",
       " '20p',\n",
       " '21',\n",
       " '21870000',\n",
       " '21st',\n",
       " '22',\n",
       " '220',\n",
       " '2309',\n",
       " '23n',\n",
       " '23t',\n",
       " '24',\n",
       " '24hrf',\n",
       " '24m',\n",
       " '24th',\n",
       " '25',\n",
       " '250',\n",
       " '250k',\n",
       " '250y',\n",
       " '255',\n",
       " '25i',\n",
       " '25l',\n",
       " '25o',\n",
       " '25p',\n",
       " '26',\n",
       " '26vh',\n",
       " '27',\n",
       " '28',\n",
       " '2814032',\n",
       " '28dhfvb',\n",
       " '28dwtd',\n",
       " '28jj',\n",
       " '28qcys',\n",
       " '29',\n",
       " '2awy',\n",
       " '2b',\n",
       " '2bd',\n",
       " '2bold',\n",
       " '2chennel',\n",
       " '2cjs',\n",
       " '2day',\n",
       " '2docd',\n",
       " '2dt',\n",
       " '2dz',\n",
       " '2exny',\n",
       " '2fto',\n",
       " '2gdy',\n",
       " '2ge',\n",
       " '2getha',\n",
       " '2geva',\n",
       " '2go',\n",
       " '2gthr',\n",
       " '2hhnd',\n",
       " '2hook',\n",
       " '2i',\n",
       " '2is',\n",
       " '2jije',\n",
       " '2jpts',\n",
       " '2kd',\n",
       " '2knsubozct',\n",
       " '2kotoot',\n",
       " '2kxmde',\n",
       " '2lajcs',\n",
       " '2lajss',\n",
       " '2lamss',\n",
       " '2landd',\n",
       " '2lanvs',\n",
       " '2lsudx',\n",
       " '2marrow',\n",
       " '2md',\n",
       " '2morgk',\n",
       " '2moro',\n",
       " '2morrow',\n",
       " '2morrowxxxx',\n",
       " '2mq',\n",
       " '2mro',\n",
       " '2mrw',\n",
       " '2mwen',\n",
       " '2na',\n",
       " '2nb',\n",
       " '2nd',\n",
       " '2ne',\n",
       " '2nhite',\n",
       " '2nignus',\n",
       " '2nite',\n",
       " '2njka',\n",
       " '2notuw',\n",
       " '2nq',\n",
       " '2ns',\n",
       " '2nv',\n",
       " '2o',\n",
       " '2oands',\n",
       " '2oitjjr',\n",
       " '2oqnds',\n",
       " '2pamcv',\n",
       " '2patdf',\n",
       " '2pdgds',\n",
       " '2px',\n",
       " '2rcd',\n",
       " '2stl',\n",
       " '2sto',\n",
       " '2syoitvy',\n",
       " '2szr',\n",
       " '2tine',\n",
       " '2u',\n",
       " '2u2',\n",
       " '2ug',\n",
       " '2vgoocf',\n",
       " '2waxsto',\n",
       " '2wuo',\n",
       " '2wv',\n",
       " '2yd',\n",
       " '2years',\n",
       " '2yv',\n",
       " '30',\n",
       " '300',\n",
       " '300603',\n",
       " '300603t',\n",
       " '300p',\n",
       " '3030',\n",
       " '30cpr',\n",
       " '30ish',\n",
       " '30pm',\n",
       " '30s',\n",
       " '30tm',\n",
       " '31',\n",
       " '3100',\n",
       " '31l',\n",
       " '31p',\n",
       " '32',\n",
       " '32000',\n",
       " '3230',\n",
       " '32323',\n",
       " '326',\n",
       " '33',\n",
       " '350',\n",
       " '3510h',\n",
       " '3510i',\n",
       " '3510l',\n",
       " '3510u',\n",
       " '35p',\n",
       " '3650',\n",
       " '36504',\n",
       " '3680',\n",
       " '373',\n",
       " '3750',\n",
       " '37819',\n",
       " '38',\n",
       " '382',\n",
       " '391784',\n",
       " '3b',\n",
       " '3bbp',\n",
       " '3bfo',\n",
       " '3bz',\n",
       " '3c',\n",
       " '3cm',\n",
       " '3d',\n",
       " '3g',\n",
       " '3gbo',\n",
       " '3iuhyla',\n",
       " '3jrw',\n",
       " '3l',\n",
       " '3lk',\n",
       " '3lp',\n",
       " '3mhnx',\n",
       " '3miles',\n",
       " '3mngd',\n",
       " '3mpna',\n",
       " '3mynx',\n",
       " '3nrf',\n",
       " '3nup',\n",
       " '3oe',\n",
       " '3optical',\n",
       " '3qeh9',\n",
       " '3qxl9',\n",
       " '3rd',\n",
       " '3ss',\n",
       " '3uv',\n",
       " '3wks',\n",
       " '3z',\n",
       " '40',\n",
       " '400',\n",
       " '400mmhs',\n",
       " '400thousad',\n",
       " '402',\n",
       " '4041',\n",
       " '40411',\n",
       " '40533',\n",
       " '40cn',\n",
       " '40db',\n",
       " '40fn',\n",
       " '40gg',\n",
       " '40gv',\n",
       " '40hg',\n",
       " '40mph',\n",
       " '41685',\n",
       " '41782',\n",
       " '420',\n",
       " '42049',\n",
       " '4217',\n",
       " '42478',\n",
       " '42810',\n",
       " '430',\n",
       " '434',\n",
       " '440',\n",
       " '4403lvua1z7tw18',\n",
       " '447797706009',\n",
       " '447801259231',\n",
       " '448712404000',\n",
       " '449050000301',\n",
       " '449071512431',\n",
       " '450',\n",
       " '450p',\n",
       " '45239',\n",
       " '47',\n",
       " '4719',\n",
       " '4742',\n",
       " '47per',\n",
       " '48',\n",
       " '4882',\n",
       " '49',\n",
       " '49557',\n",
       " '4a',\n",
       " '4brekkie',\n",
       " '4c',\n",
       " '4d',\n",
       " '4eva',\n",
       " '4f',\n",
       " '4few',\n",
       " '4get',\n",
       " '4give',\n",
       " '4gltei',\n",
       " '4got',\n",
       " '4hgfo',\n",
       " '4j',\n",
       " '4ltff',\n",
       " '4ltfu',\n",
       " '4m',\n",
       " '4mtis',\n",
       " '4my',\n",
       " '4nchd',\n",
       " '4nmvo',\n",
       " '4qy2',\n",
       " '4r',\n",
       " '4t',\n",
       " '4th',\n",
       " '4the',\n",
       " '4thnov',\n",
       " '4tx',\n",
       " '4txu',\n",
       " '4u',\n",
       " '4vqe',\n",
       " '4w',\n",
       " '4ward',\n",
       " '4xv26',\n",
       " '4years',\n",
       " '50',\n",
       " '500',\n",
       " '5000',\n",
       " '505060',\n",
       " '50bbo',\n",
       " '50gcp',\n",
       " '50i',\n",
       " '50icreksbb',\n",
       " '50iqrwksmt',\n",
       " '50k',\n",
       " '50l',\n",
       " '50o',\n",
       " '50p',\n",
       " '50pcvwkwub',\n",
       " '50pk',\n",
       " '50pmmucegcjkliylpe2hrdmlvdb',\n",
       " '50pzrexeksob',\n",
       " '50wwqrd',\n",
       " '50xdtd',\n",
       " '50xw',\n",
       " '515',\n",
       " '51sl',\n",
       " '5226',\n",
       " '523',\n",
       " '5249',\n",
       " '526',\n",
       " '528',\n",
       " '530',\n",
       " '54',\n",
       " '542',\n",
       " '545',\n",
       " '5ab',\n",
       " '5digital',\n",
       " '5eb',\n",
       " '5ish',\n",
       " '5j',\n",
       " '5l',\n",
       " '5min',\n",
       " '5p',\n",
       " '5pm',\n",
       " '5qb',\n",
       " '5qe',\n",
       " '5qw',\n",
       " '5qy',\n",
       " '5th',\n",
       " '5we',\n",
       " '5wkg',\n",
       " '5wt',\n",
       " '5ww',\n",
       " '5xb',\n",
       " '60',\n",
       " '600',\n",
       " '6031',\n",
       " '60p',\n",
       " '61',\n",
       " '61200',\n",
       " '61610',\n",
       " '62220gncl',\n",
       " '6230',\n",
       " '62468',\n",
       " '62735',\n",
       " '630',\n",
       " '63miles',\n",
       " '645',\n",
       " '65',\n",
       " '650',\n",
       " '66',\n",
       " '6669',\n",
       " '674',\n",
       " '67441233',\n",
       " '68866',\n",
       " '69101',\n",
       " '69200',\n",
       " '69669',\n",
       " '69696',\n",
       " '69698',\n",
       " '69855',\n",
       " '69876',\n",
       " '69888',\n",
       " '69888jyt',\n",
       " '69969',\n",
       " '69988',\n",
       " '6ah',\n",
       " '6dqgs',\n",
       " '6dwys',\n",
       " '6hp',\n",
       " '6hrs',\n",
       " '6konthv',\n",
       " '6missed',\n",
       " '6months',\n",
       " '6ph',\n",
       " '6pm',\n",
       " '6th',\n",
       " '6times',\n",
       " '6wu',\n",
       " '6xu',\n",
       " '6yk',\n",
       " '700',\n",
       " '7250',\n",
       " '7250i',\n",
       " '7250k',\n",
       " '730',\n",
       " '731',\n",
       " '75',\n",
       " '750',\n",
       " '7548',\n",
       " '75kwx',\n",
       " '762',\n",
       " '7634',\n",
       " '7684',\n",
       " '77',\n",
       " '786',\n",
       " '7876150',\n",
       " '79',\n",
       " '7am',\n",
       " '7df',\n",
       " '7ewba1a',\n",
       " '7im',\n",
       " '7ish',\n",
       " '7mp',\n",
       " '7om',\n",
       " '7oz',\n",
       " '7pi',\n",
       " '7pm',\n",
       " '7pn',\n",
       " '7th',\n",
       " '7wd',\n",
       " '80',\n",
       " '800',\n",
       " '8000930705',\n",
       " '80062',\n",
       " '8007',\n",
       " '80082',\n",
       " '80086',\n",
       " '80155',\n",
       " '80160',\n",
       " '80182',\n",
       " '8027',\n",
       " '80488',\n",
       " '80608',\n",
       " '8077',\n",
       " '80878',\n",
       " '81010',\n",
       " '81151',\n",
       " '81303',\n",
       " '81618',\n",
       " '82050',\n",
       " '820554ae0e1705572711',\n",
       " '82242',\n",
       " '82277',\n",
       " '82324',\n",
       " '82468',\n",
       " '83021',\n",
       " '83039',\n",
       " '83049',\n",
       " '83118',\n",
       " '83222',\n",
       " '83332',\n",
       " '83338',\n",
       " '83355',\n",
       " '83383',\n",
       " '83435',\n",
       " '83600',\n",
       " '83738',\n",
       " '84',\n",
       " '84025',\n",
       " '84122',\n",
       " '84128',\n",
       " '84199',\n",
       " '84484',\n",
       " '85',\n",
       " '850',\n",
       " '85023',\n",
       " '85069',\n",
       " '85222',\n",
       " '85233',\n",
       " '86021',\n",
       " '861',\n",
       " '864233',\n",
       " '86688',\n",
       " '86888',\n",
       " '87021',\n",
       " '87066',\n",
       " '87070',\n",
       " '87077',\n",
       " '87121',\n",
       " '87131',\n",
       " '8714714',\n",
       " '872',\n",
       " '87239',\n",
       " '87575',\n",
       " '8800',\n",
       " '88039',\n",
       " '88066',\n",
       " '88088',\n",
       " '88222',\n",
       " '88600',\n",
       " '88800',\n",
       " '8883',\n",
       " '88877',\n",
       " '88888',\n",
       " '89034',\n",
       " '89070',\n",
       " '89080',\n",
       " '89105',\n",
       " '89123',\n",
       " '89545',\n",
       " '89555',\n",
       " '89693',\n",
       " '89938',\n",
       " '8am',\n",
       " '8bwlp',\n",
       " '8lb',\n",
       " '8p',\n",
       " '8th',\n",
       " '8w',\n",
       " '8wp',\n",
       " '900',\n",
       " '9061100010',\n",
       " '9153',\n",
       " '9280114',\n",
       " '92m',\n",
       " '930',\n",
       " '9307622',\n",
       " '945',\n",
       " '946',\n",
       " '95',\n",
       " '9758',\n",
       " '99',\n",
       " '9996',\n",
       " '9am',\n",
       " '9da',\n",
       " '9dj',\n",
       " '9dm',\n",
       " '9ja',\n",
       " '9ki',\n",
       " '9pj',\n",
       " '9pm',\n",
       " '9t',\n",
       " '9xe',\n",
       " '9yj',\n",
       " '____',\n",
       " 'a21',\n",
       " 'a30',\n",
       " 'a3cj',\n",
       " 'aa',\n",
       " 'aab',\n",
       " 'aacrwf',\n",
       " 'aae',\n",
       " 'aaek',\n",
       " 'aah',\n",
       " 'aaht',\n",
       " 'aakad',\n",
       " 'aaniye',\n",
       " 'aare',\n",
       " 'aart',\n",
       " 'aarysmvs',\n",
       " 'aate',\n",
       " 'aathi',\n",
       " 'aaw',\n",
       " 'aayfinq',\n",
       " 'ab',\n",
       " 'abbey',\n",
       " 'abceuon',\n",
       " 'abd',\n",
       " 'abdomen',\n",
       " 'abe',\n",
       " 'abeg',\n",
       " 'abel',\n",
       " 'abf',\n",
       " 'abg',\n",
       " 'abi',\n",
       " 'abiex',\n",
       " 'ability',\n",
       " 'abiola',\n",
       " 'abj',\n",
       " 'abki',\n",
       " 'able',\n",
       " 'abnormally',\n",
       " 'aboutas',\n",
       " 'abq',\n",
       " 'abs',\n",
       " 'absence',\n",
       " 'abshmon',\n",
       " 'absolutely',\n",
       " 'absolutly',\n",
       " 'abstract',\n",
       " 'abt',\n",
       " 'abtkvzde',\n",
       " 'abup',\n",
       " 'aburo',\n",
       " 'abusers',\n",
       " 'abv',\n",
       " 'abysr',\n",
       " 'ac',\n",
       " 'ac1n3rx',\n",
       " 'ac1n3vx',\n",
       " 'academic',\n",
       " 'acamt',\n",
       " 'acapt',\n",
       " 'acc',\n",
       " 'accent',\n",
       " 'accenture',\n",
       " 'accept',\n",
       " 'access',\n",
       " 'accgxf',\n",
       " 'accidant',\n",
       " 'accident',\n",
       " 'accidentally',\n",
       " 'accolmg',\n",
       " 'accomodate',\n",
       " 'accomodations',\n",
       " 'accomut',\n",
       " 'accookobatlokvourvers',\n",
       " 'accordin',\n",
       " 'accordingly',\n",
       " 'account',\n",
       " 'accounting',\n",
       " ...]"
      ]
     },
     "execution_count": 28,
     "metadata": {},
     "output_type": "execute_result"
    }
   ],
   "source": [
    "cv1.get_feature_names()"
   ]
  },
  {
   "cell_type": "code",
   "execution_count": 29,
   "metadata": {},
   "outputs": [],
   "source": [
    "predictions=mnb.predict(x_testcv)"
   ]
  },
  {
   "cell_type": "code",
   "execution_count": 30,
   "metadata": {},
   "outputs": [
    {
     "data": {
      "text/plain": [
       "array([1, 1, 1, ..., 1, 1, 1])"
      ]
     },
     "execution_count": 30,
     "metadata": {},
     "output_type": "execute_result"
    }
   ],
   "source": [
    "predictions"
   ]
  },
  {
   "cell_type": "code",
   "execution_count": 31,
   "metadata": {},
   "outputs": [],
   "source": [
    "actual=np.array(y_test)"
   ]
  },
  {
   "cell_type": "code",
   "execution_count": 32,
   "metadata": {},
   "outputs": [
    {
     "data": {
      "text/plain": [
       "array([1, 1, 1, ..., 1, 1, 0], dtype=object)"
      ]
     },
     "execution_count": 32,
     "metadata": {},
     "output_type": "execute_result"
    }
   ],
   "source": [
    "actual"
   ]
  },
  {
   "cell_type": "code",
   "execution_count": 33,
   "metadata": {},
   "outputs": [],
   "source": [
    "count=0"
   ]
  },
  {
   "cell_type": "code",
   "execution_count": 34,
   "metadata": {},
   "outputs": [],
   "source": [
    "for i in range (len(predictions)):\n",
    "    if predictions[i]==actual[i]:\n",
    "        count=count+1"
   ]
  },
  {
   "cell_type": "code",
   "execution_count": 35,
   "metadata": {},
   "outputs": [
    {
     "data": {
      "text/plain": [
       "1001"
      ]
     },
     "execution_count": 35,
     "metadata": {},
     "output_type": "execute_result"
    }
   ],
   "source": [
    "count"
   ]
  },
  {
   "cell_type": "code",
   "execution_count": 36,
   "metadata": {},
   "outputs": [
    {
     "data": {
      "text/plain": [
       "1115"
      ]
     },
     "execution_count": 36,
     "metadata": {},
     "output_type": "execute_result"
    }
   ],
   "source": [
    "len(predictions)"
   ]
  },
  {
   "cell_type": "code",
   "execution_count": 37,
   "metadata": {},
   "outputs": [
    {
     "data": {
      "text/plain": [
       "0.8977578475336323"
      ]
     },
     "execution_count": 37,
     "metadata": {},
     "output_type": "execute_result"
    }
   ],
   "source": [
    "1001/1115"
   ]
  },
  {
   "cell_type": "code",
   "execution_count": 47,
   "metadata": {},
   "outputs": [],
   "source": [
    "pre=predictions.tolist()\n",
    "act=actual.tolist()"
   ]
  },
  {
   "cell_type": "code",
   "execution_count": 49,
   "metadata": {},
   "outputs": [
    {
     "data": {
      "text/plain": [
       "0.71485678905997629"
      ]
     },
     "execution_count": 49,
     "metadata": {},
     "output_type": "execute_result"
    }
   ],
   "source": [
    "from sklearn.metrics import f1_score\n",
    "f1_score(act, pre, average='macro')\n"
   ]
  }
 ],
 "metadata": {
  "anaconda-cloud": {},
  "kernelspec": {
   "display_name": "Python 2",
   "language": "python",
   "name": "python2"
  },
  "language_info": {
   "codemirror_mode": {
    "name": "ipython",
    "version": 3
   },
   "file_extension": ".py",
   "mimetype": "text/x-python",
   "name": "python",
   "nbconvert_exporter": "python",
   "pygments_lexer": "ipython3",
   "version": "3.6.4"
  }
 },
 "nbformat": 4,
 "nbformat_minor": 1
}
