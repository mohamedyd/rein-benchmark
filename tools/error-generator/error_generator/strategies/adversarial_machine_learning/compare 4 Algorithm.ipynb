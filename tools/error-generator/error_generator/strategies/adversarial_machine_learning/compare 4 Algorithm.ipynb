{
 "cells": [
  {
   "cell_type": "markdown",
   "metadata": {},
   "source": [
    "# load data"
   ]
  },
  {
   "cell_type": "code",
   "execution_count": 7,
   "metadata": {},
   "outputs": [],
   "source": [
    "# import load_iris function from datasets module\n",
    "import matplotlib.pyplot as plt\n",
    "from sklearn.datasets import load_iris\n",
    "from sklearn.model_selection import train_test_split\n",
    "from sklearn.naive_bayes import MultinomialNB\n",
    "from sklearn.metrics import f1_score\n",
    "from sklearn.metrics import accuracy_score\n",
    "from sklearn.metrics import classification_report\n",
    "from sklearn.metrics import confusion_matrix\n",
    "\n",
    "import random\n",
    "import numpy as np\n",
    "import pandas as pd\n",
    "from sklearn.ensemble import ExtraTreesClassifier"
   ]
  },
  {
   "cell_type": "code",
   "execution_count": 2,
   "metadata": {},
   "outputs": [
    {
     "data": {
      "text/plain": [
       "(11500, 179)"
      ]
     },
     "execution_count": 2,
     "metadata": {},
     "output_type": "execute_result"
    }
   ],
   "source": [
    "data = pd.read_csv(\"../../../accuracy_drop_proj/datasets/EEG_data_Epileptic_Seizure_Recognition.csv\")\n",
    "data = data.drop(['Unnamed: 0'], axis=1)\n",
    "data.shape\n",
    "\n"
   ]
  },
  {
   "cell_type": "code",
   "execution_count": 3,
   "metadata": {},
   "outputs": [],
   "source": [
    "y = data.y.values\n",
    "\n",
    "del data[\"y\"] # remove rings from data, so we can convert all the dataframe to a numpy 2D array.\n",
    "X = data.values.astype(np.float)"
   ]
  },
  {
   "cell_type": "code",
   "execution_count": 4,
   "metadata": {},
   "outputs": [
    {
     "data": {
      "text/plain": [
       "(11500,)"
      ]
     },
     "execution_count": 4,
     "metadata": {},
     "output_type": "execute_result"
    }
   ],
   "source": [
    "y.shape"
   ]
  },
  {
   "cell_type": "code",
   "execution_count": 5,
   "metadata": {},
   "outputs": [],
   "source": [
    "#y = data['y']\n",
    "# data = data.drop(['y'],axis=1)\n",
    "# data.head()"
   ]
  },
  {
   "cell_type": "code",
   "execution_count": 6,
   "metadata": {},
   "outputs": [],
   "source": [
    "x_train, x_test, y_train, y_test = train_test_split(data, y, test_size=0.30,random_state=4)"
   ]
  },
  {
   "cell_type": "code",
   "execution_count": 7,
   "metadata": {},
   "outputs": [
    {
     "name": "stdout",
     "output_type": "stream",
     "text": [
      "(3450, 178)\n",
      "(8050, 178)\n"
     ]
    }
   ],
   "source": [
    "print(x_test.shape)\n",
    "print(x_train.shape)"
   ]
  },
  {
   "cell_type": "code",
   "execution_count": 8,
   "metadata": {},
   "outputs": [],
   "source": [
    "#find the order of the feature according to information gain\n",
    "model = ExtraTreesClassifier()\n",
    "model.fit(data, y)\n",
    "\n",
    "\n",
    "information_gain = {}\n",
    "for i in range(len(model.feature_importances_)):\n",
    "    information_gain.update({i: model.feature_importances_[i]})\n"
   ]
  },
  {
   "cell_type": "code",
   "execution_count": 9,
   "metadata": {},
   "outputs": [
    {
     "data": {
      "text/plain": [
       "{0: 0.005073381108104727,\n",
       " 1: 0.004641207608452361,\n",
       " 2: 0.004409757918398264,\n",
       " 3: 0.003951867530210572,\n",
       " 4: 0.00452884637692777,\n",
       " 5: 0.004827868156802329,\n",
       " 6: 0.00800752665040871,\n",
       " 7: 0.00509620748988935,\n",
       " 8: 0.004850959792600359,\n",
       " 9: 0.004436249820192257,\n",
       " 10: 0.004977964358864892,\n",
       " 11: 0.005046833224483586,\n",
       " 12: 0.004614454290808314,\n",
       " 13: 0.008863377695298044,\n",
       " 14: 0.004781141105916478,\n",
       " 15: 0.004913868352759549,\n",
       " 16: 0.005581634549107967,\n",
       " 17: 0.004810836978222792,\n",
       " 18: 0.005903926866380381,\n",
       " 19: 0.004887980994349723,\n",
       " 20: 0.00457455044897729,\n",
       " 21: 0.005759085981380913,\n",
       " 22: 0.008266585979375903,\n",
       " 23: 0.005108234356707523,\n",
       " 24: 0.00494853476774224,\n",
       " 25: 0.004263731615138571,\n",
       " 26: 0.004892793893135452,\n",
       " 27: 0.0049239703568061495,\n",
       " 28: 0.007910329612208377,\n",
       " 29: 0.005050644712918826,\n",
       " 30: 0.005202313789241869,\n",
       " 31: 0.0070819506693103095,\n",
       " 32: 0.0059647370952952755,\n",
       " 33: 0.007703146208434096,\n",
       " 34: 0.003920931070016262,\n",
       " 35: 0.007738525456939055,\n",
       " 36: 0.008584820512823828,\n",
       " 37: 0.0042250038731350865,\n",
       " 38: 0.004453187749427579,\n",
       " 39: 0.00585113984706515,\n",
       " 40: 0.004283747384415606,\n",
       " 41: 0.005262303040014925,\n",
       " 42: 0.0066953502449918255,\n",
       " 43: 0.004055685013100763,\n",
       " 44: 0.006779111751756481,\n",
       " 45: 0.006193033691191417,\n",
       " 46: 0.004662998251501344,\n",
       " 47: 0.004527115793439342,\n",
       " 48: 0.004494258736892742,\n",
       " 49: 0.004922340505469964,\n",
       " 50: 0.004910659269074723,\n",
       " 51: 0.005693816187993831,\n",
       " 52: 0.00623839909782809,\n",
       " 53: 0.005159058100195719,\n",
       " 54: 0.005204276236707336,\n",
       " 55: 0.004594577074016043,\n",
       " 56: 0.005158251608479986,\n",
       " 57: 0.00966201064870487,\n",
       " 58: 0.006134317581522827,\n",
       " 59: 0.00512673548378965,\n",
       " 60: 0.007719927635978145,\n",
       " 61: 0.005194402280636015,\n",
       " 62: 0.0075498468506722885,\n",
       " 63: 0.004628907748293897,\n",
       " 64: 0.004329769092578829,\n",
       " 65: 0.005843122372024501,\n",
       " 66: 0.008415156233972943,\n",
       " 67: 0.009396201269830718,\n",
       " 68: 0.005562141696247024,\n",
       " 69: 0.0049971793317566,\n",
       " 70: 0.005444462556366772,\n",
       " 71: 0.00399136552212919,\n",
       " 72: 0.004815733037140093,\n",
       " 73: 0.005372225280530562,\n",
       " 74: 0.009007935999369656,\n",
       " 75: 0.00512853474273432,\n",
       " 76: 0.00708163170217076,\n",
       " 77: 0.004883163602365669,\n",
       " 78: 0.005113278351645608,\n",
       " 79: 0.005691445807454327,\n",
       " 80: 0.004769774592451132,\n",
       " 81: 0.004819852443994821,\n",
       " 82: 0.005338865858979831,\n",
       " 83: 0.006059017387840648,\n",
       " 84: 0.005139047019932097,\n",
       " 85: 0.00526608924829722,\n",
       " 86: 0.0051641403206919255,\n",
       " 87: 0.005101595508128417,\n",
       " 88: 0.0048636532365600406,\n",
       " 89: 0.005466273207657378,\n",
       " 90: 0.005849138864010761,\n",
       " 91: 0.005258105974651895,\n",
       " 92: 0.004192472811606731,\n",
       " 93: 0.00475297973740741,\n",
       " 94: 0.00904829289387472,\n",
       " 95: 0.009293146399597945,\n",
       " 96: 0.0048104057145423925,\n",
       " 97: 0.008065017778370098,\n",
       " 98: 0.00639351488601613,\n",
       " 99: 0.0056812196497437965,\n",
       " 100: 0.0048828989730744605,\n",
       " 101: 0.005239073268864596,\n",
       " 102: 0.006025149736343159,\n",
       " 103: 0.008085622198716976,\n",
       " 104: 0.007047435062753367,\n",
       " 105: 0.0086958639667997,\n",
       " 106: 0.004937929892327794,\n",
       " 107: 0.004766400770954051,\n",
       " 108: 0.008043317078965577,\n",
       " 109: 0.0076908812300209685,\n",
       " 110: 0.009410793937301477,\n",
       " 111: 0.007882900503116146,\n",
       " 112: 0.005696152213040467,\n",
       " 113: 0.004901190410158461,\n",
       " 114: 0.005928510914902481,\n",
       " 115: 0.006890482959522243,\n",
       " 116: 0.006756652971976805,\n",
       " 117: 0.00625684310420936,\n",
       " 118: 0.005125640567200969,\n",
       " 119: 0.006375022654612708,\n",
       " 120: 0.006155980239666999,\n",
       " 121: 0.005339264148160985,\n",
       " 122: 0.0046065798913403275,\n",
       " 123: 0.004695516781819185,\n",
       " 124: 0.007664037972784516,\n",
       " 125: 0.0043610009689603445,\n",
       " 126: 0.005072871580989886,\n",
       " 127: 0.007993369079924578,\n",
       " 128: 0.0045995722627817336,\n",
       " 129: 0.005979648424161395,\n",
       " 130: 0.004559224876978223,\n",
       " 131: 0.004525047108165635,\n",
       " 132: 0.004760507862237339,\n",
       " 133: 0.004318295769205908,\n",
       " 134: 0.003924567238112586,\n",
       " 135: 0.0048385386903131425,\n",
       " 136: 0.005065578972114336,\n",
       " 137: 0.004770748474459708,\n",
       " 138: 0.004400926526941144,\n",
       " 139: 0.006214440353927828,\n",
       " 140: 0.004229047077951577,\n",
       " 141: 0.003825101183379346,\n",
       " 142: 0.004999354606833163,\n",
       " 143: 0.004826884608851895,\n",
       " 144: 0.0046165140280769006,\n",
       " 145: 0.004214383388858165,\n",
       " 146: 0.004981718543269181,\n",
       " 147: 0.004149275839966418,\n",
       " 148: 0.009054786733412654,\n",
       " 149: 0.004393911772903434,\n",
       " 150: 0.0049004030488376754,\n",
       " 151: 0.004311457584985104,\n",
       " 152: 0.004569352923743662,\n",
       " 153: 0.005595086786464716,\n",
       " 154: 0.006614045354018973,\n",
       " 155: 0.00516571436743878,\n",
       " 156: 0.004083243269492113,\n",
       " 157: 0.00502857592262724,\n",
       " 158: 0.004403315545950575,\n",
       " 159: 0.008007136010471549,\n",
       " 160: 0.005264641122618042,\n",
       " 161: 0.004116789626327277,\n",
       " 162: 0.004787634592322225,\n",
       " 163: 0.005297762812777924,\n",
       " 164: 0.004132132843921605,\n",
       " 165: 0.0064036486374156225,\n",
       " 166: 0.008834797827545614,\n",
       " 167: 0.004758647207156578,\n",
       " 168: 0.005338759166421807,\n",
       " 169: 0.005156910883100951,\n",
       " 170: 0.008135004795558284,\n",
       " 171: 0.0051342834679108055,\n",
       " 172: 0.004780939521005825,\n",
       " 173: 0.0046455508618314465,\n",
       " 174: 0.00516832610889089,\n",
       " 175: 0.005643619857917656,\n",
       " 176: 0.004855252083129644,\n",
       " 177: 0.005204321135108115}"
      ]
     },
     "execution_count": 9,
     "metadata": {},
     "output_type": "execute_result"
    }
   ],
   "source": [
    "information_gain"
   ]
  },
  {
   "cell_type": "code",
   "execution_count": 10,
   "metadata": {},
   "outputs": [],
   "source": [
    "col_sorted=sorted(information_gain.items(), key=lambda x:x[1],reverse=True)\n",
    "select_col=[]\n",
    "for i in col_sorted:\n",
    "    select_col.append(i[0])"
   ]
  },
  {
   "cell_type": "code",
   "execution_count": 11,
   "metadata": {},
   "outputs": [
    {
     "name": "stdout",
     "output_type": "stream",
     "text": [
      "[57, 110, 67, 95, 148, 94, 74, 13, 166, 105, 36, 66, 22, 170, 103, 97, 108, 6, 159, 127, 28, 111, 35, 60, 33, 109, 124, 62, 31, 76, 104, 115, 44, 116, 42, 154, 165, 98, 119, 117, 52, 139, 45, 120, 58, 83, 102, 129, 32, 114, 18, 39, 90, 65, 21, 112, 51, 79, 99, 175, 153, 16, 68, 89, 70, 73, 121, 82, 168, 163, 85, 160, 41, 91, 101, 177, 54, 30, 61, 174, 155, 86, 53, 56, 169, 84, 171, 75, 59, 118, 78, 23, 87, 7, 0, 126, 136, 29, 11, 157, 142, 69, 146, 10, 24, 106, 27, 49, 15, 50, 113, 150, 26, 19, 77, 100, 88, 176, 8, 135, 5, 143, 81, 72, 17, 96, 162, 14, 172, 137, 80, 107, 132, 167, 93, 123, 46, 173, 1, 63, 144, 12, 122, 128, 55, 20, 152, 130, 4, 47, 131, 48, 38, 9, 2, 158, 138, 149, 125, 64, 133, 151, 40, 25, 140, 37, 145, 92, 147, 164, 161, 156, 43, 71, 3, 134, 34, 141]\n"
     ]
    }
   ],
   "source": [
    "print(select_col)"
   ]
  },
  {
   "cell_type": "code",
   "execution_count": 16,
   "metadata": {},
   "outputs": [
    {
     "name": "stderr",
     "output_type": "stream",
     "text": [
      "[Parallel(n_jobs=1)]: Done   1 out of   1 | elapsed:    0.1s remaining:    0.0s\n",
      "[Parallel(n_jobs=1)]: Done 178 out of 178 | elapsed:    8.6s finished\n",
      "\n",
      "[2018-12-18 10:38:33] Features: 1/4 -- score: 0.3991304347826087[Parallel(n_jobs=1)]: Done   1 out of   1 | elapsed:    0.1s remaining:    0.0s\n",
      "[Parallel(n_jobs=1)]: Done 177 out of 177 | elapsed:   16.9s finished\n",
      "\n",
      "[2018-12-18 10:38:50] Features: 2/4 -- score: 0.936[Parallel(n_jobs=1)]: Done   1 out of   1 | elapsed:    0.1s remaining:    0.0s\n",
      "[Parallel(n_jobs=1)]: Done 176 out of 176 | elapsed:   17.7s finished\n",
      "\n",
      "[2018-12-18 10:39:08] Features: 3/4 -- score: 0.9999130434782608[Parallel(n_jobs=1)]: Done   1 out of   1 | elapsed:    0.1s remaining:    0.0s\n",
      "[Parallel(n_jobs=1)]: Done 175 out of 175 | elapsed:   21.2s finished\n",
      "\n",
      "[2018-12-18 10:39:29] Features: 4/4 -- score: 1.0"
     ]
    }
   ],
   "source": [
    "from mlxtend.feature_selection import SequentialFeatureSelector as SFS\n",
    "\n",
    "sfs1 = SFS(model, \n",
    "           k_features=4, \n",
    "           forward=True, \n",
    "           floating=False, \n",
    "           verbose=2,\n",
    "           scoring='accuracy',\n",
    "           cv=0)\n",
    "\n",
    "sfs1 = sfs1.fit(data, y)"
   ]
  },
  {
   "cell_type": "code",
   "execution_count": 17,
   "metadata": {},
   "outputs": [
    {
     "data": {
      "text/plain": [
       "(0, 14, 96, 171)"
      ]
     },
     "execution_count": 17,
     "metadata": {},
     "output_type": "execute_result"
    }
   ],
   "source": [
    "sfs1.k_feature_idx_"
   ]
  },
  {
   "cell_type": "code",
   "execution_count": null,
   "metadata": {},
   "outputs": [],
   "source": [
    "temp = data.iloc[:,[9, 52, 168, 33, 157, 107, 159, 1, 54, 166,178]]"
   ]
  },
  {
   "cell_type": "code",
   "execution_count": null,
   "metadata": {},
   "outputs": [],
   "source": [
    "temp.head()"
   ]
  },
  {
   "cell_type": "code",
   "execution_count": null,
   "metadata": {},
   "outputs": [],
   "source": [
    "y = temp.y.values\n",
    "\n",
    "del temp[\"y\"] # remove rings from data, so we can convert all the dataframe to a numpy 2D array.\n",
    "X = temp.values.astype(np.float)"
   ]
  },
  {
   "cell_type": "code",
   "execution_count": null,
   "metadata": {},
   "outputs": [],
   "source": [
    "y = temp['y']\n",
    "temp = temp.drop(['y'],axis=1)\n",
    "temp.shape"
   ]
  },
  {
   "cell_type": "code",
   "execution_count": null,
   "metadata": {},
   "outputs": [],
   "source": [
    "x_train, x_test, y_train, y_test = train_test_split(X, y, test_size=0.25,random_state=4)"
   ]
  },
  {
   "cell_type": "code",
   "execution_count": null,
   "metadata": {},
   "outputs": [],
   "source": []
  },
  {
   "cell_type": "code",
   "execution_count": null,
   "metadata": {},
   "outputs": [],
   "source": [
    "from sklearn import svm\n",
    "\n",
    "model_svm= svm.SVC(probability=True)\n",
    "model_svm.fit(x_train, y_train)\n",
    "\n",
    "\n",
    "y_predsvm = model_svm.predict(x_test)\n",
    "print('Accuracy of svm classifier on train set: {:.2f}'.format(accuracy_score(y_test,y_predsvm)))\n"
   ]
  },
  {
   "cell_type": "code",
   "execution_count": null,
   "metadata": {},
   "outputs": [],
   "source": [
    "from sklearn import tree\n",
    "model1=tree.DecisionTreeClassifier()\n",
    "print(\"train tree\")\n",
    "\n",
    "\n",
    "model1.fit(x_train,y_train)\n",
    "y_pred1 = model1.predict(x_test)\n",
    "print('Accuracy of tree classifier on train set: {:.2f}'.format(accuracy_score(y_test,y_pred1)))"
   ]
  },
  {
   "cell_type": "code",
   "execution_count": null,
   "metadata": {},
   "outputs": [],
   "source": []
  },
  {
   "cell_type": "code",
   "execution_count": null,
   "metadata": {},
   "outputs": [],
   "source": [
    "model_svm.predict([[-14,-61,-29,-1,44,18,-45,-14,1,16]])"
   ]
  },
  {
   "cell_type": "code",
   "execution_count": null,
   "metadata": {},
   "outputs": [],
   "source": [
    "import heapq\n",
    "import numpy as np\n",
    "from sklearn.feature_selection import SelectKBest, f_classif\n",
    "from sklearn.feature_selection import chi2\n",
    "from sklearn.ensemble import ExtraTreesClassifier\n",
    "from accuracy_drop_proj.strategies.change_combination.change_combination import Change_Combination\n",
    "\n",
    "\"\"\"\n",
    "this method according the user request find the difference of the probability for each class and then sort the rows according to them.\n",
    "for example if we have [0.1  0.6  0.3] and request of user be [0,1] we compute 0.5 for this row and sort the row Ascending\n",
    "\"\"\"\n",
    "\n",
    "class Change_ProbabilityDistance_RankFeature(object):\n",
    "    def __init__(self):\n",
    "        pass\n",
    "\n",
    "    def change(self,x_train, y_train, percetage, mnb, change_plan):\n",
    "        number_change_requested = int(percetage / 100 * x_train.shape[0])\n",
    "        print(\"{} percentage error is equal to {} change \\n\".format(percetage, number_change_requested))\n",
    "\n",
    "\n",
    "        used_row ={}\n",
    "        occurred_change = 0\n",
    "        all_changed = 1\n",
    "        change_done = False\n",
    "        x_train_changed = np.copy(x_train)\n",
    "\n",
    "        #---------------------find the order of the feature according to information gain-----------------------\n",
    "\n",
    "        model = ExtraTreesClassifier()\n",
    "        model.fit(x_train, y_train)\n",
    "\n",
    "        print(\"combination of feature\")\n",
    "\n",
    "        information_gain = {}\n",
    "        for i in range(len(model.feature_importances_)):\n",
    "            information_gain.update({i: model.feature_importances_[i]})\n",
    "\n",
    "        ranked_information_dic = {}\n",
    "        sum_gain = 0\n",
    "        for L in range(0,x_train.shape[1] + 1):\n",
    "            for subset in Change_Combination.combinations_index(self,information_gain.keys(), L):\n",
    "                if not subset:\n",
    "                    pass\n",
    "                else:\n",
    "\n",
    "                    for key in subset:\n",
    "                        sum_gain = sum_gain + information_gain.get(key)\n",
    "                    ranked_information_dic.update({tuple(subset): sum_gain})\n",
    "                    sum_gain = 0\n",
    "\n",
    "        print(\"create all subset\")\n",
    "\n",
    "        all_subset = sorted(ranked_information_dic.items(), key=lambda item: len(item[0]) * 1000 - item[1], reverse=False)\n",
    "\n",
    "\n",
    "\n",
    "\n",
    "        probability = mnb.predict_proba(x_train)\n",
    "        probability_distance={}\n",
    "\n",
    "        #----------------------------------------------changing--------------------------------------------------\n",
    "\n",
    "        for i in range(len(change_plan[\"key\"])):\n",
    "            occurred_change = 0\n",
    "\n",
    "            indices = [t for t, x in enumerate(y_train) if x == change_plan[\"key\"][i][0]]\n",
    "            # print(indices)\n",
    "            print(\"{} rows have target {} \\n\".format(len(indices), change_plan[\"key\"][i][0]))\n",
    "\n",
    "            probability_distance.clear()\n",
    "            probability_distance_sorted=[]\n",
    "\n",
    "            # find the distance probability between the class that user need to change\n",
    "\n",
    "            for elements in indices:\n",
    "                probability_distance.update({elements:np.abs(probability[elements][change_plan[\"key\"][i][0]]- probability[elements][change_plan[\"key\"][i][1]])})\n",
    "            # ---------------------------finding the order of the row according to probability distance-------------------------\n",
    "            # sort the row according the distance probability\n",
    "\n",
    "            probability_distance_sorted = sorted(probability_distance.items(), key=lambda x: x[1], reverse=False)\n",
    "            indices=[]\n",
    "            for j in probability_distance_sorted:\n",
    "                indices.append(j[0])\n",
    "\n",
    "            print(indices)\n",
    "\n",
    "            print(\"try in indices\")\n",
    "            for p in range(len(indices)):\n",
    "\n",
    "                if (all_changed == number_change_requested + 1):\n",
    "                    print(\"your requests have been done :)\")\n",
    "                    break\n",
    "                    \n",
    "               \n",
    "            \n",
    "#                 print(mnb.predict([x_train[indices[p]]]))\n",
    "                if y_train[indices[p]] == mnb.predict([x_train[indices[p]]]) and indices[p] not in used_row:\n",
    "\n",
    "                    change_done = False\n",
    "                    \n",
    "                    for subset in all_subset:\n",
    "                        if change_done:\n",
    "                            break\n",
    "                        else:\n",
    "\n",
    "                            if (occurred_change == change_plan[\"number\"][i]):\n",
    "                                #                         print(\"part of your request has been done :))))\")\n",
    "                                break\n",
    "\n",
    "                            print(\"try to change, with changing index {} on row {}\".format(list(subset[0]),indices[p]))\n",
    "\n",
    "                            #######################################################\n",
    "                            # impose Outlier insted of 0\n",
    "\n",
    "                           ########################################################\n",
    "                            x_train_changed[indices[p]][list(subset[0])] = 0\n",
    "\n",
    "                            if (change_plan[\"key\"][i][1] == mnb.predict([x_train_changed[indices[p]]])[0]):\n",
    "\n",
    "                                print(x_train[indices[p]], mnb.predict([x_train[indices[p]]])[0])\n",
    "                                print(x_train_changed[indices[p]],\n",
    "                                      mnb.predict([x_train_changed[indices[p]]])[0])\n",
    "                                print(\" \\n change number {} \\n\".format(all_changed))\n",
    "\n",
    "                                used_row.update({indices[p]: indices[p]})\n",
    "                                occurred_change = occurred_change + 1\n",
    "                                change_done = True\n",
    "                                all_changed = all_changed + 1\n",
    "                                break\n",
    "\n",
    "                            else:\n",
    "                                x_train_changed[indices[p]] = np.copy(x_train[indices[p]])\n",
    "\n",
    "        if (all_changed <= number_change_requested):\n",
    "            print(\"your request doesn't complete! please change your plan\")\n",
    "        return np.copy(x_train_changed)\n"
   ]
  },
  {
   "cell_type": "code",
   "execution_count": null,
   "metadata": {},
   "outputs": [],
   "source": [
    "change_plan={\"key\":[[4,2]],\"number\":[1]}"
   ]
  },
  {
   "cell_type": "code",
   "execution_count": null,
   "metadata": {},
   "outputs": [],
   "source": [
    "confus"
   ]
  },
  {
   "cell_type": "code",
   "execution_count": null,
   "metadata": {},
   "outputs": [],
   "source": [
    "classmodel = Change_ProbabilityDistance_RankFeature()\n",
    "classmodel.change(x_test, y_test,10,model_svm, change_plan)"
   ]
  },
  {
   "cell_type": "code",
   "execution_count": 18,
   "metadata": {},
   "outputs": [
    {
     "ename": "ModuleNotFoundError",
     "evalue": "No module named 'accuracy_drop_proj'",
     "output_type": "error",
     "traceback": [
      "\u001b[0;31m---------------------------------------------------------------------------\u001b[0m",
      "\u001b[0;31mModuleNotFoundError\u001b[0m                       Traceback (most recent call last)",
      "\u001b[0;32m<ipython-input-18-73894b30c4ad>\u001b[0m in \u001b[0;36m<module>\u001b[0;34m()\u001b[0m\n\u001b[1;32m      4\u001b[0m \u001b[0;32mfrom\u001b[0m \u001b[0msklearn\u001b[0m\u001b[0;34m.\u001b[0m\u001b[0mfeature_selection\u001b[0m \u001b[0;32mimport\u001b[0m \u001b[0mchi2\u001b[0m\u001b[0;34m\u001b[0m\u001b[0m\n\u001b[1;32m      5\u001b[0m \u001b[0;32mfrom\u001b[0m \u001b[0msklearn\u001b[0m\u001b[0;34m.\u001b[0m\u001b[0mensemble\u001b[0m \u001b[0;32mimport\u001b[0m \u001b[0mExtraTreesClassifier\u001b[0m\u001b[0;34m\u001b[0m\u001b[0m\n\u001b[0;32m----> 6\u001b[0;31m \u001b[0;32mfrom\u001b[0m \u001b[0maccuracy_drop_proj\u001b[0m\u001b[0;34m.\u001b[0m\u001b[0mstrategies\u001b[0m\u001b[0;34m.\u001b[0m\u001b[0mchange_combination\u001b[0m\u001b[0;34m.\u001b[0m\u001b[0mchange_combination\u001b[0m \u001b[0;32mimport\u001b[0m \u001b[0mChange_Combination\u001b[0m\u001b[0;34m\u001b[0m\u001b[0m\n\u001b[0m\u001b[1;32m      7\u001b[0m \u001b[0;34m\u001b[0m\u001b[0m\n\u001b[1;32m      8\u001b[0m \"\"\"\n",
      "\u001b[0;31mModuleNotFoundError\u001b[0m: No module named 'accuracy_drop_proj'"
     ]
    }
   ],
   "source": [
    "import heapq\n",
    "import numpy as np\n",
    "from sklearn.feature_selection import SelectKBest, f_classif\n",
    "from sklearn.feature_selection import chi2\n",
    "from sklearn.ensemble import ExtraTreesClassifier\n",
    "from accuracy_drop_proj.strategies.change_combination.change_combination import Change_Combination\n",
    "\n",
    "\"\"\"\n",
    "this  method first sort the rows according to uncetainity and features according to information gain and then pick\n",
    "first rows that classifer is not sure about them and feature are more likely to change \n",
    "\"\"\"\n",
    "class Change_Uncertainty_Rankfeatures(object):\n",
    "    def __init__(self):\n",
    "        pass\n",
    "\n",
    "    def change(self,x_train, y_train, percetage, mnb, change_plan):\n",
    "        number_change_requested = int(percetage / 100 * x_train.shape[0])\n",
    "        print(\"{} percentage error is equal to {} change \\n\".format(percetage, number_change_requested))\n",
    "\n",
    "        used_row ={}\n",
    "        occurred_change = 0\n",
    "        all_changed = 1\n",
    "        change_done = False\n",
    "        x_train_changed = np.copy(x_train)\n",
    "\n",
    "        #---------------------find the order of the feature according to information gain-----------------------\n",
    "\n",
    "        model = ExtraTreesClassifier()\n",
    "        model.fit(x_train, y_train)\n",
    "\n",
    "        print(\"combinatio of feature\")\n",
    "\n",
    "        information_gain = {}\n",
    "        for i in range(len(model.feature_importances_)):\n",
    "            information_gain.update({i: model.feature_importances_[i]})\n",
    "\n",
    "        ranked_information_dic = {}\n",
    "        sum_gain = 0\n",
    "        for L in range(0,x_train.shape[1] + 1):\n",
    "            for subset in Change_Combination.combinations_index(self,information_gain.keys(), L):\n",
    "                if not subset:\n",
    "                    pass\n",
    "                else:\n",
    "\n",
    "                    for key in subset:\n",
    "                        sum_gain = sum_gain + information_gain.get(key)\n",
    "                    ranked_information_dic.update({tuple(subset): sum_gain})\n",
    "                    sum_gain = 0\n",
    "\n",
    "        print(\"create all subset\")\n",
    "\n",
    "        all_subset = sorted(ranked_information_dic.items(), key=lambda item: len(item[0]) * 1000 - item[1], reverse=False)\n",
    "\n",
    "\n",
    "        #---------------------------finding the order of the row according to uncertainity-------------------------\n",
    "\n",
    "        probability = mnb.predict_proba(x_train)\n",
    "\n",
    "        print(\"finding uncertainity\")\n",
    "\n",
    "        uncertainty={}\n",
    "        for index,roww in enumerate(probability):\n",
    "            largest_val =heapq.nlargest(2, roww)\n",
    "            uncertainty.update({index:1-(np.abs(np.subtract(largest_val[0],largest_val[1])))})\n",
    "            largest_val=[]\n",
    "            # print(index,row,np.subtract(largest_val[0],largest_val[1]))\n",
    "\n",
    "        print(len(probability))\n",
    "        print(len(uncertainty))\n",
    "        #sort the uncertainty\n",
    "        uncertainty_sorted=sorted(uncertainty.items(), key=lambda x:x[1],reverse=True)\n",
    "\n",
    "\n",
    "        print(\"changing\")\n",
    "        #---------------------------------------------changing--------------------------------------------\n",
    "\n",
    "        for i in range(len(change_plan[\"key\"])):\n",
    "            occurred_change = 0\n",
    "            #sort the row according to uncertainty\n",
    "\n",
    "            indices=[]\n",
    "\n",
    "            for key_dic in uncertainty_sorted:\n",
    "                if y_train[key_dic[0]] == change_plan[\"key\"][i][0]:\n",
    "                    indices.append(key_dic[0])\n",
    "\n",
    "            print(indices)\n",
    "\n",
    "\n",
    "            #this is normal indices\n",
    "            # indices_2 = [t for t, x in enumerate(y_train) if x == change_plan[\"key\"][i][0]]\n",
    "\n",
    "\n",
    "            print(\"{} rows have target {} \\n\".format(len(indices), change_plan[\"key\"][i][0]))\n",
    "\n",
    "            for p in range(len(indices)):\n",
    "                print(\"try in indices\")\n",
    "                if (all_changed == number_change_requested + 1):\n",
    "                    print(\"your requests have been done :)\")\n",
    "                    break\n",
    "                if y_train[indices[p]] == mnb.predict([x_train[indices[p]]]) and indices[p] not in used_row:\n",
    "\n",
    "                    change_done = False\n",
    "                    for subset in all_subset:\n",
    "                        if change_done:\n",
    "                            break\n",
    "                        else:\n",
    "\n",
    "                            if (occurred_change == change_plan[\"number\"][i]):\n",
    "                                #                         print(\"part of your request has been done :))))\")\n",
    "                                break\n",
    "\n",
    "                            print(\"try to change, with change index {} on row {}\".format(list(subset[0]),indices[p]))\n",
    "                            x_train_changed[indices[p]][list(subset[0])] = 0\n",
    "\n",
    "                            if (change_plan[\"key\"][i][1] == mnb.predict([x_train_changed[indices[p]]])[0]):\n",
    "\n",
    "                                print(x_train[indices[p]], mnb.predict([x_train[indices[p]]])[0])\n",
    "                                print(x_train_changed[indices[p]],\n",
    "                                      mnb.predict([x_train_changed[indices[p]]])[0])\n",
    "                                print(\" \\n change number {} \\n\".format(all_changed))\n",
    "\n",
    "                                used_row.update({indices[p]: indices[p]})\n",
    "                                occurred_change = occurred_change + 1\n",
    "                                change_done = True\n",
    "                                all_changed = all_changed + 1\n",
    "                                break\n",
    "\n",
    "                            else:\n",
    "                                x_train_changed[indices[p]] = np.copy(x_train[indices[p]])\n",
    "\n",
    "        if (all_changed <= number_change_requested):\n",
    "            print(\"your request doesn't complete! please change your plan\")\n",
    "        return np.copy(x_train_changed)\n"
   ]
  },
  {
   "cell_type": "code",
   "execution_count": null,
   "metadata": {
    "scrolled": true
   },
   "outputs": [],
   "source": [
    "model2= Change_Uncertainty_Rankfeatures()\n",
    "model2.change(x_test, y_test,10,model1, change_plan)"
   ]
  },
  {
   "cell_type": "markdown",
   "metadata": {},
   "source": [
    "# plotting\n",
    "- increase number of the rows"
   ]
  },
  {
   "cell_type": "code",
   "execution_count": 19,
   "metadata": {},
   "outputs": [],
   "source": [
    "alg1=[0.356,0.424,1.069,1.121,2.764,2.861,4.963,3.568,4.540,4.029,3.993]\n",
    "alg2=[0.115,0.242,0.848,0.763,2.166,2.387,2.986,2.668,3.887,2.758,2.970]\n",
    "alg3=[0.224,0.211,1.099,0.637,1.747,3.280,2.866,3.429,3.541,2.662,2.983]\n",
    "alg4=[0.208,0.202,0.980,0.701,2.444,2.343,3.070,2.864,3.794,2.773,4.555]"
   ]
  },
  {
   "cell_type": "code",
   "execution_count": 63,
   "metadata": {},
   "outputs": [
    {
     "data": {
      "text/plain": [
       "<matplotlib.legend.Legend at 0x7ffa49730ba8>"
      ]
     },
     "execution_count": 63,
     "metadata": {},
     "output_type": "execute_result"
    },
    {
     "data": {
      "image/png": "[encoded data removed]",
      "text/plain": [
       "<Figure size 800x640 with 1 Axes>"
      ]
     },
     "metadata": {},
     "output_type": "display_data"
    }
   ],
   "source": [
    "from matplotlib.pyplot import figure\n",
    "figure(num=None, figsize=(10, 8), dpi=80, facecolor='w', edgecolor='k')\n",
    "plt.grid(True)\n",
    "x=[500,1000,2000,3000,4000,5000,6000,7000,8000,9000,10000] \n",
    "plt.yticks(np.arange(0, 5, 0.1))\n",
    "plt.xticks(x)\n",
    "\n",
    "plt.plot(x,alg1,c='red',linewidth=3,label= 'Algorithm 1')\n",
    "plt.plot(x,alg2,c= 'blue',linewidth=3,label= 'Algorithm 2')\n",
    "plt.plot(x,alg3,c='green',linewidth=3,label= 'Algorithm 3')\n",
    "plt.plot(x,alg4,c= 'black',linewidth=3,label= 'Algorithm 4')\n",
    "plt.xlabel('Number of the Rows')\n",
    "plt.ylabel('Time (sec)')\n",
    "plt.legend()\n"
   ]
  },
  {
   "cell_type": "markdown",
   "metadata": {},
   "source": [
    "# plotting\n",
    "- increase number of column(Features)"
   ]
  },
  {
   "cell_type": "code",
   "execution_count": 14,
   "metadata": {},
   "outputs": [],
   "source": [
    "alg1_col =[0.356,17.164,7200,7200,7200,7200,7200,7200,7200,7200]\n",
    "alg2_col =[0.115,25.774,7200,7200,7200,7200,7200,7200,7200,7200]\n",
    "alg3_col =[0.224,6.793,7200,7200,7200,7200,7200,7200,7200,7200]\n",
    "alg4_col =[0.208,7.418,7200,7200,7200,7200,7200,7200,7200,7200]"
   ]
  },
  {
   "cell_type": "code",
   "execution_count": 15,
   "metadata": {},
   "outputs": [
    {
     "data": {
      "text/plain": [
       "<matplotlib.legend.Legend at 0x7f5434c27278>"
      ]
     },
     "execution_count": 15,
     "metadata": {},
     "output_type": "execute_result"
    },
    {
     "data": {
      "image/png": "[encoded data removed]",
      "text/plain": [
       "<Figure size 800x640 with 1 Axes>"
      ]
     },
     "metadata": {},
     "output_type": "display_data"
    }
   ],
   "source": [
    "from matplotlib.pyplot import figure\n",
    "figure(num=None, figsize=(10, 8), dpi=80, facecolor='w', edgecolor='k')\n",
    "plt.grid(True)\n",
    "x=[10,20,30,40,50,60,70,80,90,100] \n",
    "#plt.yticks(np.arange(0, 5, 0.1))\n",
    "plt.xticks(x)\n",
    "\n",
    "plt.plot(x,alg1_col,c='red',linewidth=6,label= 'Algorithm 1')\n",
    "plt.plot(x,alg2_col,c= 'blue',linewidth=4,label= 'Algorithm 2')\n",
    "plt.plot(x,alg3_col,c='green',linewidth=2,label= 'Algorithm 3')\n",
    "plt.plot(x,alg4_col,c= 'black',linewidth=1,label= 'Algorithm 4')\n",
    "plt.xlabel('Number of the columns(Features)')\n",
    "plt.ylabel('Time (sec)')\n",
    "plt.legend()"
   ]
  },
  {
   "cell_type": "markdown",
   "metadata": {},
   "source": [
    "# plotting\n",
    "- prunning columns"
   ]
  },
  {
   "cell_type": "code",
   "execution_count": 29,
   "metadata": {},
   "outputs": [],
   "source": [
    "alg1_col_prunning =[0.373,2.437,143.573,269.429,3028.437,3028.437]\n",
    "alg2_col_prunning =[0.217,0.742,2.029,3.315,5.455,4.870]\n",
    "alg3_col_prunning =[0.189,3.051,30.391,62.347,254.160,609.44]\n",
    "alg4_col_prunning =[0.192,1.910,10.427,29.151,261.219,281.683]"
   ]
  },
  {
   "cell_type": "code",
   "execution_count": 30,
   "metadata": {},
   "outputs": [
    {
     "data": {
      "text/plain": [
       "<matplotlib.legend.Legend at 0x7f54358069b0>"
      ]
     },
     "execution_count": 30,
     "metadata": {},
     "output_type": "execute_result"
    },
    {
     "data": {
      "image/png": "[encoded data removed]",
      "text/plain": [
       "<Figure size 800x640 with 1 Axes>"
      ]
     },
     "metadata": {},
     "output_type": "display_data"
    }
   ],
   "source": [
    "from matplotlib.pyplot import figure\n",
    "figure(num=None, figsize=(10, 8), dpi=80, facecolor='w', edgecolor='k')\n",
    "plt.grid(True)\n",
    "x=[10,20,30,40,50,60] \n",
    "#plt.yticks(np.arange(0, 5, 0.1))\n",
    "plt.xticks(x)\n",
    "\n",
    "plt.plot(x,alg1_col_prunning,c='red',linewidth=3,label= 'Algorithm 1')\n",
    "plt.plot(x,alg2_col_prunning,c= 'blue',linewidth=3,label= 'Algorithm 2')\n",
    "plt.plot(x,alg3_col_prunning,c='green',linewidth=3,label= 'Algorithm 3')\n",
    "plt.plot(x,alg4_col_prunning,c= 'black',linewidth=3,label= 'Algorithm 4')\n",
    "plt.xlabel('Number of the columns(Features)')\n",
    "plt.ylabel('Time (sec)')\n",
    "plt.legend()"
   ]
  },
  {
   "cell_type": "markdown",
   "metadata": {},
   "source": [
    "# after fix bugs"
   ]
  },
  {
   "cell_type": "code",
   "execution_count": null,
   "metadata": {},
   "outputs": [],
   "source": [
    "alg1_col_increase =[0.192,0.235,]\n",
    "alg2_col_increase =[0.070,0.083,]\n",
    "alg3_col_increase =[0.043,4.350,]\n",
    "alg4_col_increase =[0.042,4.367]"
   ]
  }
 ],
 "metadata": {
  "kernelspec": {
   "display_name": "Python 3",
   "language": "python",
   "name": "python3"
  },
  "language_info": {
   "codemirror_mode": {
    "name": "ipython",
    "version": 3
   },
   "file_extension": ".py",
   "mimetype": "text/x-python",
   "name": "python",
   "nbconvert_exporter": "python",
   "pygments_lexer": "ipython3",
   "version": "3.6.4"
  }
 },
 "nbformat": 4,
 "nbformat_minor": 2
}
