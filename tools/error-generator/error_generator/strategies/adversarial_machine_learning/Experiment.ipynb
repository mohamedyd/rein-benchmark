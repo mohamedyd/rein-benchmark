{
 "cells": [
  {
   "cell_type": "code",
   "execution_count": 1,
   "metadata": {},
   "outputs": [
    {
     "name": "stderr",
     "output_type": "stream",
     "text": [
      "/home/milad/anaconda3/lib/python3.6/site-packages/sklearn/cross_validation.py:41: DeprecationWarning: This module was deprecated in version 0.18 in favor of the model_selection module into which all the refactored classes and functions are moved. Also note that the interface of the new CV iterators are different from that of this module. This module will be removed in 0.20.\n",
      "  \"This module will be removed in 0.20.\", DeprecationWarning)\n"
     ]
    }
   ],
   "source": [
    "# import load_iris function from datasets module\n",
    "from sklearn.datasets import load_iris\n",
    "from sklearn.cross_validation import train_test_split\n",
    "from sklearn.naive_bayes import MultinomialNB\n",
    "from sklearn.metrics import f1_score\n",
    "from sklearn.metrics import accuracy_score\n",
    "from sklearn.metrics import classification_report\n",
    "from sklearn.metrics import confusion_matrix\n",
    "import random\n",
    "import numpy as np\n",
    "import pandas as pd"
   ]
  },
  {
   "cell_type": "markdown",
   "metadata": {},
   "source": [
    "# load iris"
   ]
  },
  {
   "cell_type": "code",
   "execution_count": null,
   "metadata": {},
   "outputs": [],
   "source": [
    "# save \"bunch\" object containing iris dataset and its attributes\n",
    "iris = load_iris()\n",
    "\n",
    "\n",
    "# store feature matrix in \"X\"# store  \n",
    "X = iris.data\n",
    "\n",
    "# store response vector in \"y\"\n",
    "y = iris.target\n",
    "\n",
    "x_train_iris, x_test_iris, y_train_iris, y_test_iris = train_test_split(X, y, test_size=0.2, random_state=4)\n",
    "\n",
    "#classifier\n",
    "mnb = MultinomialNB()\n",
    "mnb.fit(x_train_iris,y_train_iris)\n"
   ]
  },
  {
   "cell_type": "markdown",
   "metadata": {},
   "source": [
    "# Accuracy on test data"
   ]
  },
  {
   "cell_type": "code",
   "execution_count": null,
   "metadata": {},
   "outputs": [],
   "source": [
    "y_pred=mnb.predict(x_test_iris)\n",
    "\n",
    "\n",
    "print (\"Accuracy on test data is {}\".format(accuracy_score(y_test_iris, y_pred)))\n",
    "confusion_matrix(y_test_iris, y_pred)"
   ]
  },
  {
   "cell_type": "markdown",
   "metadata": {},
   "source": [
    "# check all the combination"
   ]
  },
  {
   "cell_type": "code",
   "execution_count": null,
   "metadata": {},
   "outputs": [],
   "source": [
    "def combinations_index(iterable, r):\n",
    "    # combinations('ABCD', 2) --> AB AC AD BC BD CD\n",
    "    # combinations(range(4), 3) --> 012 013 023 123\n",
    "    pool = tuple(iterable)\n",
    "    n = len(pool)\n",
    "    if r > n:\n",
    "        return\n",
    "    indices = list(range(r))\n",
    "    yield list(indices)\n",
    "    \n",
    "    while True:\n",
    "        for i in reversed(range(r)):\n",
    "            if indices[i] != i + n - r:\n",
    "                break\n",
    "        else:\n",
    "            return\n",
    "        indices[i] += 1\n",
    "\n",
    "        for j in range(i+1, r):\n",
    "            indices[j] = indices[j-1] + 1\n",
    "        yield list(indices)\n",
    "        \n",
    "        \n",
    "\n",
    "def check_all_combination(x_train,y_train,percetage,mnb,change_plan):\n",
    "    number_change_requested = int(percetage/100*x_train.shape[0])\n",
    "    print(\"{} percentage error is equal to {} change \\n\".format(percetage,number_change_requested))\n",
    "    \n",
    "    used_row=[]\n",
    "    occurred_change = 0\n",
    "    all_changed = 1\n",
    "    change_done=False\n",
    "    x_train_changed = np.copy(x_train)\n",
    "    \n",
    "    for i in range(len(change_plan[\"key\"])):\n",
    "        occurred_change = 0\n",
    "        \n",
    "        indices = [t for t, x in enumerate(y_train) if x == change_plan[\"key\"][i][0]]\n",
    "        print(\"{} rows have target {} \\n\".format(len(indices),change_plan[\"key\"][i][0]))\n",
    "        \n",
    "        \n",
    "        for p in range (len(indices)):\n",
    "            if (all_changed == number_change_requested +1):\n",
    "                print(\"your requests have been done :)\")\n",
    "                break\n",
    "            if y_train[indices[p]] == mnb.predict([x_train[indices[p]]])  and  indices[p] not in used_row :\n",
    "                \n",
    "\n",
    "                change_done=False\n",
    "                for L in range(0, len(x_train_changed[indices[p]])+1):\n",
    "                    if change_done:\n",
    "\n",
    "                        break\n",
    "                    else:\n",
    "                        for subset in combinations_index(x_train_changed[indices[p]], L):\n",
    "                            if not subset:\n",
    "                                pass\n",
    "                            else:\n",
    "\n",
    "                                x_train_changed[indices[p]][subset] = 0\n",
    "\n",
    "                                if (change_plan[\"key\"][i][1] == mnb.predict([x_train_changed[indices[p]]])[0]):\n",
    "\n",
    "                                    print(x_train[indices[p]],mnb.predict([x_train[indices[p]]])[0])\n",
    "                                    print(x_train_changed[indices[p]],mnb.predict([x_train_changed[indices[p]]])[0])\n",
    "                                    print(\" \\n change number {} \\n\".format(all_changed))\n",
    "                                    \n",
    "                                    used_row.append(indices[p])\n",
    "                                    occurred_change=occurred_change + 1\n",
    "                                    change_done=True\n",
    "                                    all_changed=all_changed + 1\n",
    "                                    break\n",
    "\n",
    "                                else:\n",
    "                                    x_train_changed[indices[p]]= np.copy(x_train[indices[p]])\n",
    "\n",
    "    if (all_changed<=number_change_requested):\n",
    "        print(\"your request doesn't complete! please change your plan\")\n",
    "    return np.copy(x_train_changed)\n",
    "\n",
    "\n",
    "\n",
    "\n",
    "\n",
    "\n",
    "def check_all_combination_change_plan(x_train,y_train,percetage,mnb,change_plan):\n",
    "    number_change_requested = int(percetage/100*x_train.shape[0])\n",
    "    print(\"{} percentage error is equal to {} change \\n\".format(percetage,number_change_requested))\n",
    "    \n",
    "    used_row=[]\n",
    "    occurred_change = 0\n",
    "    all_changed = 1\n",
    "    change_done=False\n",
    "    x_train_changed = np.copy(x_train)\n",
    "    \n",
    "    for i in range(len(change_plan[\"key\"])):\n",
    "        occurred_change = 0\n",
    "        \n",
    "        indices = [t for t, x in enumerate(y_train) if x == change_plan[\"key\"][i][0]]\n",
    "        print(\"{} rows have target {} \\n\".format(len(indices),change_plan[\"key\"][i][0]))\n",
    "        \n",
    "        \n",
    "        for p in range (len(indices)):\n",
    "            if (all_changed == number_change_requested +1):\n",
    "                print(\"your requests have been done :)\")\n",
    "                break\n",
    "            if (occurred_change == change_plan[\"number\"][i]):\n",
    "                print(\"part of your request has been done!\")\n",
    "                break\n",
    "                \n",
    "                \n",
    "            if y_train[indices[p]] == mnb.predict([x_train[indices[p]]])  and  indices[p] not in used_row :\n",
    "                \n",
    "\n",
    "                change_done=False\n",
    "                for L in range(0, len(x_train_changed[indices[p]])+1):\n",
    "                    if change_done:\n",
    "\n",
    "                        break\n",
    "                    else:\n",
    "                        for subset in combinations_index(x_train_changed[indices[p]], L):\n",
    "                            if not subset:\n",
    "                                pass\n",
    "                            else:\n",
    "\n",
    "                                x_train_changed[indices[p]][subset] = 0\n",
    "\n",
    "                                if (change_plan[\"key\"][i][1] == mnb.predict([x_train_changed[indices[p]]])[0]):\n",
    "\n",
    "                                    print(x_train[indices[p]],mnb.predict([x_train[indices[p]]])[0])\n",
    "                                    print(x_train_changed[indices[p]],mnb.predict([x_train_changed[indices[p]]])[0])\n",
    "                                    print(\" \\n change number {} \\n\".format(all_changed))\n",
    "                                    \n",
    "                                    used_row.append(indices[p])\n",
    "                                    occurred_change=occurred_change + 1\n",
    "                                    change_done=True\n",
    "                                    all_changed=all_changed + 1\n",
    "                                    break\n",
    "\n",
    "                                else:\n",
    "                                    x_train_changed[indices[p]]= np.copy(x_train[indices[p]])\n",
    "\n",
    "    if (all_changed<=number_change_requested):\n",
    "        print(\"your request doesn't complete! please change your plan\")\n",
    "    return np.copy(x_train_changed)\n",
    "\n"
   ]
  },
  {
   "cell_type": "markdown",
   "metadata": {},
   "source": [
    "# -10% - iris test data"
   ]
  },
  {
   "cell_type": "code",
   "execution_count": null,
   "metadata": {},
   "outputs": [],
   "source": [
    "import time\n",
    "start = time.time()\n",
    "\n",
    "change_plan={\"key\":[[0,2],[1,2]],\"number\":[5,4]}\n",
    "new_check_all_combination_change_plan=check_all_combination_change_plan(x_test_iris,y_test_iris,30,mnb,change_plan)\n",
    "end = time.time()\n",
    "print(\"-----------------------------------------------------------\")\n",
    "\n",
    "print(\"\\n your execuation time is {} \\n\".format(end - start))\n",
    "\n",
    "print(\"-----------------------------------------------------------\")\n",
    "y_new_check_all_combination_change_plan =mnb.predict(new_check_all_combination_change_plan)\n",
    "\n",
    "print (\"Accuracy is {}\".format(accuracy_score(y_test_iris, y_new_check_all_combination_change_plan)))\n",
    "confusion_matrix(y_test_iris,y_new_check_all_combination_change_plan)"
   ]
  },
  {
   "cell_type": "markdown",
   "metadata": {},
   "source": [
    "# -10% - iris train data "
   ]
  },
  {
   "cell_type": "code",
   "execution_count": null,
   "metadata": {},
   "outputs": [],
   "source": [
    "import time\n",
    "start = time.time()\n",
    "\n",
    "change_plan={\"key\":[[0,2],[1,2]],\"number\":[18,18]}\n",
    "out_train_10_iris=check_all_combination_change_plan(x_train_iris,y_train_iris,30,mnb,change_plan)\n",
    "end = time.time()\n",
    "print(\"-----------------------------------------------------------\")\n",
    "\n",
    "print(\"\\n your execuation time is {} \\n\".format(end - start))\n",
    "\n",
    "print(\"-----------------------------------------------------------\")\n",
    "y_out_train_10_iris = mnb.predict(out_train_10_iris)\n",
    "\n",
    "print (\"Accuracy is {}\".format(accuracy_score(y_train_iris, y_out_train_10_iris)))\n",
    "confusion_matrix(y_train_iris, y_out_train_10_iris)"
   ]
  },
  {
   "cell_type": "markdown",
   "metadata": {},
   "source": [
    "# load abalone dataset"
   ]
  },
  {
   "cell_type": "code",
   "execution_count": 6,
   "metadata": {},
   "outputs": [
    {
     "name": "stdout",
     "output_type": "stream",
     "text": [
      "Number of samples: 4177\n",
      "Accuracy of SVM classifier on training set: 0.24\n",
      "Accuracy of SVM classifier on test set: 0.23\n"
     ]
    }
   ],
   "source": [
    "column_names = [\"sex\", \"length\", \"diameter\", \"height\", \"whole weight\", \n",
    "                \"shucked weight\", \"viscera weight\", \"shell weight\", \"rings\"]\n",
    "data = pd.read_csv(\"abalone.data\", names=column_names)\n",
    "print(\"Number of samples: %d\" % len(data))\n",
    "\n",
    "# for more complicated cases use sklearn.feature_extraction.DictVectorizer\n",
    "for label in \"MFI\":\n",
    "    data[label] = data[\"sex\"] == label\n",
    "del data[\"sex\"]\n",
    "\n",
    "data[\"M\"]=pd.Series(np.where(data.M.values == True, int(1), int(0)),data.index)\n",
    "data[\"F\"]=pd.Series(np.where(data.F.values == True, int(1), int(0)),data.index)\n",
    "data[\"I\"]=pd.Series(np.where(data.I.values == True, int(1), int(0)),data.index)\n",
    "\n",
    "\n",
    "y = data.rings.values\n",
    "\n",
    "del data[\"rings\"] # remove rings from data, so we can convert all the dataframe to a numpy 2D array.\n",
    "X = data.values.astype(np.float)\n",
    "\n",
    "\n",
    "from sklearn import cross_validation\n",
    "x_train_abalone, x_test_abalone, y_train_abalone, y_test_abalone = cross_validation.train_test_split(X, y) # splits 75%/25% by default\n",
    "\n",
    "\n",
    "\n",
    "from sklearn.svm import SVC\n",
    "svm = SVC()\n",
    "svm.fit(x_train_abalone, y_train_abalone)\n",
    "print('Accuracy of SVM classifier on training set: {:.2f}'\n",
    "     .format(svm.score(x_train_abalone, y_train_abalone)))\n",
    "print('Accuracy of SVM classifier on test set: {:.2f}'\n",
    "     .format(svm.score(x_test_abalone, y_test_abalone)))"
   ]
  },
  {
   "cell_type": "code",
   "execution_count": 7,
   "metadata": {},
   "outputs": [
    {
     "data": {
      "text/plain": [
       "array([[ 0.43 ,  0.325,  0.1  , ...,  0.   ,  0.   ,  1.   ],\n",
       "       [ 0.65 ,  0.545,  0.23 , ...,  0.   ,  1.   ,  0.   ],\n",
       "       [ 0.585,  0.435,  0.14 , ...,  0.   ,  1.   ,  0.   ],\n",
       "       ..., \n",
       "       [ 0.72 ,  0.595,  0.225, ...,  0.   ,  1.   ,  0.   ],\n",
       "       [ 0.48 ,  0.37 ,  0.125, ...,  0.   ,  0.   ,  1.   ],\n",
       "       [ 0.635,  0.5  ,  0.17 , ...,  1.   ,  0.   ,  0.   ]])"
      ]
     },
     "execution_count": 7,
     "metadata": {},
     "output_type": "execute_result"
    }
   ],
   "source": [
    "x_train_abalone"
   ]
  },
  {
   "cell_type": "markdown",
   "metadata": {},
   "source": [
    "# -10% - test abalone dataset"
   ]
  },
  {
   "cell_type": "code",
   "execution_count": null,
   "metadata": {},
   "outputs": [],
   "source": [
    "x=[]\n",
    "for i in range(10):\n",
    "    for j in range(10):\n",
    "        if i!=j:\n",
    "            x.append([i,j])\n",
    "print (x)"
   ]
  },
  {
   "cell_type": "code",
   "execution_count": null,
   "metadata": {},
   "outputs": [],
   "source": [
    "a=[]\n",
    "for tt in range(90):\n",
    "    a.append(10)\n",
    "print(a)"
   ]
  },
  {
   "cell_type": "code",
   "execution_count": null,
   "metadata": {},
   "outputs": [],
   "source": [
    "import time\n",
    "start = time.time()\n",
    "\n",
    "change_plan={\"key\":[[0, 1], [0, 2], [0, 3], [0, 4], [0, 5], [0, 6], [0, 7], [0, 8], [0, 9], [0, 10], [0, 11], [0, 12], [0, 13], [0, 14], [0, 15], [0, 16], [0, 17], [0, 18], [0, 19], [0, 20], [0, 21], [0, 22], [0, 23], [0, 24], [0, 25], [0, 26], [0, 27], [0, 28], [0, 29], [1, 0], [1, 2], [1, 3], [1, 4], [1, 5], [1, 6], [1, 7], [1, 8], [1, 9], [1, 10], [1, 11], [1, 12], [1, 13], [1, 14], [1, 15], [1, 16], [1, 17], [1, 18], [1, 19], [1, 20], [1, 21], [1, 22], [1, 23], [1, 24], [1, 25], [1, 26], [1, 27], [1, 28], [1, 29], [2, 0], [2, 1], [2, 3], [2, 4], [2, 5], [2, 6], [2, 7], [2, 8], [2, 9], [2, 10], [2, 11], [2, 12], [2, 13], [2, 14], [2, 15], [2, 16], [2, 17], [2, 18], [2, 19], [2, 20], [2, 21], [2, 22], [2, 23], [2, 24], [2, 25], [2, 26], [2, 27], [2, 28], [2, 29], [3, 0], [3, 1], [3, 2], [3, 4], [3, 5], [3, 6], [3, 7], [3, 8], [3, 9], [3, 10], [3, 11], [3, 12], [3, 13], [3, 14], [3, 15], [3, 16], [3, 17], [3, 18], [3, 19], [3, 20], [3, 21], [3, 22], [3, 23], [3, 24], [3, 25], [3, 26], [3, 27], [3, 28], [3, 29], [4, 0], [4, 1], [4, 2], [4, 3], [4, 5], [4, 6], [4, 7], [4, 8], [4, 9], [4, 10], [4, 11], [4, 12], [4, 13], [4, 14], [4, 15], [4, 16], [4, 17], [4, 18], [4, 19], [4, 20], [4, 21], [4, 22], [4, 23], [4, 24], [4, 25], [4, 26], [4, 27], [4, 28], [4, 29], [5, 0], [5, 1], [5, 2], [5, 3], [5, 4], [5, 6], [5, 7], [5, 8], [5, 9], [5, 10], [5, 11], [5, 12], [5, 13], [5, 14], [5, 15], [5, 16], [5, 17], [5, 18], [5, 19], [5, 20], [5, 21], [5, 22], [5, 23], [5, 24], [5, 25], [5, 26], [5, 27], [5, 28], [5, 29], [6, 0], [6, 1], [6, 2], [6, 3], [6, 4], [6, 5], [6, 7], [6, 8], [6, 9], [6, 10], [6, 11], [6, 12], [6, 13], [6, 14], [6, 15], [6, 16], [6, 17], [6, 18], [6, 19], [6, 20], [6, 21], [6, 22], [6, 23], [6, 24], [6, 25], [6, 26], [6, 27], [6, 28], [6, 29], [7, 0], [7, 1], [7, 2], [7, 3], [7, 4], [7, 5], [7, 6], [7, 8], [7, 9], [7, 10], [7, 11], [7, 12], [7, 13], [7, 14], [7, 15], [7, 16], [7, 17], [7, 18], [7, 19], [7, 20], [7, 21], [7, 22], [7, 23], [7, 24], [7, 25], [7, 26], [7, 27], [7, 28], [7, 29], [8, 0], [8, 1], [8, 2], [8, 3], [8, 4], [8, 5], [8, 6], [8, 7], [8, 9], [8, 10], [8, 11], [8, 12], [8, 13], [8, 14], [8, 15], [8, 16], [8, 17], [8, 18], [8, 19], [8, 20], [8, 21], [8, 22], [8, 23], [8, 24], [8, 25], [8, 26], [8, 27], [8, 28], [8, 29], [9, 0], [9, 1], [9, 2], [9, 3], [9, 4], [9, 5], [9, 6], [9, 7], [9, 8], [9, 10], [9, 11], [9, 12], [9, 13], [9, 14], [9, 15], [9, 16], [9, 17], [9, 18], [9, 19], [9, 20], [9, 21], [9, 22], [9, 23], [9, 24], [9, 25], [9, 26], [9, 27], [9, 28], [9, 29], [10, 0], [10, 1], [10, 2], [10, 3], [10, 4], [10, 5], [10, 6], [10, 7], [10, 8], [10, 9], [10, 11], [10, 12], [10, 13], [10, 14], [10, 15], [10, 16], [10, 17], [10, 18], [10, 19], [10, 20], [10, 21], [10, 22], [10, 23], [10, 24], [10, 25], [10, 26], [10, 27], [10, 28], [10, 29], [11, 0], [11, 1], [11, 2], [11, 3], [11, 4], [11, 5], [11, 6], [11, 7], [11, 8], [11, 9], [11, 10], [11, 12], [11, 13], [11, 14], [11, 15], [11, 16], [11, 17], [11, 18], [11, 19], [11, 20], [11, 21], [11, 22], [11, 23], [11, 24], [11, 25], [11, 26], [11, 27], [11, 28], [11, 29], [12, 0], [12, 1], [12, 2], [12, 3], [12, 4], [12, 5], [12, 6], [12, 7], [12, 8], [12, 9], [12, 10], [12, 11], [12, 13], [12, 14], [12, 15], [12, 16], [12, 17], [12, 18], [12, 19], [12, 20], [12, 21], [12, 22], [12, 23], [12, 24], [12, 25], [12, 26], [12, 27], [12, 28], [12, 29], [13, 0], [13, 1], [13, 2], [13, 3], [13, 4], [13, 5], [13, 6], [13, 7], [13, 8], [13, 9], [13, 10], [13, 11], [13, 12], [13, 14], [13, 15], [13, 16], [13, 17], [13, 18], [13, 19], [13, 20], [13, 21], [13, 22], [13, 23], [13, 24], [13, 25], [13, 26], [13, 27], [13, 28], [13, 29], [14, 0], [14, 1], [14, 2], [14, 3], [14, 4], [14, 5], [14, 6], [14, 7], [14, 8], [14, 9], [14, 10], [14, 11], [14, 12], [14, 13], [14, 15], [14, 16], [14, 17], [14, 18], [14, 19], [14, 20], [14, 21], [14, 22], [14, 23], [14, 24], [14, 25], [14, 26], [14, 27], [14, 28], [14, 29], [15, 0], [15, 1], [15, 2], [15, 3], [15, 4], [15, 5], [15, 6], [15, 7], [15, 8], [15, 9], [15, 10], [15, 11], [15, 12], [15, 13], [15, 14], [15, 16], [15, 17], [15, 18], [15, 19], [15, 20], [15, 21], [15, 22], [15, 23], [15, 24], [15, 25], [15, 26], [15, 27], [15, 28], [15, 29], [16, 0], [16, 1], [16, 2], [16, 3], [16, 4], [16, 5], [16, 6], [16, 7], [16, 8], [16, 9], [16, 10], [16, 11], [16, 12], [16, 13], [16, 14], [16, 15], [16, 17], [16, 18], [16, 19], [16, 20], [16, 21], [16, 22], [16, 23], [16, 24], [16, 25], [16, 26], [16, 27], [16, 28], [16, 29], [17, 0], [17, 1], [17, 2], [17, 3], [17, 4], [17, 5], [17, 6], [17, 7], [17, 8], [17, 9], [17, 10], [17, 11], [17, 12], [17, 13], [17, 14], [17, 15], [17, 16], [17, 18], [17, 19], [17, 20], [17, 21], [17, 22], [17, 23], [17, 24], [17, 25], [17, 26], [17, 27], [17, 28], [17, 29], [18, 0], [18, 1], [18, 2], [18, 3], [18, 4], [18, 5], [18, 6], [18, 7], [18, 8], [18, 9], [18, 10], [18, 11], [18, 12], [18, 13], [18, 14], [18, 15], [18, 16], [18, 17], [18, 19], [18, 20], [18, 21], [18, 22], [18, 23], [18, 24], [18, 25], [18, 26], [18, 27], [18, 28], [18, 29], [19, 0], [19, 1], [19, 2], [19, 3], [19, 4], [19, 5], [19, 6], [19, 7], [19, 8], [19, 9], [19, 10], [19, 11], [19, 12], [19, 13], [19, 14], [19, 15], [19, 16], [19, 17], [19, 18], [19, 20], [19, 21], [19, 22], [19, 23], [19, 24], [19, 25], [19, 26], [19, 27], [19, 28], [19, 29], [20, 0], [20, 1], [20, 2], [20, 3], [20, 4], [20, 5], [20, 6], [20, 7], [20, 8], [20, 9], [20, 10], [20, 11], [20, 12], [20, 13], [20, 14], [20, 15], [20, 16], [20, 17], [20, 18], [20, 19], [20, 21], [20, 22], [20, 23], [20, 24], [20, 25], [20, 26], [20, 27], [20, 28], [20, 29], [21, 0], [21, 1], [21, 2], [21, 3], [21, 4], [21, 5], [21, 6], [21, 7], [21, 8], [21, 9], [21, 10], [21, 11], [21, 12], [21, 13], [21, 14], [21, 15], [21, 16], [21, 17], [21, 18], [21, 19], [21, 20], [21, 22], [21, 23], [21, 24], [21, 25], [21, 26], [21, 27], [21, 28], [21, 29], [22, 0], [22, 1], [22, 2], [22, 3], [22, 4], [22, 5], [22, 6], [22, 7], [22, 8], [22, 9], [22, 10], [22, 11], [22, 12], [22, 13], [22, 14], [22, 15], [22, 16], [22, 17], [22, 18], [22, 19], [22, 20], [22, 21], [22, 23], [22, 24], [22, 25], [22, 26], [22, 27], [22, 28], [22, 29], [23, 0], [23, 1], [23, 2], [23, 3], [23, 4], [23, 5], [23, 6], [23, 7], [23, 8], [23, 9], [23, 10], [23, 11], [23, 12], [23, 13], [23, 14], [23, 15], [23, 16], [23, 17], [23, 18], [23, 19], [23, 20], [23, 21], [23, 22], [23, 24], [23, 25], [23, 26], [23, 27], [23, 28], [23, 29], [24, 0], [24, 1], [24, 2], [24, 3], [24, 4], [24, 5], [24, 6], [24, 7], [24, 8], [24, 9], [24, 10], [24, 11], [24, 12], [24, 13], [24, 14], [24, 15], [24, 16], [24, 17], [24, 18], [24, 19], [24, 20], [24, 21], [24, 22], [24, 23], [24, 25], [24, 26], [24, 27], [24, 28], [24, 29], [25, 0], [25, 1], [25, 2], [25, 3], [25, 4], [25, 5], [25, 6], [25, 7], [25, 8], [25, 9], [25, 10], [25, 11], [25, 12], [25, 13], [25, 14], [25, 15], [25, 16], [25, 17], [25, 18], [25, 19], [25, 20], [25, 21], [25, 22], [25, 23], [25, 24], [25, 26], [25, 27], [25, 28], [25, 29], [26, 0], [26, 1], [26, 2], [26, 3], [26, 4], [26, 5], [26, 6], [26, 7], [26, 8], [26, 9], [26, 10], [26, 11], [26, 12], [26, 13], [26, 14], [26, 15], [26, 16], [26, 17], [26, 18], [26, 19], [26, 20], [26, 21], [26, 22], [26, 23], [26, 24], [26, 25], [26, 27], [26, 28], [26, 29], [27, 0], [27, 1], [27, 2], [27, 3], [27, 4], [27, 5], [27, 6], [27, 7], [27, 8], [27, 9], [27, 10], [27, 11], [27, 12], [27, 13], [27, 14], [27, 15], [27, 16], [27, 17], [27, 18], [27, 19], [27, 20], [27, 21], [27, 22], [27, 23], [27, 24], [27, 25], [27, 26], [27, 28], [27, 29], [28, 0], [28, 1], [28, 2], [28, 3], [28, 4], [28, 5], [28, 6], [28, 7], [28, 8], [28, 9], [28, 10], [28, 11], [28, 12], [28, 13], [28, 14], [28, 15], [28, 16], [28, 17], [28, 18], [28, 19], [28, 20], [28, 21], [28, 22], [28, 23], [28, 24], [28, 25], [28, 26], [28, 27], [28, 29], [29, 0], [29, 1], [29, 2], [29, 3], [29, 4], [29, 5], [29, 6], [29, 7], [29, 8], [29, 9], [29, 10], [29, 11], [29, 12], [29, 13], [29, 14], [29, 15], [29, 16], [29, 17], [29, 18], [29, 19], [29, 20], [29, 21], [29, 22], [29, 23], [29, 24], [29, 25], [29, 26], [29, 27], [29, 28]],\"number\":[81,23]}\n",
    "out_test_10_abalone=check_all_combination(x_test_abalone,y_test_abalone,20,svm,change_plan)\n",
    "end = time.time()\n",
    "print(\"-----------------------------------------------------------\")\n",
    "\n",
    "print(\"\\n your execuation time is {} \\n\".format(end - start))\n",
    "\n",
    "print(\"-----------------------------------------------------------\")\n",
    "y_out_test_10_abalone = svm.predict(out_test_10_abalone)\n",
    "\n",
    "print (\"Accuracy is {}\".format(accuracy_score(y_test_abalone, y_out_test_10_abalone)))\n",
    "confusion_matrix(y_test_abalone, y_out_test_10_abalone)"
   ]
  },
  {
   "cell_type": "markdown",
   "metadata": {},
   "source": [
    "# -10% - training abalone dataset"
   ]
  },
  {
   "cell_type": "code",
   "execution_count": null,
   "metadata": {},
   "outputs": [],
   "source": [
    "import time\n",
    "start = time.time()\n",
    "\n",
    "change_plan={\"key\":[[0, 1], [0, 2], [0, 3], [0, 4], [0, 5], [0, 6], [0, 7], [0, 8], [0, 9], [0, 10], [0, 11], [0, 12], [0, 13], [0, 14], [0, 15], [0, 16], [0, 17], [0, 18], [0, 19], [0, 20], [0, 21], [0, 22], [0, 23], [0, 24], [0, 25], [0, 26], [0, 27], [0, 28], [0, 29], [1, 0], [1, 2], [1, 3], [1, 4], [1, 5], [1, 6], [1, 7], [1, 8], [1, 9], [1, 10], [1, 11], [1, 12], [1, 13], [1, 14], [1, 15], [1, 16], [1, 17], [1, 18], [1, 19], [1, 20], [1, 21], [1, 22], [1, 23], [1, 24], [1, 25], [1, 26], [1, 27], [1, 28], [1, 29], [2, 0], [2, 1], [2, 3], [2, 4], [2, 5], [2, 6], [2, 7], [2, 8], [2, 9], [2, 10], [2, 11], [2, 12], [2, 13], [2, 14], [2, 15], [2, 16], [2, 17], [2, 18], [2, 19], [2, 20], [2, 21], [2, 22], [2, 23], [2, 24], [2, 25], [2, 26], [2, 27], [2, 28], [2, 29], [3, 0], [3, 1], [3, 2], [3, 4], [3, 5], [3, 6], [3, 7], [3, 8], [3, 9], [3, 10], [3, 11], [3, 12], [3, 13], [3, 14], [3, 15], [3, 16], [3, 17], [3, 18], [3, 19], [3, 20], [3, 21], [3, 22], [3, 23], [3, 24], [3, 25], [3, 26], [3, 27], [3, 28], [3, 29], [4, 0], [4, 1], [4, 2], [4, 3], [4, 5], [4, 6], [4, 7], [4, 8], [4, 9], [4, 10], [4, 11], [4, 12], [4, 13], [4, 14], [4, 15], [4, 16], [4, 17], [4, 18], [4, 19], [4, 20], [4, 21], [4, 22], [4, 23], [4, 24], [4, 25], [4, 26], [4, 27], [4, 28], [4, 29], [5, 0], [5, 1], [5, 2], [5, 3], [5, 4], [5, 6], [5, 7], [5, 8], [5, 9], [5, 10], [5, 11], [5, 12], [5, 13], [5, 14], [5, 15], [5, 16], [5, 17], [5, 18], [5, 19], [5, 20], [5, 21], [5, 22], [5, 23], [5, 24], [5, 25], [5, 26], [5, 27], [5, 28], [5, 29], [6, 0], [6, 1], [6, 2], [6, 3], [6, 4], [6, 5], [6, 7], [6, 8], [6, 9], [6, 10], [6, 11], [6, 12], [6, 13], [6, 14], [6, 15], [6, 16], [6, 17], [6, 18], [6, 19], [6, 20], [6, 21], [6, 22], [6, 23], [6, 24], [6, 25], [6, 26], [6, 27], [6, 28], [6, 29], [7, 0], [7, 1], [7, 2], [7, 3], [7, 4], [7, 5], [7, 6], [7, 8], [7, 9], [7, 10], [7, 11], [7, 12], [7, 13], [7, 14], [7, 15], [7, 16], [7, 17], [7, 18], [7, 19], [7, 20], [7, 21], [7, 22], [7, 23], [7, 24], [7, 25], [7, 26], [7, 27], [7, 28], [7, 29], [8, 0], [8, 1], [8, 2], [8, 3], [8, 4], [8, 5], [8, 6], [8, 7], [8, 9], [8, 10], [8, 11], [8, 12], [8, 13], [8, 14], [8, 15], [8, 16], [8, 17], [8, 18], [8, 19], [8, 20], [8, 21], [8, 22], [8, 23], [8, 24], [8, 25], [8, 26], [8, 27], [8, 28], [8, 29], [9, 0], [9, 1], [9, 2], [9, 3], [9, 4], [9, 5], [9, 6], [9, 7], [9, 8], [9, 10], [9, 11], [9, 12], [9, 13], [9, 14], [9, 15], [9, 16], [9, 17], [9, 18], [9, 19], [9, 20], [9, 21], [9, 22], [9, 23], [9, 24], [9, 25], [9, 26], [9, 27], [9, 28], [9, 29], [10, 0], [10, 1], [10, 2], [10, 3], [10, 4], [10, 5], [10, 6], [10, 7], [10, 8], [10, 9], [10, 11], [10, 12], [10, 13], [10, 14], [10, 15], [10, 16], [10, 17], [10, 18], [10, 19], [10, 20], [10, 21], [10, 22], [10, 23], [10, 24], [10, 25], [10, 26], [10, 27], [10, 28], [10, 29], [11, 0], [11, 1], [11, 2], [11, 3], [11, 4], [11, 5], [11, 6], [11, 7], [11, 8], [11, 9], [11, 10], [11, 12], [11, 13], [11, 14], [11, 15], [11, 16], [11, 17], [11, 18], [11, 19], [11, 20], [11, 21], [11, 22], [11, 23], [11, 24], [11, 25], [11, 26], [11, 27], [11, 28], [11, 29], [12, 0], [12, 1], [12, 2], [12, 3], [12, 4], [12, 5], [12, 6], [12, 7], [12, 8], [12, 9], [12, 10], [12, 11], [12, 13], [12, 14], [12, 15], [12, 16], [12, 17], [12, 18], [12, 19], [12, 20], [12, 21], [12, 22], [12, 23], [12, 24], [12, 25], [12, 26], [12, 27], [12, 28], [12, 29], [13, 0], [13, 1], [13, 2], [13, 3], [13, 4], [13, 5], [13, 6], [13, 7], [13, 8], [13, 9], [13, 10], [13, 11], [13, 12], [13, 14], [13, 15], [13, 16], [13, 17], [13, 18], [13, 19], [13, 20], [13, 21], [13, 22], [13, 23], [13, 24], [13, 25], [13, 26], [13, 27], [13, 28], [13, 29], [14, 0], [14, 1], [14, 2], [14, 3], [14, 4], [14, 5], [14, 6], [14, 7], [14, 8], [14, 9], [14, 10], [14, 11], [14, 12], [14, 13], [14, 15], [14, 16], [14, 17], [14, 18], [14, 19], [14, 20], [14, 21], [14, 22], [14, 23], [14, 24], [14, 25], [14, 26], [14, 27], [14, 28], [14, 29], [15, 0], [15, 1], [15, 2], [15, 3], [15, 4], [15, 5], [15, 6], [15, 7], [15, 8], [15, 9], [15, 10], [15, 11], [15, 12], [15, 13], [15, 14], [15, 16], [15, 17], [15, 18], [15, 19], [15, 20], [15, 21], [15, 22], [15, 23], [15, 24], [15, 25], [15, 26], [15, 27], [15, 28], [15, 29], [16, 0], [16, 1], [16, 2], [16, 3], [16, 4], [16, 5], [16, 6], [16, 7], [16, 8], [16, 9], [16, 10], [16, 11], [16, 12], [16, 13], [16, 14], [16, 15], [16, 17], [16, 18], [16, 19], [16, 20], [16, 21], [16, 22], [16, 23], [16, 24], [16, 25], [16, 26], [16, 27], [16, 28], [16, 29], [17, 0], [17, 1], [17, 2], [17, 3], [17, 4], [17, 5], [17, 6], [17, 7], [17, 8], [17, 9], [17, 10], [17, 11], [17, 12], [17, 13], [17, 14], [17, 15], [17, 16], [17, 18], [17, 19], [17, 20], [17, 21], [17, 22], [17, 23], [17, 24], [17, 25], [17, 26], [17, 27], [17, 28], [17, 29], [18, 0], [18, 1], [18, 2], [18, 3], [18, 4], [18, 5], [18, 6], [18, 7], [18, 8], [18, 9], [18, 10], [18, 11], [18, 12], [18, 13], [18, 14], [18, 15], [18, 16], [18, 17], [18, 19], [18, 20], [18, 21], [18, 22], [18, 23], [18, 24], [18, 25], [18, 26], [18, 27], [18, 28], [18, 29], [19, 0], [19, 1], [19, 2], [19, 3], [19, 4], [19, 5], [19, 6], [19, 7], [19, 8], [19, 9], [19, 10], [19, 11], [19, 12], [19, 13], [19, 14], [19, 15], [19, 16], [19, 17], [19, 18], [19, 20], [19, 21], [19, 22], [19, 23], [19, 24], [19, 25], [19, 26], [19, 27], [19, 28], [19, 29], [20, 0], [20, 1], [20, 2], [20, 3], [20, 4], [20, 5], [20, 6], [20, 7], [20, 8], [20, 9], [20, 10], [20, 11], [20, 12], [20, 13], [20, 14], [20, 15], [20, 16], [20, 17], [20, 18], [20, 19], [20, 21], [20, 22], [20, 23], [20, 24], [20, 25], [20, 26], [20, 27], [20, 28], [20, 29], [21, 0], [21, 1], [21, 2], [21, 3], [21, 4], [21, 5], [21, 6], [21, 7], [21, 8], [21, 9], [21, 10], [21, 11], [21, 12], [21, 13], [21, 14], [21, 15], [21, 16], [21, 17], [21, 18], [21, 19], [21, 20], [21, 22], [21, 23], [21, 24], [21, 25], [21, 26], [21, 27], [21, 28], [21, 29], [22, 0], [22, 1], [22, 2], [22, 3], [22, 4], [22, 5], [22, 6], [22, 7], [22, 8], [22, 9], [22, 10], [22, 11], [22, 12], [22, 13], [22, 14], [22, 15], [22, 16], [22, 17], [22, 18], [22, 19], [22, 20], [22, 21], [22, 23], [22, 24], [22, 25], [22, 26], [22, 27], [22, 28], [22, 29], [23, 0], [23, 1], [23, 2], [23, 3], [23, 4], [23, 5], [23, 6], [23, 7], [23, 8], [23, 9], [23, 10], [23, 11], [23, 12], [23, 13], [23, 14], [23, 15], [23, 16], [23, 17], [23, 18], [23, 19], [23, 20], [23, 21], [23, 22], [23, 24], [23, 25], [23, 26], [23, 27], [23, 28], [23, 29], [24, 0], [24, 1], [24, 2], [24, 3], [24, 4], [24, 5], [24, 6], [24, 7], [24, 8], [24, 9], [24, 10], [24, 11], [24, 12], [24, 13], [24, 14], [24, 15], [24, 16], [24, 17], [24, 18], [24, 19], [24, 20], [24, 21], [24, 22], [24, 23], [24, 25], [24, 26], [24, 27], [24, 28], [24, 29], [25, 0], [25, 1], [25, 2], [25, 3], [25, 4], [25, 5], [25, 6], [25, 7], [25, 8], [25, 9], [25, 10], [25, 11], [25, 12], [25, 13], [25, 14], [25, 15], [25, 16], [25, 17], [25, 18], [25, 19], [25, 20], [25, 21], [25, 22], [25, 23], [25, 24], [25, 26], [25, 27], [25, 28], [25, 29], [26, 0], [26, 1], [26, 2], [26, 3], [26, 4], [26, 5], [26, 6], [26, 7], [26, 8], [26, 9], [26, 10], [26, 11], [26, 12], [26, 13], [26, 14], [26, 15], [26, 16], [26, 17], [26, 18], [26, 19], [26, 20], [26, 21], [26, 22], [26, 23], [26, 24], [26, 25], [26, 27], [26, 28], [26, 29], [27, 0], [27, 1], [27, 2], [27, 3], [27, 4], [27, 5], [27, 6], [27, 7], [27, 8], [27, 9], [27, 10], [27, 11], [27, 12], [27, 13], [27, 14], [27, 15], [27, 16], [27, 17], [27, 18], [27, 19], [27, 20], [27, 21], [27, 22], [27, 23], [27, 24], [27, 25], [27, 26], [27, 28], [27, 29], [28, 0], [28, 1], [28, 2], [28, 3], [28, 4], [28, 5], [28, 6], [28, 7], [28, 8], [28, 9], [28, 10], [28, 11], [28, 12], [28, 13], [28, 14], [28, 15], [28, 16], [28, 17], [28, 18], [28, 19], [28, 20], [28, 21], [28, 22], [28, 23], [28, 24], [28, 25], [28, 26], [28, 27], [28, 29], [29, 0], [29, 1], [29, 2], [29, 3], [29, 4], [29, 5], [29, 6], [29, 7], [29, 8], [29, 9], [29, 10], [29, 11], [29, 12], [29, 13], [29, 14], [29, 15], [29, 16], [29, 17], [29, 18], [29, 19], [29, 20], [29, 21], [29, 22], [29, 23], [29, 24], [29, 25], [29, 26], [29, 27], [29, 28]],\"number\":[81,23]}\n",
    "out_train_10_abalone=check_all_combination(x_train_abalone,y_train_abalone,20,svm,change_plan)\n",
    "end = time.time()\n",
    "print(\"-----------------------------------------------------------\")\n",
    "\n",
    "print(\"\\n your execuation time is {} \\n\".format(end - start))\n",
    "\n",
    "print(\"-----------------------------------------------------------\")\n",
    "y_out_train_10_abalone = svm.predict(out_train_10_abalone)\n",
    "\n",
    "print (\"Accuracy is {}\".format(accuracy_score(y_train_abalone, y_out_train_10_abalone)))\n",
    "confusion_matrix(y_train_abalone, y_out_train_10_abalone)"
   ]
  },
  {
   "cell_type": "code",
   "execution_count": null,
   "metadata": {},
   "outputs": [],
   "source": [
    "change_plan = {\"key\":[[9,7],[8,6]],\"number\":[10,10]}\n",
    "out=check_all_combination_change_plan(x_train_abalone,y_train_abalone,10,svm,change_plan)\n"
   ]
  },
  {
   "cell_type": "markdown",
   "metadata": {},
   "source": [
    "# change_all_combination\n",
    "- how many changes do we need per each row?\n",
    "- in this implementation, we change the rows with a minimum number of changes"
   ]
  },
  {
   "cell_type": "code",
   "execution_count": null,
   "metadata": {},
   "outputs": [],
   "source": [
    "def check_combination_change_plan_probability(x_train,y_train,percetage,mnb,change_plan):\n",
    "    number_change_requested = int(percetage/100*x_train.shape[0])\n",
    "    print(\"{} percentage error is equal to {} change \\n\".format(percetage,number_change_requested))\n",
    "    \n",
    "    used_row=[]\n",
    "    occurred_change = 0\n",
    "    all_changed = 1\n",
    "    change_done=False\n",
    "    x_train_changed = np.copy(x_train)\n",
    "    possible_changes={} # key: number of changes value:[row,[columns should change]]\n",
    "    \n",
    "    for i in range(len(change_plan[\"key\"])):\n",
    "        \n",
    "        occurred_change = 0\n",
    "        indices = [t for t, x in enumerate(y_train) if x == change_plan[\"key\"][i][0]]\n",
    "        possible_changes={x: [] for x in range(len(x_train[0])+1)}\n",
    "        print(\"{} rows have target {} \\n\".format(len(indices),change_plan[\"key\"][i][0]))\n",
    "            \n",
    "        for p in range (len(indices)):\n",
    "                \n",
    "            if y_train[indices[p]] == mnb.predict([x_train[indices[p]]])  and  indices[p] not in used_row :\n",
    "                change_done=False\n",
    "                for L in range(0, len(x_train_changed[indices[p]])+1):\n",
    "                    if change_done:\n",
    "                        break\n",
    "                    else:\n",
    "                        for subset in combinations_index(x_train_changed[indices[p]], L):\n",
    "                            if not subset:\n",
    "                                pass\n",
    "                            else:\n",
    "\n",
    "                                x_train_changed[indices[p]][subset] = 0\n",
    "\n",
    "                                if (change_plan[\"key\"][i][1] == mnb.predict([x_train_changed[indices[p]]])[0]):\n",
    "                                    possible_changes[len(subset)].append([indices[p],subset])\n",
    "                                    change_done=True\n",
    "                                    x_train_changed[indices[p]]= np.copy(x_train[indices[p]])\n",
    "                                    break\n",
    "                                else:\n",
    "                                    x_train_changed[indices[p]]= np.copy(x_train[indices[p]])\n",
    "\n",
    "        if(all(value == [] for value in possible_changes.values())):\n",
    "                print(\"part of your request not possible!\")\n",
    "                break\n",
    "            \n",
    "\n",
    "        for key in sorted(possible_changes):\n",
    "            if (occurred_change == change_plan[\"number\"][i]):\n",
    "                break\n",
    "            print(\"there are {} candidate for changing target with change {} features\".format(len(possible_changes[key]),key))\n",
    "            variable = possible_changes[key]\n",
    "            for t in range(len(variable)):\n",
    "\n",
    "                print(x_train[variable[t][0]],mnb.predict([x_train[variable[t][0]]])[0])\n",
    "\n",
    "                x_train_changed[variable[t][0]][variable[t][1]] = 0\n",
    "                print(x_train_changed[variable[t][0]],mnb.predict([x_train_changed[variable[t][0]]])[0])\n",
    "                print(\" \\n change number {} \\n\".format(all_changed))\n",
    "                used_row.append(variable[t][0])\n",
    "                occurred_change=occurred_change + 1\n",
    "                all_changed=all_changed + 1\n",
    "                if (occurred_change == change_plan[\"number\"][i]):\n",
    "                    print(\"part of your request has been done :)\")\n",
    "                    break\n",
    "                                    \n",
    "                                    \n",
    "    if (all_changed<=number_change_requested):\n",
    "        print(\"your request doesn't complete! please change your plan\")\n",
    "    else:\n",
    "        print(\"your request is done :)\")\n",
    "    return np.copy(x_train_changed)\n",
    "\n"
   ]
  },
  {
   "cell_type": "markdown",
   "metadata": {},
   "source": [
    "# iris dataset"
   ]
  },
  {
   "cell_type": "code",
   "execution_count": null,
   "metadata": {},
   "outputs": [],
   "source": [
    "import time\n",
    "start = time.time()\n",
    "\n",
    "change_plan={\"key\":[[0,2],[1,2]],\"number\":[5,4]}\n",
    "new_check_combination_change_plan_probability=check_combination_change_plan_probability(x_test_iris,y_test_iris,30,mnb,change_plan)\n",
    "end = time.time()\n",
    "print(\"-----------------------------------------------------------\")\n",
    "\n",
    "print(\"\\n your execuation time is {} \\n\".format(end - start))\n",
    "\n",
    "print(\"-----------------------------------------------------------\")\n",
    "y_check_combination_change_plan_probability =mnb.predict(new_check_combination_change_plan_probability)\n",
    "\n",
    "print (\"Accuracy is {}\".format(accuracy_score(y_test_iris, y_check_combination_change_plan_probability)))\n",
    "confusion_matrix(y_test_iris,y_check_combination_change_plan_probability)"
   ]
  },
  {
   "cell_type": "markdown",
   "metadata": {},
   "source": [
    "# abalone dataset"
   ]
  },
  {
   "cell_type": "code",
   "execution_count": null,
   "metadata": {},
   "outputs": [],
   "source": [
    "import time\n",
    "start = time.time()\n",
    "\n",
    "change_plan={\"key\":[[9,7],[8,6]],\"number\":[44,60]}\n",
    "new_check_combination_change_plan_probability=check_combination_change_plan_probability(x_test_abalone,y_test_abalone,10,svm,change_plan)\n",
    "end = time.time()\n",
    "print(\"-----------------------------------------------------------\")\n",
    "\n",
    "print(\"\\n your execuation time is {} \\n\".format(end - start))\n",
    "\n",
    "print(\"-----------------------------------------------------------\")\n",
    "y_check_combination_change_plan_probability =svm.predict(new_check_combination_change_plan_probability)\n",
    "\n",
    "print (\"Accuracy is {}\".format(accuracy_score(y_test_abalone, y_check_combination_change_plan_probability)))\n",
    "# confusion_matrix(y_test_iris,y_check_combination_change_plan_probability)"
   ]
  },
  {
   "cell_type": "markdown",
   "metadata": {},
   "source": [
    "# change_all_combination_feature"
   ]
  },
  {
   "cell_type": "code",
   "execution_count": null,
   "metadata": {},
   "outputs": [],
   "source": [
    "def check_combination_change_plan_features(x_train,y_train,percetage,mnb,change_plan):\n",
    "    number_change_requested = int(percetage/100*x_train.shape[0])\n",
    "    print(\"{} percentage error is equal to {} change \\n\".format(percetage,number_change_requested))\n",
    "    \n",
    "    used_row=[]\n",
    "    occurred_change = 0\n",
    "    all_changed = 1\n",
    "\n",
    "    x_train_changed = np.copy(x_train)\n",
    "    \n",
    "    for i in range(len(change_plan[\"key\"])):\n",
    "        \n",
    "        occurred_change = 0\n",
    "        indices = [t for t, x in enumerate(y_train) if x == change_plan[\"key\"][i][0]]\n",
    "        \n",
    "        print(\"{} rows have target {} \\n\".format(len(indices),change_plan[\"key\"][i][0]))\n",
    "            \n",
    "        \n",
    "        for L in range(0, len(x_train_changed[0])+1):\n",
    "            \n",
    "            for subset in combinations_index(x_train_changed[0], L):\n",
    "                if not subset:\n",
    "                    pass\n",
    "                else:\n",
    "                    if (occurred_change == change_plan[\"number\"][i]):\n",
    "#                         print(\"part of your request has been done :))))\")\n",
    "                        break\n",
    "                    print(\"change feature {} ----\".format(subset))\n",
    "                    for p in range (len(indices)):\n",
    "                        x_train_changed[indices[p]][subset] = 0\n",
    "\n",
    "                        if y_train[indices[p]] == mnb.predict([x_train[indices[p]]])  and  indices[p] not in used_row :\n",
    "\n",
    "                            if (change_plan[\"key\"][i][1] == mnb.predict([x_train_changed[indices[p]]])[0]):\n",
    "\n",
    "                                print(\"with change features number {} row number {} has been changed\".format(subset,indices[p]))\n",
    "                                print(x_train[indices[p]],mnb.predict([x_train[indices[p]]])[0])\n",
    "                                print(x_train_changed[indices[p]],mnb.predict([x_train_changed[indices[p]]])[0])\n",
    "\n",
    "                                print(\" \\n change number {} \\n\".format(all_changed))\n",
    "                                used_row.append(indices[p])\n",
    "                                occurred_change=occurred_change + 1\n",
    "                                all_changed=all_changed + 1\n",
    "\n",
    "\n",
    "                                if (occurred_change == change_plan[\"number\"][i]):\n",
    "                                    print(\"part of your request has been done :)\")\n",
    "                                    break\n",
    "                            else:\n",
    "                                x_train_changed[indices[p]]= np.copy(x_train[indices[p]])\n",
    "                        else:\n",
    "                            x_train_changed[indices[p]]= np.copy(x_train[indices[p]])\n",
    "        \n",
    "     \n",
    "                                    \n",
    "    if (all_changed<=number_change_requested):\n",
    "        print(\"your request doesn't complete! please change your plan\")\n",
    "    else:\n",
    "        print(\"your request is done :)\")\n",
    "    return np.copy(x_train_changed)\n",
    "\n"
   ]
  },
  {
   "cell_type": "code",
   "execution_count": null,
   "metadata": {},
   "outputs": [],
   "source": [
    "import time\n",
    "start = time.time()\n",
    "\n",
    "change_plan={\"key\":[[9,7],[8,6]],\"number\":[10,10]}\n",
    "new_check_combination_change_plan_features=check_combination_change_plan_features(x_test_abalone,y_test_abalone,10,svm,change_plan)\n",
    "end = time.time()\n",
    "print(\"-----------------------------------------------------------\")\n",
    "\n",
    "print(\"\\n your execuation time is {} \\n\".format(end - start))\n",
    "\n",
    "print(\"-----------------------------------------------------------\")\n",
    "y_check_combination_change_plan_features =svm.predict(new_check_combination_change_plan_features)\n",
    "\n",
    "print (\"Accuracy is {}\".format(accuracy_score(y_test_abalone, y_check_combination_change_plan_features)))"
   ]
  },
  {
   "cell_type": "code",
   "execution_count": null,
   "metadata": {},
   "outputs": [],
   "source": [
    "data_doreha = pd.read_csv(\"/home/milad/Downloads/dorothea/dorothea_train.data\", header=None, delimiter=\" \",error_bad_lines=False)"
   ]
  },
  {
   "cell_type": "code",
   "execution_count": null,
   "metadata": {},
   "outputs": [],
   "source": [
    "data_doreha.shape"
   ]
  },
  {
   "cell_type": "code",
   "execution_count": null,
   "metadata": {},
   "outputs": [],
   "source": [
    "alg2={1: 1, 52: 52, 159: 159, 161: 161, 219: 219, 325: 325, 475: 475, 537: 537, 608: 608, 645: 645, 663: 663, 789: 789, 813: 813, 846: 846, 902: 902, 913: 913, 1021: 1021, 1180: 1180, 1198: 1198, 1229: 1229, 1232: 1232, 1241: 1241, 1279: 1279, 1384: 1384, 1479: 1479, 1527: 1527, 1671: 1671, 1828: 1828, 1878: 1878, 1949: 1949, 2042: 2042, 118: 118, 238: 238, 248: 248, 268: 268, 296: 296, 438: 438, 515: 515, 600: 600, 731: 731, 799: 799, 845: 845, 937: 937, 1164: 1164, 1171: 1171, 1353: 1353, 1398: 1398, 1459: 1459, 1480: 1480, 1502: 1502, 1523: 1523, 1652: 1652, 1911: 1911, 1926: 1926, 1990: 1990, 2030: 2030, 2070: 2070, 271: 271, 466: 466, 504: 504, 525: 525, 680: 680, 792: 792, 1235: 1235, 1293: 1293, 1364: 1364, 1613: 1613, 1801: 1801, 133: 133, 145: 145, 148: 148, 173: 173, 177: 177, 197: 197, 213: 213, 233: 233, 300: 300, 306: 306, 345: 345, 365: 365, 375: 375, 385: 385, 419: 419, 456: 456, 457: 457, 494: 494, 501: 501, 503: 503, 507: 507, 528: 528, 535: 535, 559: 559, 633: 633, 656: 656, 661: 661, 719: 719, 778: 778, 782: 782, 785: 785, 858: 858, 912: 912, 927: 927, 977: 977, 979: 979, 1059: 1059, 1080: 1080, 1121: 1121, 1125: 1125, 1126: 1126, 1142: 1142, 1150: 1150, 1159: 1159, 1160: 1160, 1194: 1194, 1255: 1255, 1298: 1298, 1344: 1344, 1393: 1393, 1466: 1466, 1484: 1484, 1486: 1486, 1499: 1499, 1586: 1586, 1587: 1587, 1597: 1597, 1608: 1608, 1617: 1617, 1629: 1629, 1656: 1656, 1691: 1691, 1704: 1704, 1723: 1723, 1743: 1743, 1791: 1791, 1844: 1844, 1872: 1872, 1930: 1930, 1940: 1940, 1952: 1952, 1975: 1975, 4: 4, 9: 9, 25: 25, 34: 34, 43: 43, 89: 89, 108: 108, 113: 113, 124: 124, 153: 153, 174: 174, 175: 175, 179: 179, 182: 182, 183: 183, 223: 223, 287: 287, 337: 337, 338: 338, 358: 358, 427: 427, 468: 468, 506: 506, 532: 532, 533: 533, 538: 538, 577: 577, 612: 612, 665: 665, 693: 693, 833: 833, 862: 862, 884: 884, 909: 909, 930: 930, 960: 960, 987: 987, 1004: 1004, 1043: 1043, 1047: 1047, 17: 17, 23: 23, 60: 60, 63: 63, 72: 72, 91: 91, 95: 95, 98: 98, 99: 99, 106: 106, 198: 198, 208: 208, 231: 231, 250: 250, 256: 256, 259: 259, 288: 288, 294: 294, 321: 321, 391: 391, 394: 394, 403: 403, 412: 412, 445: 445, 449: 449, 474: 474, 479: 479, 481: 481}"
   ]
  },
  {
   "cell_type": "code",
   "execution_count": null,
   "metadata": {},
   "outputs": [],
   "source": [
    "alg1={1: 1, 52: 52, 118: 118, 159: 159, 161: 161, 219: 219, 238: 238, 248: 248, 268: 268, 296: 296, 325: 325, 438: 438, 475: 475, 515: 515, 537: 537, 600: 600, 608: 608, 645: 645, 663: 663, 731: 731, 789: 789, 799: 799, 813: 813, 845: 845, 846: 846, 902: 902, 913: 913, 937: 937, 1021: 1021, 1164: 1164, 1171: 1171, 1180: 1180, 1198: 1198, 1229: 1229, 1232: 1232, 1241: 1241, 1279: 1279, 1353: 1353, 1384: 1384, 1398: 1398, 1459: 1459, 1479: 1479, 1480: 1480, 1502: 1502, 1523: 1523, 1527: 1527, 1652: 1652, 1671: 1671, 1828: 1828, 1878: 1878, 1911: 1911, 1926: 1926, 1949: 1949, 1990: 1990, 2030: 2030, 2042: 2042, 2070: 2070, 133: 133, 145: 145, 148: 148, 173: 173, 177: 177, 197: 197, 213: 213, 233: 233, 271: 271, 300: 300, 306: 306, 345: 345, 365: 365, 375: 375, 385: 385, 419: 419, 456: 456, 457: 457, 466: 466, 494: 494, 501: 501, 503: 503, 504: 504, 507: 507, 525: 525, 528: 528, 535: 535, 559: 559, 633: 633, 656: 656, 661: 661, 680: 680, 719: 719, 778: 778, 782: 782, 785: 785, 792: 792, 858: 858, 912: 912, 927: 927, 977: 977, 979: 979, 1059: 1059, 1080: 1080, 1121: 1121, 1125: 1125, 1126: 1126, 1142: 1142, 1150: 1150, 1159: 1159, 1160: 1160, 1194: 1194, 1235: 1235, 1255: 1255, 1293: 1293, 1298: 1298, 1344: 1344, 1364: 1364, 1393: 1393, 1466: 1466, 1484: 1484, 1486: 1486, 1499: 1499, 1586: 1586, 1587: 1587, 1597: 1597, 1608: 1608, 1613: 1613, 1617: 1617, 1629: 1629, 1656: 1656, 1691: 1691, 1704: 1704, 1723: 1723, 1743: 1743, 1791: 1791, 1801: 1801, 1844: 1844, 1872: 1872, 1930: 1930, 1940: 1940, 1952: 1952, 1975: 1975, 4: 4, 9: 9, 25: 25, 34: 34, 40: 40, 43: 43, 49: 49, 71: 71, 89: 89, 108: 108, 113: 113, 124: 124, 136: 136, 153: 153, 174: 174, 175: 175, 176: 176, 179: 179, 182: 182, 183: 183, 189: 189, 201: 201, 202: 202, 204: 204, 223: 223, 287: 287, 337: 337, 338: 338, 358: 358, 427: 427, 468: 468, 506: 506, 532: 532, 533: 533, 538: 538, 546: 546, 577: 577, 612: 612, 638: 638, 665: 665, 17: 17, 23: 23, 60: 60, 63: 63, 72: 72, 91: 91, 95: 95, 98: 98, 99: 99, 106: 106, 198: 198, 208: 208, 231: 231, 250: 250, 256: 256, 259: 259, 288: 288, 294: 294, 321: 321, 391: 391, 394: 394, 403: 403, 412: 412, 445: 445, 449: 449, 474: 474, 479: 479, 481: 481}"
   ]
  },
  {
   "cell_type": "code",
   "execution_count": null,
   "metadata": {},
   "outputs": [],
   "source": [
    "algmost={219: 219, 1229: 1229, 1828: 1828, 1: 1, 52: 52, 159: 159, 161: 161, 325: 325, 475: 475, 537: 537, 608: 608, 645: 645, 663: 663, 789: 789, 813: 813, 846: 846, 902: 902, 913: 913, 1021: 1021, 1180: 1180, 1198: 1198, 1232: 1232, 1241: 1241, 1279: 1279, 1384: 1384, 1479: 1479, 1527: 1527, 1671: 1671, 1878: 1878, 1949: 1949, 2042: 2042, 118: 118, 238: 238, 248: 248, 268: 268, 296: 296, 438: 438, 515: 515, 600: 600, 731: 731, 799: 799, 845: 845, 937: 937, 1164: 1164, 1171: 1171, 1353: 1353, 1398: 1398, 1459: 1459, 1480: 1480, 1502: 1502, 1523: 1523, 1652: 1652, 1911: 1911, 1926: 1926, 1990: 1990, 2030: 2030, 2070: 2070, 271: 271, 466: 466, 504: 504, 525: 525, 680: 680, 792: 792, 1235: 1235, 1293: 1293, 1364: 1364, 1613: 1613, 1801: 1801, 133: 133, 145: 145, 148: 148, 173: 173, 177: 177, 197: 197, 213: 213, 233: 233, 300: 300, 306: 306, 345: 345, 365: 365, 375: 375, 385: 385, 419: 419, 456: 456, 457: 457, 494: 494, 501: 501, 503: 503, 507: 507, 528: 528, 535: 535, 559: 559, 633: 633, 656: 656, 661: 661, 719: 719, 778: 778, 782: 782, 785: 785, 858: 858, 912: 912, 927: 927, 977: 977, 979: 979, 1059: 1059, 1080: 1080, 1121: 1121, 1125: 1125, 1126: 1126, 1142: 1142, 1150: 1150, 1159: 1159, 1160: 1160, 1194: 1194, 1255: 1255, 1298: 1298, 1344: 1344, 1393: 1393, 1466: 1466, 1484: 1484, 1486: 1486, 1499: 1499, 1586: 1586, 1587: 1587, 1597: 1597, 1608: 1608, 1617: 1617, 1629: 1629, 1656: 1656, 1691: 1691, 1704: 1704, 1723: 1723, 1743: 1743, 1791: 1791, 1844: 1844, 1872: 1872, 1930: 1930, 1940: 1940, 1952: 1952, 1975: 1975, 9: 9, 223: 223, 506: 506, 693: 693, 1070: 1070, 1230: 1230, 1248: 1248, 1257: 1257, 4: 4, 25: 25, 34: 34, 43: 43, 89: 89, 108: 108, 113: 113, 124: 124, 153: 153, 174: 174, 175: 175, 179: 179, 182: 182, 183: 183, 287: 287, 337: 337, 338: 338, 358: 358, 427: 427, 468: 468, 532: 532, 533: 533, 538: 538, 577: 577, 612: 612, 665: 665, 833: 833, 862: 862, 884: 884, 909: 909, 930: 930, 960: 960, 17: 17, 23: 23, 60: 60, 63: 63, 72: 72, 91: 91, 95: 95, 98: 98, 99: 99, 106: 106, 198: 198, 208: 208, 231: 231, 250: 250, 256: 256, 259: 259, 288: 288, 294: 294, 321: 321, 391: 391, 394: 394, 403: 403, 412: 412, 445: 445, 449: 449, 474: 474, 479: 479, 481: 481}"
   ]
  },
  {
   "cell_type": "code",
   "execution_count": null,
   "metadata": {},
   "outputs": [],
   "source": [
    "for key in alg1:\n",
    "    if key in alg2:\n",
    "        pass\n",
    "    else:\n",
    "        print(key)\n",
    "print(\"####\")\n",
    "\n",
    "for key in alg2:\n",
    "    if key in alg1:\n",
    "        pass\n",
    "    else:\n",
    "        print(key)\n",
    "print(\"4$$$$$$\")\n",
    "for key in algmost:\n",
    "    if key in alg1:\n",
    "        pass\n",
    "    else:\n",
    "        print(key)        \n"
   ]
  },
  {
   "cell_type": "markdown",
   "metadata": {},
   "source": [
    "# EEG Dataset"
   ]
  },
  {
   "cell_type": "code",
   "execution_count": 2,
   "metadata": {},
   "outputs": [],
   "source": []
  },
  {
   "cell_type": "code",
   "execution_count": null,
   "metadata": {},
   "outputs": [],
   "source": []
  },
  {
   "cell_type": "code",
   "execution_count": 4,
   "metadata": {},
   "outputs": [],
   "source": []
  },
  {
   "cell_type": "code",
   "execution_count": null,
   "metadata": {},
   "outputs": [],
   "source": []
  },
  {
   "cell_type": "code",
   "execution_count": null,
   "metadata": {},
   "outputs": [],
   "source": []
  },
  {
   "cell_type": "code",
   "execution_count": 8,
   "metadata": {},
   "outputs": [],
   "source": [
    "\n"
   ]
  },
  {
   "cell_type": "code",
   "execution_count": null,
   "metadata": {},
   "outputs": [],
   "source": []
  },
  {
   "cell_type": "code",
   "execution_count": null,
   "metadata": {},
   "outputs": [],
   "source": []
  },
  {
   "cell_type": "code",
   "execution_count": null,
   "metadata": {},
   "outputs": [],
   "source": []
  },
  {
   "cell_type": "code",
   "execution_count": null,
   "metadata": {},
   "outputs": [],
   "source": []
  },
  {
   "cell_type": "code",
   "execution_count": null,
   "metadata": {},
   "outputs": [],
   "source": []
  },
  {
   "cell_type": "code",
   "execution_count": null,
   "metadata": {},
   "outputs": [],
   "source": []
  },
  {
   "cell_type": "code",
   "execution_count": null,
   "metadata": {},
   "outputs": [],
   "source": []
  },
  {
   "cell_type": "code",
   "execution_count": null,
   "metadata": {},
   "outputs": [],
   "source": []
  },
  {
   "cell_type": "code",
   "execution_count": null,
   "metadata": {},
   "outputs": [],
   "source": [
    "\n"
   ]
  },
  {
   "cell_type": "code",
   "execution_count": null,
   "metadata": {},
   "outputs": [],
   "source": []
  }
 ],
 "metadata": {
  "kernelspec": {
   "display_name": "Python 3",
   "language": "python",
   "name": "python3"
  },
  "language_info": {
   "codemirror_mode": {
    "name": "ipython",
    "version": 3
   },
   "file_extension": ".py",
   "mimetype": "text/x-python",
   "name": "python",
   "nbconvert_exporter": "python",
   "pygments_lexer": "ipython3",
   "version": "3.6.4"
  }
 },
 "nbformat": 4,
 "nbformat_minor": 2
}
